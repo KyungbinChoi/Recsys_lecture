{
 "cells": [
  {
   "cell_type": "markdown",
   "id": "44d3a4e0-8128-4fa5-a44e-94a0df1a97f2",
   "metadata": {
    "id": "44d3a4e0-8128-4fa5-a44e-94a0df1a97f2"
   },
   "source": [
    "# 과자 예시"
   ]
  },
  {
   "cell_type": "markdown",
   "id": "9a19abcb-6679-47db-bd11-93e2550d2ece",
   "metadata": {
    "id": "9a19abcb-6679-47db-bd11-93e2550d2ece"
   },
   "source": [
    "## 컨텐츠 기반 필터링"
   ]
  },
  {
   "cell_type": "code",
   "execution_count": 1,
   "id": "045079c1-0c4f-4c58-a06a-cd6f36c1b27e",
   "metadata": {
    "id": "045079c1-0c4f-4c58-a06a-cd6f36c1b27e",
    "outputId": "fcb68d8b-b544-4b32-a2f5-0eaa2946b21a"
   },
   "outputs": [
    {
     "name": "stdout",
     "output_type": "stream",
     "text": [
      "[[1.         0.66666667 0.40824829 0.81649658]\n",
      " [0.66666667 1.         0.81649658 0.40824829]\n",
      " [0.40824829 0.81649658 1.         0.        ]\n",
      " [0.81649658 0.40824829 0.         1.        ]]\n"
     ]
    }
   ],
   "source": [
    "import numpy as np\n",
    "from sklearn.metrics.pairwise import cosine_similarity\n",
    "\n",
    "# Define the matrix\n",
    "matrix = np.array([[1, 1, 1, 0],\n",
    "                   [1, 0, 1, 1],\n",
    "                   [1, 0, 0, 1],\n",
    "                   [0, 1, 1, 0]])\n",
    "\n",
    "# Calculate cosine similarity\n",
    "similarity_matrix = cosine_similarity(matrix)\n",
    "\n",
    "# Print the similarity matrix\n",
    "print(similarity_matrix)"
   ]
  },
  {
   "cell_type": "markdown",
   "id": "75886ba3-af6d-45f6-bb58-fb2c4167db5d",
   "metadata": {
    "id": "75886ba3-af6d-45f6-bb58-fb2c4167db5d"
   },
   "source": [
    "## Bag of Words 예제"
   ]
  },
  {
   "cell_type": "code",
   "execution_count": 2,
   "id": "ad5012ef-9b66-4516-8523-79e37dde89aa",
   "metadata": {
    "ExecuteTime": {
     "end_time": "2023-05-04T17:28:50.480439Z",
     "start_time": "2023-05-04T17:28:50.457435Z"
    },
    "colab": {
     "base_uri": "https://localhost:8080/",
     "height": 285
    },
    "executionInfo": {
     "elapsed": 12,
     "status": "ok",
     "timestamp": 1683437226512,
     "user": {
      "displayName": "Myeonghak Lee",
      "userId": "01376346143254624391"
     },
     "user_tz": -540
    },
    "id": "ad5012ef-9b66-4516-8523-79e37dde89aa",
    "outputId": "a3a2c05c-d320-43a0-9d0e-7cb4d96b1ec5"
   },
   "outputs": [
    {
     "name": "stdout",
     "output_type": "stream",
     "text": [
      "[['i', 'love', 'watching', 'movies'], ['i', 'enjoy', 'reading', 'books'], ['i', 'love', 'reading', 'and', 'watching', 'movies']]\n",
      "\n",
      "\n",
      "[Counter({'i': 1, 'love': 1, 'watching': 1, 'movies': 1}), Counter({'i': 1, 'enjoy': 1, 'reading': 1, 'books': 1}), Counter({'i': 1, 'love': 1, 'reading': 1, 'and': 1, 'watching': 1, 'movies': 1})]\n",
      "\n",
      "\n",
      "Bag of Words representation:\n"
     ]
    },
    {
     "data": {
      "text/html": [
       "<div>\n",
       "<style scoped>\n",
       "    .dataframe tbody tr th:only-of-type {\n",
       "        vertical-align: middle;\n",
       "    }\n",
       "\n",
       "    .dataframe tbody tr th {\n",
       "        vertical-align: top;\n",
       "    }\n",
       "\n",
       "    .dataframe thead th {\n",
       "        text-align: right;\n",
       "    }\n",
       "</style>\n",
       "<table border=\"1\" class=\"dataframe\">\n",
       "  <thead>\n",
       "    <tr style=\"text-align: right;\">\n",
       "      <th></th>\n",
       "      <th>i</th>\n",
       "      <th>love</th>\n",
       "      <th>watching</th>\n",
       "      <th>movies</th>\n",
       "      <th>enjoy</th>\n",
       "      <th>reading</th>\n",
       "      <th>books</th>\n",
       "      <th>and</th>\n",
       "    </tr>\n",
       "  </thead>\n",
       "  <tbody>\n",
       "    <tr>\n",
       "      <th>Document 1</th>\n",
       "      <td>1</td>\n",
       "      <td>1.0</td>\n",
       "      <td>1.0</td>\n",
       "      <td>1.0</td>\n",
       "      <td>0.0</td>\n",
       "      <td>0.0</td>\n",
       "      <td>0.0</td>\n",
       "      <td>0.0</td>\n",
       "    </tr>\n",
       "    <tr>\n",
       "      <th>Document 2</th>\n",
       "      <td>1</td>\n",
       "      <td>0.0</td>\n",
       "      <td>0.0</td>\n",
       "      <td>0.0</td>\n",
       "      <td>1.0</td>\n",
       "      <td>1.0</td>\n",
       "      <td>1.0</td>\n",
       "      <td>0.0</td>\n",
       "    </tr>\n",
       "    <tr>\n",
       "      <th>Document 3</th>\n",
       "      <td>1</td>\n",
       "      <td>1.0</td>\n",
       "      <td>1.0</td>\n",
       "      <td>1.0</td>\n",
       "      <td>0.0</td>\n",
       "      <td>1.0</td>\n",
       "      <td>0.0</td>\n",
       "      <td>1.0</td>\n",
       "    </tr>\n",
       "  </tbody>\n",
       "</table>\n",
       "</div>"
      ],
      "text/plain": [
       "            i  love  watching  movies  enjoy  reading  books  and\n",
       "Document 1  1   1.0       1.0     1.0    0.0      0.0    0.0  0.0\n",
       "Document 2  1   0.0       0.0     0.0    1.0      1.0    1.0  0.0\n",
       "Document 3  1   1.0       1.0     1.0    0.0      1.0    0.0  1.0"
      ]
     },
     "metadata": {},
     "output_type": "display_data"
    }
   ],
   "source": [
    "import pandas as pd\n",
    "from collections import Counter\n",
    "\n",
    "documents = [\n",
    "    \"I love watching movies\",\n",
    "    \"I enjoy reading books\",\n",
    "    \"I love reading and watching movies\"\n",
    "]\n",
    "\n",
    "# Preprocess sentences: lower case and tokenize\n",
    "tokenized_documents = [doc.lower().split() for doc in documents]\n",
    "print(tokenized_documents)\n",
    "\n",
    "print('\\n')\n",
    "# Calculate word frequencies for each document\n",
    "word_frequencies = [Counter(doc) for doc in tokenized_documents]\n",
    "print(word_frequencies)\n",
    "\n",
    "print('\\n')\n",
    "# Create a DataFrame to display the results\n",
    "bow_df = pd.DataFrame(word_frequencies, index=[\"Document 1\", \"Document 2\", \"Document 3\"]).fillna(0)\n",
    "print(\"Bag of Words representation:\")\n",
    "display(bow_df)\n"
   ]
  },
  {
   "cell_type": "markdown",
   "id": "796d48af-2490-4a53-87c4-d7d12390ada9",
   "metadata": {
    "id": "796d48af-2490-4a53-87c4-d7d12390ada9"
   },
   "source": [
    "## TF-IDF 예제"
   ]
  },
  {
   "attachments": {
    "image.png": {
     "image/png": "[encoded data removed]"
    }
   },
   "cell_type": "markdown",
   "id": "fcd2c354",
   "metadata": {},
   "source": [
    "![image.png](attachment:image.png)"
   ]
  },
  {
   "cell_type": "code",
   "execution_count": 3,
   "id": "d702719c",
   "metadata": {
    "ExecuteTime": {
     "end_time": "2023-05-04T17:28:08.951747Z",
     "start_time": "2023-05-04T17:28:08.638223Z"
    },
    "colab": {
     "base_uri": "https://localhost:8080/"
    },
    "executionInfo": {
     "elapsed": 373,
     "status": "ok",
     "timestamp": 1683437272213,
     "user": {
      "displayName": "Myeonghak Lee",
      "userId": "01376346143254624391"
     },
     "user_tz": -540
    },
    "id": "d702719c",
    "outputId": "945fb7ae-b2a5-413d-d0c1-5e434191f0e9"
   },
   "outputs": [
    {
     "name": "stdout",
     "output_type": "stream",
     "text": [
      "Tokenized Documents:\n",
      "[['i', 'love', 'watching', 'movies'], ['i', 'enjoy', 'reading', 'books'], ['i', 'love', 'reading', 'and', 'watching', 'movies']]\n"
     ]
    }
   ],
   "source": [
    "import pandas as pd\n",
    "import numpy as np\n",
    "from collections import Counter\n",
    "import math\n",
    "\n",
    "# Sample sentences\n",
    "documents = [\n",
    "    \"I love watching movies\",\n",
    "    \"I enjoy reading books\",\n",
    "    \"I love reading and watching movies\"\n",
    "]\n",
    "\n",
    "# Preprocess sentences: lower case and tokenize\n",
    "tokenized_documents = [doc.lower().split() for doc in documents]\n",
    "print(\"Tokenized Documents:\")\n",
    "print(tokenized_documents)"
   ]
  },
  {
   "cell_type": "code",
   "execution_count": 4,
   "id": "c929ef5a",
   "metadata": {
    "ExecuteTime": {
     "end_time": "2023-05-04T17:28:14.563004Z",
     "start_time": "2023-05-04T17:28:14.556002Z"
    },
    "id": "c929ef5a"
   },
   "outputs": [],
   "source": [
    "# Calculate term frequency\n",
    "def term_frequency(doc):\n",
    "\n",
    "    term_count = Counter(doc)\n",
    "    # Counter({'i': 1, 'love': 1, 'watching': 1, 'movies': 1})\n",
    "\n",
    "    total_terms = len(doc)\n",
    "    return {term: count / total_terms for term, count in term_count.items()}"
   ]
  },
  {
   "cell_type": "code",
   "execution_count": 5,
   "id": "38db264c",
   "metadata": {
    "ExecuteTime": {
     "end_time": "2023-05-04T17:28:44.554440Z",
     "start_time": "2023-05-04T17:28:44.538436Z"
    },
    "colab": {
     "base_uri": "https://localhost:8080/",
     "height": 250
    },
    "executionInfo": {
     "elapsed": 15,
     "status": "ok",
     "timestamp": 1683438708531,
     "user": {
      "displayName": "Myeonghak Lee",
      "userId": "01376346143254624391"
     },
     "user_tz": -540
    },
    "id": "38db264c",
    "outputId": "ba15d395-3862-4e2e-e01f-5eece1cdc2b8"
   },
   "outputs": [
    {
     "name": "stdout",
     "output_type": "stream",
     "text": [
      "[{'i': 0.25, 'love': 0.25, 'watching': 0.25, 'movies': 0.25}, {'i': 0.25, 'enjoy': 0.25, 'reading': 0.25, 'books': 0.25}, {'i': 0.16666666666666666, 'love': 0.16666666666666666, 'reading': 0.16666666666666666, 'and': 0.16666666666666666, 'watching': 0.16666666666666666, 'movies': 0.16666666666666666}]\n",
      "\n",
      "\n",
      "\n",
      "Term Frequencies DataFrame:\n"
     ]
    },
    {
     "data": {
      "text/html": [
       "<div>\n",
       "<style scoped>\n",
       "    .dataframe tbody tr th:only-of-type {\n",
       "        vertical-align: middle;\n",
       "    }\n",
       "\n",
       "    .dataframe tbody tr th {\n",
       "        vertical-align: top;\n",
       "    }\n",
       "\n",
       "    .dataframe thead th {\n",
       "        text-align: right;\n",
       "    }\n",
       "</style>\n",
       "<table border=\"1\" class=\"dataframe\">\n",
       "  <thead>\n",
       "    <tr style=\"text-align: right;\">\n",
       "      <th></th>\n",
       "      <th>i</th>\n",
       "      <th>love</th>\n",
       "      <th>watching</th>\n",
       "      <th>movies</th>\n",
       "      <th>enjoy</th>\n",
       "      <th>reading</th>\n",
       "      <th>books</th>\n",
       "      <th>and</th>\n",
       "    </tr>\n",
       "  </thead>\n",
       "  <tbody>\n",
       "    <tr>\n",
       "      <th>Document 1</th>\n",
       "      <td>0.250000</td>\n",
       "      <td>0.250000</td>\n",
       "      <td>0.250000</td>\n",
       "      <td>0.250000</td>\n",
       "      <td>0.00</td>\n",
       "      <td>0.000000</td>\n",
       "      <td>0.00</td>\n",
       "      <td>0.000000</td>\n",
       "    </tr>\n",
       "    <tr>\n",
       "      <th>Document 2</th>\n",
       "      <td>0.250000</td>\n",
       "      <td>0.000000</td>\n",
       "      <td>0.000000</td>\n",
       "      <td>0.000000</td>\n",
       "      <td>0.25</td>\n",
       "      <td>0.250000</td>\n",
       "      <td>0.25</td>\n",
       "      <td>0.000000</td>\n",
       "    </tr>\n",
       "    <tr>\n",
       "      <th>Document 3</th>\n",
       "      <td>0.166667</td>\n",
       "      <td>0.166667</td>\n",
       "      <td>0.166667</td>\n",
       "      <td>0.166667</td>\n",
       "      <td>0.00</td>\n",
       "      <td>0.166667</td>\n",
       "      <td>0.00</td>\n",
       "      <td>0.166667</td>\n",
       "    </tr>\n",
       "  </tbody>\n",
       "</table>\n",
       "</div>"
      ],
      "text/plain": [
       "                   i      love  watching    movies  enjoy   reading  books   \n",
       "Document 1  0.250000  0.250000  0.250000  0.250000   0.00  0.000000   0.00  \\\n",
       "Document 2  0.250000  0.000000  0.000000  0.000000   0.25  0.250000   0.25   \n",
       "Document 3  0.166667  0.166667  0.166667  0.166667   0.00  0.166667   0.00   \n",
       "\n",
       "                 and  \n",
       "Document 1  0.000000  \n",
       "Document 2  0.000000  \n",
       "Document 3  0.166667  "
      ]
     },
     "metadata": {},
     "output_type": "display_data"
    }
   ],
   "source": [
    "tf_values = [term_frequency(doc) for doc in tokenized_documents]\n",
    "\n",
    "print(tf_values)\n",
    "print('\\n')\n",
    "\n",
    "tf_df = pd.DataFrame(tf_values, index=[\"Document 1\", \"Document 2\", \"Document 3\"]).fillna(0)\n",
    "print(\"\\nTerm Frequencies DataFrame:\")\n",
    "display(tf_df)"
   ]
  },
  {
   "cell_type": "code",
   "execution_count": 6,
   "id": "4afe31d9",
   "metadata": {
    "ExecuteTime": {
     "end_time": "2023-05-04T17:28:19.754167Z",
     "start_time": "2023-05-04T17:28:19.746165Z"
    },
    "id": "4afe31d9"
   },
   "outputs": [],
   "source": [
    "# Calculate inverse document frequency\n",
    "def inverse_document_frequency(docs):\n",
    "    total_docs = len(docs)\n",
    "\n",
    "    # {'movies', 'enjoy', 'i', 'and', 'love', 'reading', 'watching', 'books'}\n",
    "    unique_terms = set(term for doc in docs for term in doc)\n",
    "\n",
    "    # {'movies': 2, 'enjoy': 1, 'i': 3, 'and': 1, 'love': 2, 'reading': 2, 'watching': 2, 'books': 1}\n",
    "    term_doc_counts = {term: sum(1 for doc in docs if term in doc) for term in unique_terms}\n",
    "\n",
    "    return {term: math.log(total_docs / count) for term, count in term_doc_counts.items()}"
   ]
  },
  {
   "cell_type": "code",
   "execution_count": 7,
   "id": "becc0f2d",
   "metadata": {
    "ExecuteTime": {
     "end_time": "2023-05-04T17:28:41.538765Z",
     "start_time": "2023-05-04T17:28:41.516759Z"
    },
    "colab": {
     "base_uri": "https://localhost:8080/",
     "height": 150
    },
    "executionInfo": {
     "elapsed": 12,
     "status": "ok",
     "timestamp": 1683438261296,
     "user": {
      "displayName": "Myeonghak Lee",
      "userId": "01376346143254624391"
     },
     "user_tz": -540
    },
    "id": "becc0f2d",
    "outputId": "5deaa1ca-7341-4c88-ea2a-58b55bcb8b8a"
   },
   "outputs": [
    {
     "name": "stdout",
     "output_type": "stream",
     "text": [
      "\n",
      "Inverse Document Frequencies DataFrame:\n"
     ]
    },
    {
     "data": {
      "text/html": [
       "<div>\n",
       "<style scoped>\n",
       "    .dataframe tbody tr th:only-of-type {\n",
       "        vertical-align: middle;\n",
       "    }\n",
       "\n",
       "    .dataframe tbody tr th {\n",
       "        vertical-align: top;\n",
       "    }\n",
       "\n",
       "    .dataframe thead th {\n",
       "        text-align: right;\n",
       "    }\n",
       "</style>\n",
       "<table border=\"1\" class=\"dataframe\">\n",
       "  <thead>\n",
       "    <tr style=\"text-align: right;\">\n",
       "      <th></th>\n",
       "      <th>enjoy</th>\n",
       "      <th>love</th>\n",
       "      <th>watching</th>\n",
       "      <th>and</th>\n",
       "      <th>reading</th>\n",
       "      <th>books</th>\n",
       "      <th>movies</th>\n",
       "      <th>i</th>\n",
       "    </tr>\n",
       "  </thead>\n",
       "  <tbody>\n",
       "    <tr>\n",
       "      <th>IDF</th>\n",
       "      <td>1.098612</td>\n",
       "      <td>0.405465</td>\n",
       "      <td>0.405465</td>\n",
       "      <td>1.098612</td>\n",
       "      <td>0.405465</td>\n",
       "      <td>1.098612</td>\n",
       "      <td>0.405465</td>\n",
       "      <td>0.0</td>\n",
       "    </tr>\n",
       "  </tbody>\n",
       "</table>\n",
       "</div>"
      ],
      "text/plain": [
       "        enjoy      love  watching       and   reading     books    movies    i\n",
       "IDF  1.098612  0.405465  0.405465  1.098612  0.405465  1.098612  0.405465  0.0"
      ]
     },
     "metadata": {},
     "output_type": "display_data"
    }
   ],
   "source": [
    "idf_values = inverse_document_frequency(tokenized_documents)\n",
    "idf_df = pd.DataFrame([idf_values], index=[\"IDF\"]).fillna(0)\n",
    "print(\"\\nInverse Document Frequencies DataFrame:\")\n",
    "display(idf_df)"
   ]
  },
  {
   "cell_type": "code",
   "execution_count": 8,
   "id": "b66a13d3",
   "metadata": {
    "ExecuteTime": {
     "end_time": "2023-05-04T17:28:22.034677Z",
     "start_time": "2023-05-04T17:28:22.027675Z"
    },
    "id": "b66a13d3"
   },
   "outputs": [],
   "source": [
    "# Calculate TF-IDF\n",
    "def tf_idf(tf, idf):\n",
    "    return {term: tf_val * idf[term] for term, tf_val in tf.items()}"
   ]
  },
  {
   "cell_type": "code",
   "execution_count": 9,
   "id": "78462036",
   "metadata": {
    "ExecuteTime": {
     "end_time": "2023-05-04T17:28:38.613109Z",
     "start_time": "2023-05-04T17:28:38.610109Z"
    },
    "id": "78462036",
    "outputId": "63c3656a-1aa6-468f-b3a3-1b06bda06387"
   },
   "outputs": [
    {
     "name": "stdout",
     "output_type": "stream",
     "text": [
      "\n",
      "TF-IDF Values:\n"
     ]
    },
    {
     "data": {
      "text/plain": [
       "[{'i': 0.0,\n",
       "  'love': 0.1013662770270411,\n",
       "  'watching': 0.1013662770270411,\n",
       "  'movies': 0.1013662770270411},\n",
       " {'i': 0.0,\n",
       "  'enjoy': 0.27465307216702745,\n",
       "  'reading': 0.1013662770270411,\n",
       "  'books': 0.27465307216702745},\n",
       " {'i': 0.0,\n",
       "  'love': 0.06757751801802739,\n",
       "  'reading': 0.06757751801802739,\n",
       "  'and': 0.1831020481113516,\n",
       "  'watching': 0.06757751801802739,\n",
       "  'movies': 0.06757751801802739}]"
      ]
     },
     "metadata": {},
     "output_type": "display_data"
    }
   ],
   "source": [
    "tf_idf_values = [tf_idf(tf, idf_values) for tf in tf_values]\n",
    "print(\"\\nTF-IDF Values:\")\n",
    "display(tf_idf_values)"
   ]
  },
  {
   "cell_type": "code",
   "execution_count": 10,
   "id": "56294864-ad71-433c-8c2a-842a8205be4f",
   "metadata": {
    "ExecuteTime": {
     "end_time": "2023-05-04T17:28:32.161664Z",
     "start_time": "2023-05-04T17:28:32.136658Z"
    },
    "id": "56294864-ad71-433c-8c2a-842a8205be4f",
    "outputId": "ce2eabbd-36c7-4ecd-e75f-1d25dd599b77"
   },
   "outputs": [
    {
     "name": "stdout",
     "output_type": "stream",
     "text": [
      "\n",
      "TF-IDF DataFrame:\n"
     ]
    },
    {
     "data": {
      "text/html": [
       "<div>\n",
       "<style scoped>\n",
       "    .dataframe tbody tr th:only-of-type {\n",
       "        vertical-align: middle;\n",
       "    }\n",
       "\n",
       "    .dataframe tbody tr th {\n",
       "        vertical-align: top;\n",
       "    }\n",
       "\n",
       "    .dataframe thead th {\n",
       "        text-align: right;\n",
       "    }\n",
       "</style>\n",
       "<table border=\"1\" class=\"dataframe\">\n",
       "  <thead>\n",
       "    <tr style=\"text-align: right;\">\n",
       "      <th></th>\n",
       "      <th>i</th>\n",
       "      <th>love</th>\n",
       "      <th>watching</th>\n",
       "      <th>movies</th>\n",
       "      <th>enjoy</th>\n",
       "      <th>reading</th>\n",
       "      <th>books</th>\n",
       "      <th>and</th>\n",
       "    </tr>\n",
       "  </thead>\n",
       "  <tbody>\n",
       "    <tr>\n",
       "      <th>Document 1</th>\n",
       "      <td>0.0</td>\n",
       "      <td>0.101366</td>\n",
       "      <td>0.101366</td>\n",
       "      <td>0.101366</td>\n",
       "      <td>0.000000</td>\n",
       "      <td>0.000000</td>\n",
       "      <td>0.000000</td>\n",
       "      <td>0.000000</td>\n",
       "    </tr>\n",
       "    <tr>\n",
       "      <th>Document 2</th>\n",
       "      <td>0.0</td>\n",
       "      <td>0.000000</td>\n",
       "      <td>0.000000</td>\n",
       "      <td>0.000000</td>\n",
       "      <td>0.274653</td>\n",
       "      <td>0.101366</td>\n",
       "      <td>0.274653</td>\n",
       "      <td>0.000000</td>\n",
       "    </tr>\n",
       "    <tr>\n",
       "      <th>Document 3</th>\n",
       "      <td>0.0</td>\n",
       "      <td>0.067578</td>\n",
       "      <td>0.067578</td>\n",
       "      <td>0.067578</td>\n",
       "      <td>0.000000</td>\n",
       "      <td>0.067578</td>\n",
       "      <td>0.000000</td>\n",
       "      <td>0.183102</td>\n",
       "    </tr>\n",
       "  </tbody>\n",
       "</table>\n",
       "</div>"
      ],
      "text/plain": [
       "              i      love  watching    movies     enjoy   reading     books   \n",
       "Document 1  0.0  0.101366  0.101366  0.101366  0.000000  0.000000  0.000000  \\\n",
       "Document 2  0.0  0.000000  0.000000  0.000000  0.274653  0.101366  0.274653   \n",
       "Document 3  0.0  0.067578  0.067578  0.067578  0.000000  0.067578  0.000000   \n",
       "\n",
       "                 and  \n",
       "Document 1  0.000000  \n",
       "Document 2  0.000000  \n",
       "Document 3  0.183102  "
      ]
     },
     "metadata": {},
     "output_type": "display_data"
    }
   ],
   "source": [
    "# Create a DataFrame to display the results\n",
    "tf_idf_df = pd.DataFrame(tf_idf_values, index=[\"Document 1\", \"Document 2\", \"Document 3\"]).fillna(0)\n",
    "print(\"\\nTF-IDF DataFrame:\")\n",
    "display(tf_idf_df)"
   ]
  },
  {
   "cell_type": "code",
   "execution_count": null,
   "id": "f747177a",
   "metadata": {
    "id": "f747177a"
   },
   "outputs": [],
   "source": []
  }
 ],
 "metadata": {
  "colab": {
   "provenance": []
  },
  "kernelspec": {
   "display_name": "bq_python",
   "language": "python",
   "name": "python3"
  },
  "language_info": {
   "codemirror_mode": {
    "name": "ipython",
    "version": 3
   },
   "file_extension": ".py",
   "mimetype": "text/x-python",
   "name": "python",
   "nbconvert_exporter": "python",
   "pygments_lexer": "ipython3",
   "version": "3.9.16"
  },
  "toc": {
   "base_numbering": 1,
   "nav_menu": {},
   "number_sections": true,
   "sideBar": true,
   "skip_h1_title": false,
   "title_cell": "Table of Contents",
   "title_sidebar": "Contents",
   "toc_cell": false,
   "toc_position": {},
   "toc_section_display": true,
   "toc_window_display": false
  }
 },
 "nbformat": 4,
 "nbformat_minor": 5
}
