{
  "cells": [
    {
      "cell_type": "code",
      "execution_count": 1,
      "id": "6280cb44",
      "metadata": {
        "ExecuteTime": {
          "end_time": "2023-05-05T03:19:14.330990Z",
          "start_time": "2023-05-05T03:19:12.325674Z"
        },
        "id": "6280cb44"
      },
      "outputs": [],
      "source": [
        "import pandas as pd\n",
        "import numpy as np\n",
        "from sklearn.metrics.pairwise import cosine_similarity\n",
        "from sklearn.model_selection import train_test_split\n",
        "from sklearn.metrics import precision_score, recall_score\n",
        "import requests\n",
        "import zipfile\n",
        "import os"
      ]
    },
    {
      "cell_type": "code",
      "execution_count": 2,
      "id": "Po0gGzUAjqbI",
      "metadata": {
        "colab": {
          "base_uri": "https://localhost:8080/"
        },
        "id": "Po0gGzUAjqbI",
        "outputId": "83864baa-54b9-4abb-e9fd-56b17d4f40ef"
      },
      "outputs": [
        {
          "name": "stderr",
          "output_type": "stream",
          "text": [
            "/var/folders/1l/w3vzbf215cs4ll30rh71l7wr6ghggx/T/ipykernel_89727/407052302.py:7: DtypeWarning: Columns (4) have mixed types. Specify dtype option on import or set low_memory=False.\n",
            "  books = pd.read_csv(data_path+'BX-Books.csv', index_col=0)\n"
          ]
        }
      ],
      "source": [
        "# Download and unzip the dataset\n",
        "data_path = \"./book_crossing/\"\n",
        "\n",
        "# Load the data\n",
        "ratings = pd.read_csv(data_path+'BX-Book-Ratings.csv', index_col=0)\n",
        "users = pd.read_csv(data_path+'BX-Users.csv', index_col=0)\n",
        "books = pd.read_csv(data_path+'BX-Books.csv', index_col=0)\n"
      ]
    },
    {
      "cell_type": "code",
      "execution_count": 3,
      "id": "4f2912e6",
      "metadata": {},
      "outputs": [
        {
          "name": "stdout",
          "output_type": "stream",
          "text": [
            "(1149780, 3)\n"
          ]
        },
        {
          "data": {
            "text/html": [
              "<div>\n",
              "<style scoped>\n",
              "    .dataframe tbody tr th:only-of-type {\n",
              "        vertical-align: middle;\n",
              "    }\n",
              "\n",
              "    .dataframe tbody tr th {\n",
              "        vertical-align: top;\n",
              "    }\n",
              "\n",
              "    .dataframe thead th {\n",
              "        text-align: right;\n",
              "    }\n",
              "</style>\n",
              "<table border=\"1\" class=\"dataframe\">\n",
              "  <thead>\n",
              "    <tr style=\"text-align: right;\">\n",
              "      <th></th>\n",
              "      <th>User-ID</th>\n",
              "      <th>ISBN</th>\n",
              "      <th>Book-Rating</th>\n",
              "    </tr>\n",
              "  </thead>\n",
              "  <tbody>\n",
              "    <tr>\n",
              "      <th>0</th>\n",
              "      <td>276725</td>\n",
              "      <td>034545104X</td>\n",
              "      <td>0</td>\n",
              "    </tr>\n",
              "    <tr>\n",
              "      <th>1</th>\n",
              "      <td>276726</td>\n",
              "      <td>0155061224</td>\n",
              "      <td>5</td>\n",
              "    </tr>\n",
              "    <tr>\n",
              "      <th>2</th>\n",
              "      <td>276727</td>\n",
              "      <td>0446520802</td>\n",
              "      <td>0</td>\n",
              "    </tr>\n",
              "    <tr>\n",
              "      <th>3</th>\n",
              "      <td>276729</td>\n",
              "      <td>052165615X</td>\n",
              "      <td>3</td>\n",
              "    </tr>\n",
              "    <tr>\n",
              "      <th>4</th>\n",
              "      <td>276729</td>\n",
              "      <td>0521795028</td>\n",
              "      <td>6</td>\n",
              "    </tr>\n",
              "  </tbody>\n",
              "</table>\n",
              "</div>"
            ],
            "text/plain": [
              "   User-ID        ISBN  Book-Rating\n",
              "0   276725  034545104X            0\n",
              "1   276726  0155061224            5\n",
              "2   276727  0446520802            0\n",
              "3   276729  052165615X            3\n",
              "4   276729  0521795028            6"
            ]
          },
          "execution_count": 3,
          "metadata": {},
          "output_type": "execute_result"
        }
      ],
      "source": [
        "print(ratings.shape)\n",
        "ratings.head()"
      ]
    },
    {
      "cell_type": "code",
      "execution_count": 4,
      "id": "fe691bf8",
      "metadata": {},
      "outputs": [
        {
          "data": {
            "text/html": [
              "<div>\n",
              "<style scoped>\n",
              "    .dataframe tbody tr th:only-of-type {\n",
              "        vertical-align: middle;\n",
              "    }\n",
              "\n",
              "    .dataframe tbody tr th {\n",
              "        vertical-align: top;\n",
              "    }\n",
              "\n",
              "    .dataframe thead th {\n",
              "        text-align: right;\n",
              "    }\n",
              "</style>\n",
              "<table border=\"1\" class=\"dataframe\">\n",
              "  <thead>\n",
              "    <tr style=\"text-align: right;\">\n",
              "      <th></th>\n",
              "      <th>User-ID</th>\n",
              "      <th>Location</th>\n",
              "      <th>Age</th>\n",
              "    </tr>\n",
              "  </thead>\n",
              "  <tbody>\n",
              "    <tr>\n",
              "      <th>0</th>\n",
              "      <td>1</td>\n",
              "      <td>nyc, new york, usa</td>\n",
              "      <td>NaN</td>\n",
              "    </tr>\n",
              "    <tr>\n",
              "      <th>1</th>\n",
              "      <td>2</td>\n",
              "      <td>stockton, california, usa</td>\n",
              "      <td>18.0</td>\n",
              "    </tr>\n",
              "    <tr>\n",
              "      <th>2</th>\n",
              "      <td>3</td>\n",
              "      <td>moscow, yukon territory, russia</td>\n",
              "      <td>NaN</td>\n",
              "    </tr>\n",
              "    <tr>\n",
              "      <th>3</th>\n",
              "      <td>4</td>\n",
              "      <td>porto, v.n.gaia, portugal</td>\n",
              "      <td>17.0</td>\n",
              "    </tr>\n",
              "    <tr>\n",
              "      <th>4</th>\n",
              "      <td>5</td>\n",
              "      <td>farnborough, hants, united kingdom</td>\n",
              "      <td>NaN</td>\n",
              "    </tr>\n",
              "  </tbody>\n",
              "</table>\n",
              "</div>"
            ],
            "text/plain": [
              "   User-ID                            Location   Age\n",
              "0        1                  nyc, new york, usa   NaN\n",
              "1        2           stockton, california, usa  18.0\n",
              "2        3     moscow, yukon territory, russia   NaN\n",
              "3        4           porto, v.n.gaia, portugal  17.0\n",
              "4        5  farnborough, hants, united kingdom   NaN"
            ]
          },
          "execution_count": 4,
          "metadata": {},
          "output_type": "execute_result"
        }
      ],
      "source": [
        "users.head()"
      ]
    },
    {
      "cell_type": "code",
      "execution_count": 5,
      "id": "d9d8e4f2",
      "metadata": {},
      "outputs": [
        {
          "data": {
            "text/html": [
              "<div>\n",
              "<style scoped>\n",
              "    .dataframe tbody tr th:only-of-type {\n",
              "        vertical-align: middle;\n",
              "    }\n",
              "\n",
              "    .dataframe tbody tr th {\n",
              "        vertical-align: top;\n",
              "    }\n",
              "\n",
              "    .dataframe thead th {\n",
              "        text-align: right;\n",
              "    }\n",
              "</style>\n",
              "<table border=\"1\" class=\"dataframe\">\n",
              "  <thead>\n",
              "    <tr style=\"text-align: right;\">\n",
              "      <th></th>\n",
              "      <th>ISBN</th>\n",
              "      <th>Book-Title</th>\n",
              "      <th>Book-Author</th>\n",
              "      <th>Year-Of-Publication</th>\n",
              "      <th>Publisher</th>\n",
              "      <th>Image-URL-S</th>\n",
              "      <th>Image-URL-M</th>\n",
              "      <th>Image-URL-L</th>\n",
              "    </tr>\n",
              "  </thead>\n",
              "  <tbody>\n",
              "    <tr>\n",
              "      <th>0</th>\n",
              "      <td>0195153448</td>\n",
              "      <td>Classical Mythology</td>\n",
              "      <td>Mark P. O. Morford</td>\n",
              "      <td>2002</td>\n",
              "      <td>Oxford University Press</td>\n",
              "      <td>http://images.amazon.com/images/P/0195153448.0...</td>\n",
              "      <td>http://images.amazon.com/images/P/0195153448.0...</td>\n",
              "      <td>http://images.amazon.com/images/P/0195153448.0...</td>\n",
              "    </tr>\n",
              "    <tr>\n",
              "      <th>1</th>\n",
              "      <td>0002005018</td>\n",
              "      <td>Clara Callan</td>\n",
              "      <td>Richard Bruce Wright</td>\n",
              "      <td>2001</td>\n",
              "      <td>HarperFlamingo Canada</td>\n",
              "      <td>http://images.amazon.com/images/P/0002005018.0...</td>\n",
              "      <td>http://images.amazon.com/images/P/0002005018.0...</td>\n",
              "      <td>http://images.amazon.com/images/P/0002005018.0...</td>\n",
              "    </tr>\n",
              "    <tr>\n",
              "      <th>2</th>\n",
              "      <td>0060973129</td>\n",
              "      <td>Decision in Normandy</td>\n",
              "      <td>Carlo D'Este</td>\n",
              "      <td>1991</td>\n",
              "      <td>HarperPerennial</td>\n",
              "      <td>http://images.amazon.com/images/P/0060973129.0...</td>\n",
              "      <td>http://images.amazon.com/images/P/0060973129.0...</td>\n",
              "      <td>http://images.amazon.com/images/P/0060973129.0...</td>\n",
              "    </tr>\n",
              "    <tr>\n",
              "      <th>3</th>\n",
              "      <td>0374157065</td>\n",
              "      <td>Flu: The Story of the Great Influenza Pandemic...</td>\n",
              "      <td>Gina Bari Kolata</td>\n",
              "      <td>1999</td>\n",
              "      <td>Farrar Straus Giroux</td>\n",
              "      <td>http://images.amazon.com/images/P/0374157065.0...</td>\n",
              "      <td>http://images.amazon.com/images/P/0374157065.0...</td>\n",
              "      <td>http://images.amazon.com/images/P/0374157065.0...</td>\n",
              "    </tr>\n",
              "    <tr>\n",
              "      <th>4</th>\n",
              "      <td>0393045218</td>\n",
              "      <td>The Mummies of Urumchi</td>\n",
              "      <td>E. J. W. Barber</td>\n",
              "      <td>1999</td>\n",
              "      <td>W. W. Norton &amp;amp; Company</td>\n",
              "      <td>http://images.amazon.com/images/P/0393045218.0...</td>\n",
              "      <td>http://images.amazon.com/images/P/0393045218.0...</td>\n",
              "      <td>http://images.amazon.com/images/P/0393045218.0...</td>\n",
              "    </tr>\n",
              "  </tbody>\n",
              "</table>\n",
              "</div>"
            ],
            "text/plain": [
              "         ISBN                                         Book-Title   \n",
              "0  0195153448                                Classical Mythology  \\\n",
              "1  0002005018                                       Clara Callan   \n",
              "2  0060973129                               Decision in Normandy   \n",
              "3  0374157065  Flu: The Story of the Great Influenza Pandemic...   \n",
              "4  0393045218                             The Mummies of Urumchi   \n",
              "\n",
              "            Book-Author Year-Of-Publication                   Publisher   \n",
              "0    Mark P. O. Morford                2002     Oxford University Press  \\\n",
              "1  Richard Bruce Wright                2001       HarperFlamingo Canada   \n",
              "2          Carlo D'Este                1991             HarperPerennial   \n",
              "3      Gina Bari Kolata                1999        Farrar Straus Giroux   \n",
              "4       E. J. W. Barber                1999  W. W. Norton &amp; Company   \n",
              "\n",
              "                                         Image-URL-S   \n",
              "0  http://images.amazon.com/images/P/0195153448.0...  \\\n",
              "1  http://images.amazon.com/images/P/0002005018.0...   \n",
              "2  http://images.amazon.com/images/P/0060973129.0...   \n",
              "3  http://images.amazon.com/images/P/0374157065.0...   \n",
              "4  http://images.amazon.com/images/P/0393045218.0...   \n",
              "\n",
              "                                         Image-URL-M   \n",
              "0  http://images.amazon.com/images/P/0195153448.0...  \\\n",
              "1  http://images.amazon.com/images/P/0002005018.0...   \n",
              "2  http://images.amazon.com/images/P/0060973129.0...   \n",
              "3  http://images.amazon.com/images/P/0374157065.0...   \n",
              "4  http://images.amazon.com/images/P/0393045218.0...   \n",
              "\n",
              "                                         Image-URL-L  \n",
              "0  http://images.amazon.com/images/P/0195153448.0...  \n",
              "1  http://images.amazon.com/images/P/0002005018.0...  \n",
              "2  http://images.amazon.com/images/P/0060973129.0...  \n",
              "3  http://images.amazon.com/images/P/0374157065.0...  \n",
              "4  http://images.amazon.com/images/P/0393045218.0...  "
            ]
          },
          "execution_count": 5,
          "metadata": {},
          "output_type": "execute_result"
        }
      ],
      "source": [
        "books.head()"
      ]
    },
    {
      "cell_type": "code",
      "execution_count": 6,
      "id": "YUG0CmyUSmWI",
      "metadata": {
        "id": "YUG0CmyUSmWI"
      },
      "outputs": [],
      "source": [
        "# Preprocess the data\n",
        "ratings = ratings.merge(books[['ISBN', 'Book-Title']], on='ISBN')\n",
        "ratings = ratings.drop(['ISBN'], axis=1)"
      ]
    },
    {
      "cell_type": "code",
      "execution_count": 7,
      "id": "d4264a04",
      "metadata": {
        "ExecuteTime": {
          "end_time": "2023-05-04T17:20:57.217703Z",
          "start_time": "2023-05-04T17:20:51.791090Z"
        },
        "id": "d4264a04"
      },
      "outputs": [],
      "source": [
        "# Filter books with at least min_book_ratings ratings\n",
        "# 너무 적은 상호작용을 가지는 item 을 배제하는 처리 \n",
        "min_book_ratings = 10\n",
        "book_rating_counts = ratings['Book-Title'].value_counts()\n",
        "filtered_books = book_rating_counts[book_rating_counts >= min_book_ratings].index\n",
        "ratings = ratings[ratings['Book-Title'].isin(filtered_books)]"
      ]
    },
    {
      "cell_type": "code",
      "execution_count": 8,
      "id": "6c6a3ecd",
      "metadata": {},
      "outputs": [
        {
          "data": {
            "text/plain": [
              "(572609, 3)"
            ]
          },
          "execution_count": 8,
          "metadata": {},
          "output_type": "execute_result"
        }
      ],
      "source": [
        "ratings.shape"
      ]
    },
    {
      "cell_type": "code",
      "execution_count": 9,
      "id": "Aexeh8nIlhQn",
      "metadata": {
        "id": "Aexeh8nIlhQn"
      },
      "outputs": [],
      "source": [
        "# Filter users who rated at least min_user_ratings books\n",
        "# 너무 적은 상호작용을 가지는 유저들을 제한해주는 처리\n",
        "min_user_ratings = 5\n",
        "user_rating_counts = ratings['User-ID'].value_counts()\n",
        "filtered_users = user_rating_counts[user_rating_counts >= min_user_ratings].index\n",
        "ratings = ratings[ratings['User-ID'].isin(filtered_users)]"
      ]
    },
    {
      "cell_type": "code",
      "execution_count": 10,
      "id": "8d10f880",
      "metadata": {},
      "outputs": [
        {
          "data": {
            "text/plain": [
              "(491897, 3)"
            ]
          },
          "execution_count": 10,
          "metadata": {},
          "output_type": "execute_result"
        }
      ],
      "source": [
        "ratings.shape"
      ]
    },
    {
      "cell_type": "code",
      "execution_count": 11,
      "id": "Iee0jt_ilibi",
      "metadata": {
        "id": "Iee0jt_ilibi"
      },
      "outputs": [],
      "source": [
        "# Create the user-item matrix\n",
        "user_item_matrix = ratings.pivot_table(index='User-ID', columns='Book-Title', values='Book-Rating').fillna(0)"
      ]
    },
    {
      "cell_type": "code",
      "execution_count": 12,
      "id": "575f0fc7",
      "metadata": {},
      "outputs": [
        {
          "data": {
            "text/html": [
              "<div>\n",
              "<style scoped>\n",
              "    .dataframe tbody tr th:only-of-type {\n",
              "        vertical-align: middle;\n",
              "    }\n",
              "\n",
              "    .dataframe tbody tr th {\n",
              "        vertical-align: top;\n",
              "    }\n",
              "\n",
              "    .dataframe thead th {\n",
              "        text-align: right;\n",
              "    }\n",
              "</style>\n",
              "<table border=\"1\" class=\"dataframe\">\n",
              "  <thead>\n",
              "    <tr style=\"text-align: right;\">\n",
              "      <th>Book-Title</th>\n",
              "      <th>Earth Prayers From around the World: 365 Prayers, Poems, and Invocations for Honoring the Earth</th>\n",
              "      <th>Good Wives: Image and Reality in the Lives of Women in Northern New England, 1650-1750</th>\n",
              "      <th>Murder of a Sleeping Beauty (Scumble River Mysteries (Paperback))</th>\n",
              "      <th>Q-Space (Star Trek The Next Generation, Book 47)</th>\n",
              "      <th>Q-Zone (Star Trek The Next Generation, Book 48)</th>\n",
              "      <th>!Yo!</th>\n",
              "      <th>'Salem's Lot</th>\n",
              "      <th>...AND THE HORSE HE RODE IN ON : THE PEOPLE V. KENNETH STARR</th>\n",
              "      <th>01-01-00: A Novel of the Millennium</th>\n",
              "      <th>01-01-00: The Novel of the Millennium</th>\n",
              "      <th>...</th>\n",
              "      <th>\\O\\\" Is for Outlaw\"</th>\n",
              "      <th>\\Surely You're Joking, Mr. Feynman!\\\": Adventures of a Curious Character\"</th>\n",
              "      <th>\\The Happy Prince\\\" and Other Stories (Penguin Popular Classics)\"</th>\n",
              "      <th>\\What Do You Care What Other People Think?\\\": Further Adventures of a Curious Character\"</th>\n",
              "      <th>e</th>\n",
              "      <th>iI Paradiso Degli Orchi</th>\n",
              "      <th>murder@maggody.com : An Arly Hanks Mystery (Arly Hanks Mysteries (Paperback))</th>\n",
              "      <th>one hundred years of solitude</th>\n",
              "      <th>stardust</th>\n",
              "      <th>why I'm like this : True Stories</th>\n",
              "    </tr>\n",
              "    <tr>\n",
              "      <th>User-ID</th>\n",
              "      <th></th>\n",
              "      <th></th>\n",
              "      <th></th>\n",
              "      <th></th>\n",
              "      <th></th>\n",
              "      <th></th>\n",
              "      <th></th>\n",
              "      <th></th>\n",
              "      <th></th>\n",
              "      <th></th>\n",
              "      <th></th>\n",
              "      <th></th>\n",
              "      <th></th>\n",
              "      <th></th>\n",
              "      <th></th>\n",
              "      <th></th>\n",
              "      <th></th>\n",
              "      <th></th>\n",
              "      <th></th>\n",
              "      <th></th>\n",
              "      <th></th>\n",
              "    </tr>\n",
              "  </thead>\n",
              "  <tbody>\n",
              "    <tr>\n",
              "      <th>8</th>\n",
              "      <td>0.0</td>\n",
              "      <td>0.0</td>\n",
              "      <td>0.0</td>\n",
              "      <td>0.0</td>\n",
              "      <td>0.0</td>\n",
              "      <td>0.0</td>\n",
              "      <td>0.0</td>\n",
              "      <td>0.0</td>\n",
              "      <td>0.0</td>\n",
              "      <td>0.0</td>\n",
              "      <td>...</td>\n",
              "      <td>0.0</td>\n",
              "      <td>0.0</td>\n",
              "      <td>0.0</td>\n",
              "      <td>0.0</td>\n",
              "      <td>0.0</td>\n",
              "      <td>0.0</td>\n",
              "      <td>0.0</td>\n",
              "      <td>0.0</td>\n",
              "      <td>0.0</td>\n",
              "      <td>0.0</td>\n",
              "    </tr>\n",
              "    <tr>\n",
              "      <th>17</th>\n",
              "      <td>0.0</td>\n",
              "      <td>0.0</td>\n",
              "      <td>0.0</td>\n",
              "      <td>0.0</td>\n",
              "      <td>0.0</td>\n",
              "      <td>0.0</td>\n",
              "      <td>0.0</td>\n",
              "      <td>0.0</td>\n",
              "      <td>0.0</td>\n",
              "      <td>0.0</td>\n",
              "      <td>...</td>\n",
              "      <td>0.0</td>\n",
              "      <td>0.0</td>\n",
              "      <td>0.0</td>\n",
              "      <td>0.0</td>\n",
              "      <td>0.0</td>\n",
              "      <td>0.0</td>\n",
              "      <td>0.0</td>\n",
              "      <td>0.0</td>\n",
              "      <td>0.0</td>\n",
              "      <td>0.0</td>\n",
              "    </tr>\n",
              "    <tr>\n",
              "      <th>99</th>\n",
              "      <td>0.0</td>\n",
              "      <td>0.0</td>\n",
              "      <td>0.0</td>\n",
              "      <td>0.0</td>\n",
              "      <td>0.0</td>\n",
              "      <td>0.0</td>\n",
              "      <td>0.0</td>\n",
              "      <td>0.0</td>\n",
              "      <td>0.0</td>\n",
              "      <td>0.0</td>\n",
              "      <td>...</td>\n",
              "      <td>0.0</td>\n",
              "      <td>0.0</td>\n",
              "      <td>0.0</td>\n",
              "      <td>0.0</td>\n",
              "      <td>0.0</td>\n",
              "      <td>0.0</td>\n",
              "      <td>0.0</td>\n",
              "      <td>0.0</td>\n",
              "      <td>0.0</td>\n",
              "      <td>0.0</td>\n",
              "    </tr>\n",
              "    <tr>\n",
              "      <th>114</th>\n",
              "      <td>0.0</td>\n",
              "      <td>0.0</td>\n",
              "      <td>0.0</td>\n",
              "      <td>0.0</td>\n",
              "      <td>0.0</td>\n",
              "      <td>0.0</td>\n",
              "      <td>0.0</td>\n",
              "      <td>0.0</td>\n",
              "      <td>0.0</td>\n",
              "      <td>0.0</td>\n",
              "      <td>...</td>\n",
              "      <td>0.0</td>\n",
              "      <td>0.0</td>\n",
              "      <td>0.0</td>\n",
              "      <td>0.0</td>\n",
              "      <td>0.0</td>\n",
              "      <td>0.0</td>\n",
              "      <td>0.0</td>\n",
              "      <td>0.0</td>\n",
              "      <td>0.0</td>\n",
              "      <td>0.0</td>\n",
              "    </tr>\n",
              "    <tr>\n",
              "      <th>165</th>\n",
              "      <td>0.0</td>\n",
              "      <td>0.0</td>\n",
              "      <td>0.0</td>\n",
              "      <td>0.0</td>\n",
              "      <td>0.0</td>\n",
              "      <td>0.0</td>\n",
              "      <td>0.0</td>\n",
              "      <td>0.0</td>\n",
              "      <td>0.0</td>\n",
              "      <td>0.0</td>\n",
              "      <td>...</td>\n",
              "      <td>0.0</td>\n",
              "      <td>0.0</td>\n",
              "      <td>0.0</td>\n",
              "      <td>0.0</td>\n",
              "      <td>0.0</td>\n",
              "      <td>0.0</td>\n",
              "      <td>0.0</td>\n",
              "      <td>0.0</td>\n",
              "      <td>0.0</td>\n",
              "      <td>0.0</td>\n",
              "    </tr>\n",
              "  </tbody>\n",
              "</table>\n",
              "<p>5 rows × 17446 columns</p>\n",
              "</div>"
            ],
            "text/plain": [
              "Book-Title   Earth Prayers From around the World: 365 Prayers, Poems, and Invocations for Honoring the Earth   \n",
              "User-ID                                                                                                        \n",
              "8                                                         0.0                                                 \\\n",
              "17                                                        0.0                                                  \n",
              "99                                                        0.0                                                  \n",
              "114                                                       0.0                                                  \n",
              "165                                                       0.0                                                  \n",
              "\n",
              "Book-Title   Good Wives: Image and Reality in the Lives of Women in Northern New England, 1650-1750   \n",
              "User-ID                                                                                               \n",
              "8                                                         0.0                                        \\\n",
              "17                                                        0.0                                         \n",
              "99                                                        0.0                                         \n",
              "114                                                       0.0                                         \n",
              "165                                                       0.0                                         \n",
              "\n",
              "Book-Title   Murder of a Sleeping Beauty (Scumble River Mysteries (Paperback))   \n",
              "User-ID                                                                          \n",
              "8                                                         0.0                   \\\n",
              "17                                                        0.0                    \n",
              "99                                                        0.0                    \n",
              "114                                                       0.0                    \n",
              "165                                                       0.0                    \n",
              "\n",
              "Book-Title   Q-Space (Star Trek The Next Generation, Book 47)   \n",
              "User-ID                                                         \n",
              "8                                                         0.0  \\\n",
              "17                                                        0.0   \n",
              "99                                                        0.0   \n",
              "114                                                       0.0   \n",
              "165                                                       0.0   \n",
              "\n",
              "Book-Title   Q-Zone (Star Trek The Next Generation, Book 48)  !Yo!   \n",
              "User-ID                                                              \n",
              "8                                                        0.0   0.0  \\\n",
              "17                                                       0.0   0.0   \n",
              "99                                                       0.0   0.0   \n",
              "114                                                      0.0   0.0   \n",
              "165                                                      0.0   0.0   \n",
              "\n",
              "Book-Title  'Salem's Lot   \n",
              "User-ID                    \n",
              "8                    0.0  \\\n",
              "17                   0.0   \n",
              "99                   0.0   \n",
              "114                  0.0   \n",
              "165                  0.0   \n",
              "\n",
              "Book-Title  ...AND THE HORSE HE RODE IN ON : THE PEOPLE V. KENNETH STARR   \n",
              "User-ID                                                                    \n",
              "8                                                         0.0             \\\n",
              "17                                                        0.0              \n",
              "99                                                        0.0              \n",
              "114                                                       0.0              \n",
              "165                                                       0.0              \n",
              "\n",
              "Book-Title  01-01-00: A Novel of the Millennium   \n",
              "User-ID                                           \n",
              "8                                           0.0  \\\n",
              "17                                          0.0   \n",
              "99                                          0.0   \n",
              "114                                         0.0   \n",
              "165                                         0.0   \n",
              "\n",
              "Book-Title  01-01-00: The Novel of the Millennium  ...  \\O\\\" Is for Outlaw\"   \n",
              "User-ID                                            ...                        \n",
              "8                                             0.0  ...                  0.0  \\\n",
              "17                                            0.0  ...                  0.0   \n",
              "99                                            0.0  ...                  0.0   \n",
              "114                                           0.0  ...                  0.0   \n",
              "165                                           0.0  ...                  0.0   \n",
              "\n",
              "Book-Title  \\Surely You're Joking, Mr. Feynman!\\\": Adventures of a Curious Character\"   \n",
              "User-ID                                                                                 \n",
              "8                                                         0.0                          \\\n",
              "17                                                        0.0                           \n",
              "99                                                        0.0                           \n",
              "114                                                       0.0                           \n",
              "165                                                       0.0                           \n",
              "\n",
              "Book-Title  \\The Happy Prince\\\" and Other Stories (Penguin Popular Classics)\"   \n",
              "User-ID                                                                         \n",
              "8                                                         0.0                  \\\n",
              "17                                                        0.0                   \n",
              "99                                                        0.0                   \n",
              "114                                                       0.0                   \n",
              "165                                                       0.0                   \n",
              "\n",
              "Book-Title  \\What Do You Care What Other People Think?\\\": Further Adventures of a Curious Character\"   \n",
              "User-ID                                                                                                \n",
              "8                                                         0.0                                         \\\n",
              "17                                                        0.0                                          \n",
              "99                                                        0.0                                          \n",
              "114                                                       0.0                                          \n",
              "165                                                       0.0                                          \n",
              "\n",
              "Book-Title    e  iI Paradiso Degli Orchi   \n",
              "User-ID                                    \n",
              "8           0.0                      0.0  \\\n",
              "17          0.0                      0.0   \n",
              "99          0.0                      0.0   \n",
              "114         0.0                      0.0   \n",
              "165         0.0                      0.0   \n",
              "\n",
              "Book-Title  murder@maggody.com : An Arly Hanks Mystery (Arly Hanks Mysteries (Paperback))   \n",
              "User-ID                                                                                     \n",
              "8                                                         0.0                              \\\n",
              "17                                                        0.0                               \n",
              "99                                                        0.0                               \n",
              "114                                                       0.0                               \n",
              "165                                                       0.0                               \n",
              "\n",
              "Book-Title  one hundred years of solitude  stardust   \n",
              "User-ID                                               \n",
              "8                                     0.0       0.0  \\\n",
              "17                                    0.0       0.0   \n",
              "99                                    0.0       0.0   \n",
              "114                                   0.0       0.0   \n",
              "165                                   0.0       0.0   \n",
              "\n",
              "Book-Title  why I'm like this : True Stories  \n",
              "User-ID                                       \n",
              "8                                        0.0  \n",
              "17                                       0.0  \n",
              "99                                       0.0  \n",
              "114                                      0.0  \n",
              "165                                      0.0  \n",
              "\n",
              "[5 rows x 17446 columns]"
            ]
          },
          "execution_count": 12,
          "metadata": {},
          "output_type": "execute_result"
        }
      ],
      "source": [
        "user_item_matrix.head()"
      ]
    },
    {
      "cell_type": "code",
      "execution_count": 13,
      "id": "b83edebb",
      "metadata": {
        "ExecuteTime": {
          "end_time": "2023-05-04T17:21:32.241295Z",
          "start_time": "2023-05-04T17:21:32.232293Z"
        },
        "id": "b83edebb"
      },
      "outputs": [],
      "source": [
        "# Split user indices into train and test sets\n",
        "user_indices = np.arange(user_item_matrix.shape[0])\n",
        "train_user_indices, test_user_indices = train_test_split(user_indices, test_size=0.2, random_state=42)"
      ]
    },
    {
      "cell_type": "code",
      "execution_count": null,
      "id": "48605259",
      "metadata": {
        "ExecuteTime": {
          "end_time": "2023-05-04T17:21:32.963444Z",
          "start_time": "2023-05-04T17:21:32.908432Z"
        },
        "colab": {
          "base_uri": "https://localhost:8080/"
        },
        "id": "48605259",
        "outputId": "8bf74427-38f3-485d-b3c8-9a92d242cf31"
      },
      "outputs": [
        {
          "name": "stdout",
          "output_type": "stream",
          "text": [
            "Random Score-Based Recommendations:\n",
            "1. Guinness World Records 2001\n",
            "2. Plateforme\n",
            "3. Fight Club\n",
            "4. Johnny Got His Gun\n",
            "5. The Tomb (Adversary Cycle/Repairman Jack)\n",
            "6. Once in Every Life\n",
            "7. Taliesin : Book One of the Pendragon Cycle (Pendragon Cycle)\n",
            "8. Sole Survivor\n",
            "9. Joshua's Hammer\n",
            "10. CITIZEN SOLDIERS : THE U S ARMY FROM THE NORMANDY BEACHES TO THE BULGE TO THE SURRENDER OF GERMANY\n"
          ]
        }
      ],
      "source": [
        "def random_recommendation(ratings, n=10):\n",
        "    # 무작위로 제품을 추천\n",
        "    unique_books = ratings['Book-Title'].unique()\n",
        "    random_books = np.random.choice(unique_books, size=n, replace=False) # reaplce 는 비복원 추출\n",
        "    return random_books\n",
        "\n",
        "random_books = random_recommendation(ratings, n=10)\n",
        "print(\"Random Score-Based Recommendations:\")\n",
        "for i, book in enumerate(random_books, 1):\n",
        "    print(f\"{i}. {book}\")"
      ]
    },
    {
      "cell_type": "code",
      "execution_count": 15,
      "id": "b93a95ba",
      "metadata": {
        "ExecuteTime": {
          "end_time": "2023-05-04T17:21:33.965223Z",
          "start_time": "2023-05-04T17:21:33.891206Z"
        },
        "colab": {
          "base_uri": "https://localhost:8080/"
        },
        "id": "b93a95ba",
        "outputId": "cf7688bc-83cf-4181-b978-302beff31cae"
      },
      "outputs": [
        {
          "name": "stdout",
          "output_type": "stream",
          "text": [
            "\n",
            "Popularity-Based Recommendations:\n",
            "1. Wild Animus\n",
            "2. The Lovely Bones: A Novel\n",
            "3. The Da Vinci Code\n",
            "4. The Nanny Diaries: A Novel\n",
            "5. Bridget Jones's Diary\n",
            "6. A Painted House\n",
            "7. The Secret Life of Bees\n",
            "8. Divine Secrets of the Ya-Ya Sisterhood: A Novel\n",
            "9. Angels &amp; Demons\n",
            "10. Life of Pi\n"
          ]
        }
      ],
      "source": [
        "def popularity_recommendation(ratings, n=10):\n",
        "    # 인기도 기반 (가장 많은 평점이 달린 제품 순)\n",
        "    popular_books = ratings.groupby('Book-Title')['Book-Rating'].count().sort_values(ascending=False).head(n).index\n",
        "    return popular_books\n",
        "\n",
        "popular_books = popularity_recommendation(ratings, n=10)\n",
        "print(\"\\nPopularity-Based Recommendations:\")\n",
        "for i, book in enumerate(popular_books, 1):\n",
        "    print(f\"{i}. {book}\")"
      ]
    },
    {
      "cell_type": "code",
      "execution_count": 16,
      "id": "bd371c75",
      "metadata": {
        "ExecuteTime": {
          "end_time": "2023-05-04T17:21:34.535450Z",
          "start_time": "2023-05-04T17:21:34.531449Z"
        },
        "id": "bd371c75"
      },
      "outputs": [],
      "source": [
        "def recommend_books(user_index, strategy, k=10):\n",
        "    if strategy == \"random\":\n",
        "        top_k_books = random_recommendation(ratings, n=k)\n",
        "    elif strategy == \"popularity\":\n",
        "        top_k_books = popularity_recommendation(ratings, n=k)\n",
        "    else:\n",
        "        raise ValueError(\"Invalid recommendation strategy\")\n",
        "    return top_k_books\n"
      ]
    },
    {
      "cell_type": "code",
      "execution_count": 17,
      "id": "k0rIa6gls2Tg",
      "metadata": {
        "id": "k0rIa6gls2Tg"
      },
      "outputs": [],
      "source": [
        "def evaluate_model(strategy, k=10):\n",
        "    true_positive = 0\n",
        "    false_positive = 0\n",
        "    false_negative = 0\n",
        "\n",
        "    for user_index in test_user_indices:\n",
        "        true_books = set(user_item_matrix.iloc[user_index][user_item_matrix.iloc[user_index] > 0].index)\n",
        "        recommended_books = set(recommend_books(user_index, strategy, k))\n",
        "\n",
        "        tp = len(true_books.intersection(recommended_books))\n",
        "        fp = len(recommended_books - true_books)\n",
        "        fn = len(true_books - recommended_books)\n",
        "\n",
        "        true_positive += tp\n",
        "        false_positive += fp\n",
        "        false_negative += fn\n",
        "\n",
        "    precision = true_positive / (true_positive + false_positive)\n",
        "    recall = true_positive / (true_positive + false_negative)\n",
        "\n",
        "    return precision, recall"
      ]
    },
    {
      "cell_type": "code",
      "execution_count": 18,
      "id": "9a3dca33",
      "metadata": {
        "ExecuteTime": {
          "end_time": "2023-05-04T17:23:20.208922Z",
          "start_time": "2023-05-04T17:21:44.591550Z"
        },
        "colab": {
          "base_uri": "https://localhost:8080/"
        },
        "id": "9a3dca33",
        "outputId": "50bf7f9a-6eef-4f20-cfa9-7896cbc07a1e"
      },
      "outputs": [
        {
          "name": "stdout",
          "output_type": "stream",
          "text": [
            "Random Score-Based: Precision = 0.0007, Recall = 0.0006\n"
          ]
        }
      ],
      "source": [
        "# Evaluate the random score-based recommendation model\n",
        "random_precision, random_recall = evaluate_model(strategy=\"random\")\n",
        "print(f\"Random Score-Based: Precision = {random_precision:.4f}, Recall = {random_recall:.4f}\")"
      ]
    },
    {
      "cell_type": "code",
      "execution_count": 19,
      "id": "fcc837d4-a961-4064-aca8-bafcb7b02159",
      "metadata": {
        "ExecuteTime": {
          "end_time": "2023-05-04T17:25:39.088207Z",
          "start_time": "2023-05-04T17:23:20.209923Z"
        },
        "colab": {
          "base_uri": "https://localhost:8080/"
        },
        "id": "fcc837d4-a961-4064-aca8-bafcb7b02159",
        "outputId": "a1f860b2-0126-4b33-a2ea-db877f8eacae"
      },
      "outputs": [
        {
          "name": "stdout",
          "output_type": "stream",
          "text": [
            "Popularity-Based: Precision = 0.0200, Recall = 0.0167\n"
          ]
        }
      ],
      "source": [
        "# Evaluate the popularity-based recommendation model\n",
        "popularity_precision, popularity_recall = evaluate_model(strategy=\"popularity\")\n",
        "print(f\"Popularity-Based: Precision = {popularity_precision:.4f}, Recall = {popularity_recall:.4f}\")"
      ]
    },
    {
      "cell_type": "code",
      "execution_count": 15,
      "id": "b1b8ff5d",
      "metadata": {
        "id": "b1b8ff5d"
      },
      "outputs": [],
      "source": []
    }
  ],
  "metadata": {
    "colab": {
      "provenance": []
    },
    "kernelspec": {
      "display_name": "bq_python",
      "language": "python",
      "name": "python3"
    },
    "language_info": {
      "codemirror_mode": {
        "name": "ipython",
        "version": 3
      },
      "file_extension": ".py",
      "mimetype": "text/x-python",
      "name": "python",
      "nbconvert_exporter": "python",
      "pygments_lexer": "ipython3",
      "version": "3.9.16"
    },
    "toc": {
      "base_numbering": 1,
      "nav_menu": {},
      "number_sections": true,
      "sideBar": true,
      "skip_h1_title": false,
      "title_cell": "Table of Contents",
      "title_sidebar": "Contents",
      "toc_cell": false,
      "toc_position": {},
      "toc_section_display": true,
      "toc_window_display": false
    }
  },
  "nbformat": 4,
  "nbformat_minor": 5
}
