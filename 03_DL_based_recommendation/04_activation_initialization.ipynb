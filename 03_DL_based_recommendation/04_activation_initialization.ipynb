{
 "cells": [
  {
   "cell_type": "code",
   "execution_count": 1,
   "id": "c06f7ccc-9e94-4740-85f1-33f634cdb591",
   "metadata": {
    "executionInfo": {
     "elapsed": 11607,
     "status": "ok",
     "timestamp": 1685267229841,
     "user": {
      "displayName": "Myeonghak Lee",
      "userId": "01376346143254624391"
     },
     "user_tz": -540
    },
    "id": "c06f7ccc-9e94-4740-85f1-33f634cdb591"
   },
   "outputs": [],
   "source": [
    "import pandas as pd\n",
    "from sklearn.model_selection import train_test_split\n",
    "from tensorflow.keras.layers import Input, Embedding, Flatten, Concatenate, Dense\n",
    "from tensorflow.keras.models import Model\n",
    "from tensorflow.keras.initializers import HeNormal, GlorotNormal\n",
    "import tensorflow as tf"
   ]
  },
  {
   "cell_type": "code",
   "execution_count": 2,
   "id": "42a8e1ef-529f-4ed9-bf5c-5f3014d57cd0",
   "metadata": {
    "executionInfo": {
     "elapsed": 2,
     "status": "ok",
     "timestamp": 1685267250055,
     "user": {
      "displayName": "Myeonghak Lee",
      "userId": "01376346143254624391"
     },
     "user_tz": -540
    },
    "id": "42a8e1ef-529f-4ed9-bf5c-5f3014d57cd0"
   },
   "outputs": [],
   "source": [
    "# 무비렌즈 데이터 세트 호출\n",
    "data_path = './ml-latest-small/'\n",
    "df = pd.read_csv(data_path+'ratings.csv')"
   ]
  },
  {
   "cell_type": "code",
   "execution_count": 3,
   "id": "074ddd02-d394-47ef-bda2-95f19eed21c2",
   "metadata": {
    "executionInfo": {
     "elapsed": 586,
     "status": "ok",
     "timestamp": 1685267250639,
     "user": {
      "displayName": "Myeonghak Lee",
      "userId": "01376346143254624391"
     },
     "user_tz": -540
    },
    "id": "074ddd02-d394-47ef-bda2-95f19eed21c2"
   },
   "outputs": [],
   "source": [
    "# binary implicit feedback\n",
    "# rating >= 3.0일 경우 positive로 간주\n",
    "df['rating'] = df['rating'].apply(lambda x: 1 if x >= 3.0 else 0)\n",
    "\n",
    "# 전체 유저 수와 영화 수\n",
    "n_users = df.userId.nunique()\n",
    "n_movies = df.movieId.nunique()\n",
    "\n",
    "# 데이터를 train/valid로 나눔\n",
    "train, validation = train_test_split(df, test_size=0.2, random_state=42)\n",
    "\n",
    "# 유저 아이디 indexing\n",
    "unique_user_ids = df[\"userId\"].unique()\n",
    "userId_dict = {id: i for i, id in enumerate(unique_user_ids)}\n",
    "\n",
    "\n",
    "# 영화 아이디 indexing\n",
    "unique_movie_ids = df[\"movieId\"].unique()\n",
    "movieId_dict = {id: i for i, id in enumerate(unique_movie_ids)}\n",
    "\n",
    "# 인덱싱 된 딕셔너리를 사용하여 ID 맵핑\n",
    "train[\"userId\"] = train[\"userId\"].map(userId_dict)\n",
    "train[\"movieId\"] = train[\"movieId\"].map(movieId_dict)\n",
    "\n",
    "validation[\"userId\"] = validation[\"userId\"].map(userId_dict)\n",
    "validation[\"movieId\"] = validation[\"movieId\"].map(movieId_dict)\n",
    "\n",
    "# 전체 유니크 유저 수 \n",
    "num_unique_users = df['userId'].nunique() + 1\n",
    "# 전체 유니크 영화 수\n",
    "num_unique_movies = df['movieId'].nunique() + 1"
   ]
  },
  {
   "cell_type": "code",
   "execution_count": 4,
   "id": "f06e9480-da68-4d8f-a33c-118b27b81f3f",
   "metadata": {
    "executionInfo": {
     "elapsed": 6,
     "status": "ok",
     "timestamp": 1685267250639,
     "user": {
      "displayName": "Myeonghak Lee",
      "userId": "01376346143254624391"
     },
     "user_tz": -540
    },
    "id": "f06e9480-da68-4d8f-a33c-118b27b81f3f"
   },
   "outputs": [
    {
     "name": "stdout",
     "output_type": "stream",
     "text": [
      "Metal device set to: Apple M1 Pro\n",
      "\n",
      "systemMemory: 32.00 GB\n",
      "maxCacheSize: 10.67 GB\n",
      "\n"
     ]
    },
    {
     "name": "stderr",
     "output_type": "stream",
     "text": [
      "2025-04-09 20:35:43.488479: I tensorflow/core/common_runtime/pluggable_device/pluggable_device_factory.cc:305] Could not identify NUMA node of platform GPU ID 0, defaulting to 0. Your kernel may not have been built with NUMA support.\n",
      "2025-04-09 20:35:43.488651: I tensorflow/core/common_runtime/pluggable_device/pluggable_device_factory.cc:271] Created TensorFlow device (/job:localhost/replica:0/task:0/device:GPU:0 with 0 MB memory) -> physical PluggableDevice (device: 0, name: METAL, pci bus id: <undefined>)\n"
     ]
    }
   ],
   "source": [
    "# 유저/아이템 입력 레이어\n",
    "user_input = Input(shape=(1,))\n",
    "movie_input = Input(shape=(1,))\n",
    "\n",
    "# 임베딩 차원\n",
    "n_latent_factors = 20\n",
    "\n",
    "# 임베딩 레이어 정의\n",
    "user_embedding = Embedding(num_unique_users, n_latent_factors, name='user_embedding')(user_input)\n",
    "movie_embedding = Embedding(num_unique_movies, n_latent_factors, name='movie_embedding')(movie_input)\n",
    "\n",
    "# 임베딩 flatten\n",
    "user_vector = Flatten()(user_embedding)\n",
    "movie_vector = Flatten()(movie_embedding)\n",
    "\n",
    "# 유저 및 영화 임베딩 벡터 컨캣\n",
    "concat = Concatenate()([user_vector, movie_vector])"
   ]
  },
  {
   "cell_type": "code",
   "execution_count": 17,
   "id": "8a43ee57-fab6-49db-869f-c624b416dcab",
   "metadata": {
    "colab": {
     "base_uri": "https://localhost:8080/"
    },
    "executionInfo": {
     "elapsed": 239923,
     "status": "ok",
     "timestamp": 1685267490557,
     "user": {
      "displayName": "Myeonghak Lee",
      "userId": "01376346143254624391"
     },
     "user_tz": -540
    },
    "id": "8a43ee57-fab6-49db-869f-c624b416dcab",
    "outputId": "6ce76256-c058-434a-cdec-29e099696bc2"
   },
   "outputs": [
    {
     "name": "stdout",
     "output_type": "stream",
     "text": [
      "\n",
      "\n",
      "initializer: HeNormal\n",
      "activation: relu\n",
      "\n",
      "\n",
      "Epoch 1/3\n"
     ]
    },
    {
     "name": "stderr",
     "output_type": "stream",
     "text": [
      "2025-04-09 20:47:50.672644: I tensorflow/core/grappler/optimizers/custom_graph_optimizer_registry.cc:113] Plugin optimizer for device_type GPU is enabled.\n",
      "2025-04-09 20:48:16.536902: I tensorflow/core/grappler/optimizers/custom_graph_optimizer_registry.cc:113] Plugin optimizer for device_type GPU is enabled.\n"
     ]
    },
    {
     "name": "stdout",
     "output_type": "stream",
     "text": [
      "2521/2521 - 30s - loss: 0.2789 - accuracy: 0.8846 - auc_2: 0.9046 - val_loss: 0.4549 - val_accuracy: 0.8166 - val_auc_2: 0.7770 - 30s/epoch - 12ms/step\n",
      "Epoch 2/3\n",
      "2521/2521 - 28s - loss: 0.2428 - accuracy: 0.9006 - auc_2: 0.9288 - val_loss: 0.4822 - val_accuracy: 0.8144 - val_auc_2: 0.7758 - 28s/epoch - 11ms/step\n",
      "Epoch 3/3\n",
      "2521/2521 - 27s - loss: 0.2187 - accuracy: 0.9110 - auc_2: 0.9425 - val_loss: 0.5211 - val_accuracy: 0.8057 - val_auc_2: 0.7668 - 27s/epoch - 11ms/step\n",
      "\n",
      "\n",
      "initializer: HeNormal\n",
      "activation: sigmoid\n",
      "\n",
      "\n",
      "Epoch 1/3\n"
     ]
    },
    {
     "name": "stderr",
     "output_type": "stream",
     "text": [
      "/var/folders/1l/w3vzbf215cs4ll30rh71l7wr6ghggx/T/ipykernel_97624/2204089919.py:35: FutureWarning: The behavior of DataFrame concatenation with empty or all-NA entries is deprecated. In a future version, this will no longer exclude empty or all-NA columns when determining the result dtypes. To retain the old behavior, exclude the relevant entries before the concat operation.\n",
      "  results_df = pd.concat([results_df,\n",
      "2025-04-09 20:49:16.020250: I tensorflow/core/grappler/optimizers/custom_graph_optimizer_registry.cc:113] Plugin optimizer for device_type GPU is enabled.\n",
      "2025-04-09 20:49:40.813902: I tensorflow/core/grappler/optimizers/custom_graph_optimizer_registry.cc:113] Plugin optimizer for device_type GPU is enabled.\n"
     ]
    },
    {
     "name": "stdout",
     "output_type": "stream",
     "text": [
      "2521/2521 - 29s - loss: 0.3387 - accuracy: 0.8565 - auc_3: 0.8552 - val_loss: 0.4063 - val_accuracy: 0.8306 - val_auc_3: 0.7934 - 29s/epoch - 12ms/step\n",
      "Epoch 2/3\n",
      "2521/2521 - 27s - loss: 0.3121 - accuracy: 0.8663 - auc_3: 0.8803 - val_loss: 0.4124 - val_accuracy: 0.8307 - val_auc_3: 0.7908 - 27s/epoch - 11ms/step\n",
      "Epoch 3/3\n",
      "2521/2521 - 30s - loss: 0.2934 - accuracy: 0.8741 - auc_3: 0.8947 - val_loss: 0.4260 - val_accuracy: 0.8295 - val_auc_3: 0.7873 - 30s/epoch - 12ms/step\n",
      "\n",
      "\n",
      "initializer: GlorotNormal\n",
      "activation: relu\n",
      "\n",
      "\n",
      "Epoch 1/3\n"
     ]
    },
    {
     "name": "stderr",
     "output_type": "stream",
     "text": [
      "2025-04-09 20:50:43.144021: I tensorflow/core/grappler/optimizers/custom_graph_optimizer_registry.cc:113] Plugin optimizer for device_type GPU is enabled.\n",
      "2025-04-09 20:51:09.543626: I tensorflow/core/grappler/optimizers/custom_graph_optimizer_registry.cc:113] Plugin optimizer for device_type GPU is enabled.\n"
     ]
    },
    {
     "name": "stdout",
     "output_type": "stream",
     "text": [
      "2521/2521 - 32s - loss: 0.2617 - accuracy: 0.8910 - auc_4: 0.9174 - val_loss: 0.4967 - val_accuracy: 0.8159 - val_auc_4: 0.7757 - 32s/epoch - 13ms/step\n",
      "Epoch 2/3\n",
      "2521/2521 - 28s - loss: 0.2207 - accuracy: 0.9094 - auc_4: 0.9419 - val_loss: 0.5189 - val_accuracy: 0.8012 - val_auc_4: 0.7660 - 28s/epoch - 11ms/step\n",
      "Epoch 3/3\n",
      "2521/2521 - 27s - loss: 0.1971 - accuracy: 0.9203 - auc_4: 0.9539 - val_loss: 0.5592 - val_accuracy: 0.8009 - val_auc_4: 0.7557 - 27s/epoch - 11ms/step\n",
      "\n",
      "\n",
      "initializer: GlorotNormal\n",
      "activation: sigmoid\n",
      "\n",
      "\n",
      "Epoch 1/3\n"
     ]
    },
    {
     "name": "stderr",
     "output_type": "stream",
     "text": [
      "2025-04-09 20:52:08.899979: I tensorflow/core/grappler/optimizers/custom_graph_optimizer_registry.cc:113] Plugin optimizer for device_type GPU is enabled.\n",
      "2025-04-09 20:52:33.897635: I tensorflow/core/grappler/optimizers/custom_graph_optimizer_registry.cc:113] Plugin optimizer for device_type GPU is enabled.\n"
     ]
    },
    {
     "name": "stdout",
     "output_type": "stream",
     "text": [
      "2521/2521 - 29s - loss: 0.3308 - accuracy: 0.8620 - auc_5: 0.8620 - val_loss: 0.4136 - val_accuracy: 0.8247 - val_auc_5: 0.7891 - 29s/epoch - 12ms/step\n",
      "Epoch 2/3\n",
      "2521/2521 - 27s - loss: 0.3043 - accuracy: 0.8699 - auc_5: 0.8871 - val_loss: 0.4237 - val_accuracy: 0.8294 - val_auc_5: 0.7915 - 27s/epoch - 11ms/step\n",
      "Epoch 3/3\n",
      "2521/2521 - 27s - loss: 0.2849 - accuracy: 0.8769 - auc_5: 0.9014 - val_loss: 0.4502 - val_accuracy: 0.8265 - val_auc_5: 0.7862 - 27s/epoch - 11ms/step\n"
     ]
    }
   ],
   "source": [
    "# 결과 저장 테이블\n",
    "results_df = pd.DataFrame(columns=['initializer', 'activation', 'last_loss', 'last_val_loss'])\n",
    "\n",
    "# Initialization, activation 옵션\n",
    "initializers = [HeNormal(), HeNormal(), GlorotNormal(), GlorotNormal()]\n",
    "activations = ['relu', 'sigmoid', 'relu', 'sigmoid']\n",
    "\n",
    "for init, act in zip(initializers, activations):\n",
    "    \n",
    "    print(\"\\n\")\n",
    "    print(\"initializer: {}\".format(init.__class__.__name__))\n",
    "    print(\"activation: {}\".format(act))\n",
    "    print(\"\\n\")\n",
    "\n",
    "    def create_mlp(hidden_layers, output):\n",
    "        for i in range(len(hidden_layers)):\n",
    "            if i == 0:\n",
    "                hidden = Dense(hidden_layers[i], activation=act, kernel_initializer=init)(output)\n",
    "            else:\n",
    "                hidden = Dense(hidden_layers[i], activation=act, kernel_initializer=init)(hidden)\n",
    "        output = Dense(1, activation='sigmoid', kernel_initializer=init)(hidden)\n",
    "        return output\n",
    "\n",
    "    output = create_mlp([64, 64], concat)\n",
    "\n",
    "    model = Model(inputs=[user_input, movie_input], outputs=output)\n",
    "\n",
    "    auc = tf.keras.metrics.AUC()\n",
    "    model.compile(optimizer='adam', loss='binary_crossentropy', metrics=['accuracy', auc])\n",
    "\n",
    "    history = model.fit([train.userId, train.movieId], train.rating, epochs=3, verbose=2, validation_data=([validation.userId, validation.movieId], validation.rating))\n",
    "\n",
    "    # DataFrame에 결과 append \n",
    "    \n",
    "    results_df = pd.concat([results_df,\n",
    "                            pd.DataFrame.from_records([{'initializer': init.__class__.__name__,\n",
    "                                        'activation': act,\n",
    "                                        'last_loss': history.history['loss'][-1],\n",
    "                                        'last_val_loss': history.history['val_loss'][-1]}])])"
   ]
  },
  {
   "cell_type": "code",
   "execution_count": 18,
   "id": "a5hn_FVov81S",
   "metadata": {
    "colab": {
     "base_uri": "https://localhost:8080/"
    },
    "executionInfo": {
     "elapsed": 25,
     "status": "ok",
     "timestamp": 1685267490558,
     "user": {
      "displayName": "Myeonghak Lee",
      "userId": "01376346143254624391"
     },
     "user_tz": -540
    },
    "id": "a5hn_FVov81S",
    "outputId": "ebbee41b-c868-412f-a71f-ea61a6ca957d"
   },
   "outputs": [
    {
     "data": {
      "text/plain": [
       "<keras.callbacks.History at 0x364f0a920>"
      ]
     },
     "execution_count": 18,
     "metadata": {},
     "output_type": "execute_result"
    }
   ],
   "source": [
    "history"
   ]
  },
  {
   "cell_type": "code",
   "execution_count": 20,
   "id": "16fc885e-c625-4779-9c39-2b2b077db1e5",
   "metadata": {
    "colab": {
     "base_uri": "https://localhost:8080/",
     "height": 175
    },
    "executionInfo": {
     "elapsed": 11,
     "status": "ok",
     "timestamp": 1685267599590,
     "user": {
      "displayName": "Myeonghak Lee",
      "userId": "01376346143254624391"
     },
     "user_tz": -540
    },
    "id": "16fc885e-c625-4779-9c39-2b2b077db1e5",
    "outputId": "e3c5746a-6fb0-4d90-f956-925b7831afc8"
   },
   "outputs": [
    {
     "data": {
      "text/html": [
       "<div>\n",
       "<style scoped>\n",
       "    .dataframe tbody tr th:only-of-type {\n",
       "        vertical-align: middle;\n",
       "    }\n",
       "\n",
       "    .dataframe tbody tr th {\n",
       "        vertical-align: top;\n",
       "    }\n",
       "\n",
       "    .dataframe thead th {\n",
       "        text-align: right;\n",
       "    }\n",
       "</style>\n",
       "<table border=\"1\" class=\"dataframe\">\n",
       "  <thead>\n",
       "    <tr style=\"text-align: right;\">\n",
       "      <th></th>\n",
       "      <th>initializer</th>\n",
       "      <th>activation</th>\n",
       "      <th>last_loss</th>\n",
       "      <th>last_val_loss</th>\n",
       "    </tr>\n",
       "  </thead>\n",
       "  <tbody>\n",
       "    <tr>\n",
       "      <th>0</th>\n",
       "      <td>HeNormal</td>\n",
       "      <td>sigmoid</td>\n",
       "      <td>0.293420</td>\n",
       "      <td>0.426024</td>\n",
       "    </tr>\n",
       "    <tr>\n",
       "      <th>0</th>\n",
       "      <td>GlorotNormal</td>\n",
       "      <td>sigmoid</td>\n",
       "      <td>0.284942</td>\n",
       "      <td>0.450174</td>\n",
       "    </tr>\n",
       "    <tr>\n",
       "      <th>0</th>\n",
       "      <td>HeNormal</td>\n",
       "      <td>relu</td>\n",
       "      <td>0.218692</td>\n",
       "      <td>0.521057</td>\n",
       "    </tr>\n",
       "    <tr>\n",
       "      <th>0</th>\n",
       "      <td>GlorotNormal</td>\n",
       "      <td>relu</td>\n",
       "      <td>0.197096</td>\n",
       "      <td>0.559213</td>\n",
       "    </tr>\n",
       "  </tbody>\n",
       "</table>\n",
       "</div>"
      ],
      "text/plain": [
       "    initializer activation  last_loss  last_val_loss\n",
       "0      HeNormal    sigmoid   0.293420       0.426024\n",
       "0  GlorotNormal    sigmoid   0.284942       0.450174\n",
       "0      HeNormal       relu   0.218692       0.521057\n",
       "0  GlorotNormal       relu   0.197096       0.559213"
      ]
     },
     "metadata": {},
     "output_type": "display_data"
    }
   ],
   "source": [
    "# Print the DataFrame\n",
    "display(results_df.sort_values(by='last_val_loss'))"
   ]
  },
  {
   "cell_type": "code",
   "execution_count": null,
   "id": "c891c875-4463-4a35-9543-ac9e2a37a34f",
   "metadata": {
    "id": "c891c875-4463-4a35-9543-ac9e2a37a34f"
   },
   "outputs": [],
   "source": []
  },
  {
   "cell_type": "code",
   "execution_count": null,
   "id": "9944681e-b03f-4ea7-91f4-ae2c83cfd24e",
   "metadata": {
    "id": "9944681e-b03f-4ea7-91f4-ae2c83cfd24e"
   },
   "outputs": [],
   "source": []
  }
 ],
 "metadata": {
  "colab": {
   "provenance": []
  },
  "kernelspec": {
   "display_name": "tensorflow",
   "language": "python",
   "name": "tensorflow"
  },
  "language_info": {
   "codemirror_mode": {
    "name": "ipython",
    "version": 3
   },
   "file_extension": ".py",
   "mimetype": "text/x-python",
   "name": "python",
   "nbconvert_exporter": "python",
   "pygments_lexer": "ipython3",
   "version": "3.10.15"
  }
 },
 "nbformat": 4,
 "nbformat_minor": 5
}
