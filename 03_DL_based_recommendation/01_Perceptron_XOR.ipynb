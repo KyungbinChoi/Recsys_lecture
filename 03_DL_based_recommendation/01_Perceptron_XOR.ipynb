{
 "cells": [
  {
   "cell_type": "code",
   "execution_count": 1,
   "id": "c7a80a4c-9798-4f90-9d14-0bd4bc66b43f",
   "metadata": {
    "id": "c7a80a4c-9798-4f90-9d14-0bd4bc66b43f"
   },
   "outputs": [],
   "source": [
    "# https://machinelearningmastery.com/implement-perceptron-algorithm-scratch-python/"
   ]
  },
  {
   "cell_type": "code",
   "execution_count": 2,
   "id": "548c9b26-ce90-408d-9495-bef16b8261f4",
   "metadata": {
    "id": "548c9b26-ce90-408d-9495-bef16b8261f4"
   },
   "outputs": [],
   "source": [
    "import numpy as np\n",
    "\n",
    "class Perceptron(object):\n",
    "    def __init__(self, no_of_inputs, iterations=100, learning_rate=0.01):\n",
    "        # 수렴까지의 반복 횟수\n",
    "\n",
    "        self.iterations = iterations\n",
    "        self.learning_rate = learning_rate\n",
    "\n",
    "        # 가중치 (바이어스 텀 포함)\n",
    "        self.weights = np.zeros(no_of_inputs + 1)\n",
    "\n",
    "    def predict(self, inputs):\n",
    "        # 내적을 이용한 가중 합 계산, 활성화 함수는 step function\n",
    "        summation = np.dot(inputs, self.weights[1:]) + self.weights[0]\n",
    "        return 1 if summation > 0 else 0\n",
    "\n",
    "    def train(self, training_inputs, labels):\n",
    "        # 학습 -> 파라미터 업데이트\n",
    "        for _ in range(self.iterations):\n",
    "\n",
    "            for inputs, label in zip(training_inputs, labels):\n",
    "\n",
    "                prediction = self.predict(inputs)\n",
    "                error = label - prediction\n",
    "\n",
    "                self.weights[1:] += self.learning_rate * error * inputs\n",
    "                self.weights[0] += self.learning_rate * error\n",
    "\n",
    "#                 if _ % 10 == 0:\n",
    "#                     print(self.weights[1:], self.weights[0])"
   ]
  },
  {
   "cell_type": "code",
   "execution_count": 3,
   "id": "704bf62d-3b01-44fb-863e-dd20d58ac376",
   "metadata": {
    "id": "704bf62d-3b01-44fb-863e-dd20d58ac376"
   },
   "outputs": [],
   "source": [
    "# OR 문제를 위한 훈련 데이터와 레이블\n",
    "training_inputs_or = np.array([[0, 0], [0, 1], [1, 0], [1, 1]])\n",
    "labels_or = np.array([0, 1, 1, 1])\n",
    "\n",
    "perceptron_or = Perceptron(2)\n",
    "perceptron_or.train(training_inputs_or, labels_or)"
   ]
  },
  {
   "cell_type": "code",
   "execution_count": 4,
   "id": "d24a1bc4-f96a-437a-9ded-03a53ee32008",
   "metadata": {
    "id": "d24a1bc4-f96a-437a-9ded-03a53ee32008"
   },
   "outputs": [],
   "source": [
    "# AND 문제를 위한 훈련 데이터와 레이블\n",
    "training_inputs_and = np.array([[0, 0], [0, 1], [1, 0], [1, 1]])\n",
    "labels_and = np.array([0, 0, 0, 1])\n",
    "\n",
    "perceptron_and = Perceptron(2)\n",
    "perceptron_and.train(training_inputs_and, labels_and)"
   ]
  },
  {
   "cell_type": "code",
   "execution_count": 5,
   "id": "c0124d9f-11c8-4170-ab77-732bb13023f8",
   "metadata": {
    "id": "c0124d9f-11c8-4170-ab77-732bb13023f8"
   },
   "outputs": [],
   "source": [
    "# NAND 문제를 위한 훈련 데이터와 레이블\n",
    "training_inputs_nand = np.array([[0, 0], [0, 1], [1, 0], [1, 1]])\n",
    "labels_nand = np.array([1, 1, 1, 0])\n",
    "\n",
    "perceptron_nand = Perceptron(2)\n",
    "perceptron_nand.train(training_inputs_nand, labels_nand)"
   ]
  },
  {
   "cell_type": "code",
   "execution_count": 6,
   "id": "c8ce3ef8-a5ed-4e32-b641-42b848b84f00",
   "metadata": {
    "colab": {
     "base_uri": "https://localhost:8080/"
    },
    "executionInfo": {
     "elapsed": 2,
     "status": "ok",
     "timestamp": 1685264181983,
     "user": {
      "displayName": "Myeonghak Lee",
      "userId": "01376346143254624391"
     },
     "user_tz": -540
    },
    "id": "c8ce3ef8-a5ed-4e32-b641-42b848b84f00",
    "outputId": "5ffacc00-9231-4a5c-fe1a-9610492e5d98"
   },
   "outputs": [
    {
     "name": "stdout",
     "output_type": "stream",
     "text": [
      "AND(1, 1) =  1\n",
      "NAND(1, 1) =  0\n",
      "OR(0, 1) =  1\n"
     ]
    }
   ],
   "source": [
    "# 결과 예측\n",
    "inputs = np.array([1, 1])\n",
    "\n",
    "# 출력: 1\n",
    "print(\"AND(1, 1) = \", perceptron_and.predict(inputs))\n",
    "# 출력: 0\n",
    "print(\"NAND(1, 1) = \", perceptron_nand.predict(inputs))\n",
    "\n",
    "# 출력: 1\n",
    "inputs_or = np.array([0, 1])\n",
    "print(\"OR(0, 1) = \", perceptron_or.predict(inputs_or))"
   ]
  },
  {
   "cell_type": "code",
   "execution_count": 7,
   "id": "aec7eb7e-bb33-4b1d-9162-845ed6fc033f",
   "metadata": {
    "id": "aec7eb7e-bb33-4b1d-9162-845ed6fc033f"
   },
   "outputs": [],
   "source": [
    "# XOR 문제를 위한 훈련 데이터와 레이블\n",
    "training_inputs_xor = np.array([[0, 0], [0, 1], [1, 0], [1, 1]])\n",
    "labels_xor = np.array([0, 1, 1, 0])\n",
    "\n",
    "perceptron_xor = Perceptron(2)\n",
    "perceptron_xor.train(training_inputs_xor, labels_xor)"
   ]
  },
  {
   "cell_type": "code",
   "execution_count": 8,
   "id": "93874608-c219-4f12-95e0-e38a0c67b737",
   "metadata": {
    "colab": {
     "base_uri": "https://localhost:8080/"
    },
    "executionInfo": {
     "elapsed": 4,
     "status": "ok",
     "timestamp": 1685264182834,
     "user": {
      "displayName": "Myeonghak Lee",
      "userId": "01376346143254624391"
     },
     "user_tz": -540
    },
    "id": "93874608-c219-4f12-95e0-e38a0c67b737",
    "outputId": "c1a4a064-013e-4eda-bc03-5a6f5410902b"
   },
   "outputs": [
    {
     "name": "stdout",
     "output_type": "stream",
     "text": [
      "XOR(0, 1) =  0\n"
     ]
    }
   ],
   "source": [
    "inputs_xor = np.array([1, 0])\n",
    "print(\"XOR(0, 1) = \", perceptron_xor.predict(inputs_xor))"
   ]
  },
  {
   "cell_type": "code",
   "execution_count": 9,
   "id": "a3bb7f8f-64ee-4476-a82e-4bf292395719",
   "metadata": {
    "id": "a3bb7f8f-64ee-4476-a82e-4bf292395719"
   },
   "outputs": [
    {
     "name": "stdout",
     "output_type": "stream",
     "text": [
      "XOR(1, 0) =  1\n"
     ]
    }
   ],
   "source": [
    "class MultiLayerPerceptron:\n",
    "    def __init__(self):\n",
    "        self.p_and = Perceptron(2)\n",
    "        self.p_nand = Perceptron(2)\n",
    "        self.p_or = Perceptron(2)\n",
    "\n",
    "    def train(self, training_inputs, labels):\n",
    "        self.p_and.train(training_inputs, labels_and)\n",
    "        self.p_nand.train(training_inputs, labels_nand)\n",
    "\n",
    "        labels_or = np.array([self.p_and.predict(i) or self.p_nand.predict(i) for i in training_inputs])\n",
    "        self.p_or.train(training_inputs, labels_or)\n",
    "\n",
    "    def predict(self, inputs):\n",
    "        and_out = self.p_and.predict(inputs)\n",
    "        nand_out = self.p_nand.predict(inputs)\n",
    "\n",
    "        return self.p_or.predict(np.array([and_out, nand_out]))\n",
    "\n",
    "\n",
    "training_inputs_xor = np.array([[0, 0], [0, 1], [1, 0], [1, 1]])\n",
    "labels_xor = np.array([0, 1, 1, 0])\n",
    "\n",
    "mlp = MultiLayerPerceptron()\n",
    "mlp.train(training_inputs_xor, labels_xor)\n",
    "\n",
    "inputs_xor = np.array([1, 0])\n",
    "print(\"XOR(1, 0) = \", mlp.predict(inputs_xor))\n"
   ]
  }
 ],
 "metadata": {
  "colab": {
   "provenance": []
  },
  "kernelspec": {
   "display_name": "bq_python",
   "language": "python",
   "name": "python3"
  },
  "language_info": {
   "codemirror_mode": {
    "name": "ipython",
    "version": 3
   },
   "file_extension": ".py",
   "mimetype": "text/x-python",
   "name": "python",
   "nbconvert_exporter": "python",
   "pygments_lexer": "ipython3",
   "version": "3.9.16"
  }
 },
 "nbformat": 4,
 "nbformat_minor": 5
}
