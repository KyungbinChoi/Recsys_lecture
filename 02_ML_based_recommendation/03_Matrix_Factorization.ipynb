{
 "cells": [
  {
   "cell_type": "code",
   "execution_count": 1,
   "id": "721f0c39-80e7-4d9c-b905-6419e4334c5d",
   "metadata": {
    "executionInfo": {
     "elapsed": 1881,
     "status": "ok",
     "timestamp": 1684662649669,
     "user": {
      "displayName": "Myeonghak Lee",
      "userId": "01376346143254624391"
     },
     "user_tz": -540
    },
    "id": "721f0c39-80e7-4d9c-b905-6419e4334c5d"
   },
   "outputs": [],
   "source": [
    "import numpy as np\n",
    "import pandas as pd\n",
    "from scipy.sparse import coo_matrix\n",
    "from scipy.sparse.linalg import svds\n",
    "from sklearn.metrics import ndcg_score, average_precision_score\n",
    "from sklearn.decomposition import NMF, TruncatedSVD"
   ]
  },
  {
   "cell_type": "code",
   "execution_count": 2,
   "id": "aITjdhUjk7pw",
   "metadata": {
    "executionInfo": {
     "elapsed": 5,
     "status": "ok",
     "timestamp": 1684662649670,
     "user": {
      "displayName": "Myeonghak Lee",
      "userId": "01376346143254624391"
     },
     "user_tz": -540
    },
    "id": "aITjdhUjk7pw"
   },
   "outputs": [],
   "source": [
    "# ALS class 정의\n",
    "# http://ethen8181.github.io/machine-learning/recsys/1_ALSWR.html\n",
    "\n",
    "class ALS:\n",
    "    # 하이퍼 파라미터 지정\n",
    "    def __init__(self, factors=10, iterations=20, reg=0.01):\n",
    "        self.factors = factors\n",
    "        self.iterations = iterations\n",
    "        self.reg = reg\n",
    "    # 모델 적합 -> 평점 행렬 입력\n",
    "    def fit(self, ratings):\n",
    "        # 랜덤으로 user 수 * latent factor 형태의 행렬 생성\n",
    "        self.user_factors = np.random.random((ratings.shape[0], self.factors))\n",
    "        # 랜덤으로 item 수 * latent factor 형태의 행렬 생성\n",
    "        self.item_factors = np.random.random((ratings.shape[1], self.factors))\n",
    "        \n",
    "        # 사전에 지정한 iteration 수에 걸쳐서, 교차로 als_step 진행\n",
    "        for _ in range(self.iterations):\n",
    "            # user_factors 먼저 업데이트 \n",
    "            self.user_factors = self.als_step(ratings, self.user_factors, self.item_factors)\n",
    "            # 이어서 item_factors 업데이트\n",
    "            self.item_factors = self.als_step(ratings.T, self.item_factors, self.user_factors)\n",
    "    \n",
    "    # 교차로 업데이트하는 스텝 메서드\n",
    "    def als_step(self, ratings, solve_vecs, fixed_vecs):\n",
    "        # normal equation - 업데이트 되지 않을 user/item feature의 공분산 matrix\n",
    "        # feature가 주어진(고정된) 상태에서 최적의 해를 찾아 그 행렬을 새로운 factors로 사용\n",
    "        # 가령, user_factors가 고정되어 있을 때는 최적의 item_factors를 구하고, 반대도 마찬가지\n",
    "        A = fixed_vecs.T.dot(fixed_vecs) + np.eye(self.factors) * self.reg\n",
    "        b = ratings.dot(fixed_vecs)\n",
    "        A_inv = np.linalg.inv(A)\n",
    "        solve_vecs = b.dot(A_inv)\n",
    "        return solve_vecs\n",
    "\n",
    "    def predict(self):\n",
    "        pred = self.user_factors.dot(self.item_factors.T)\n",
    "        return pred"
   ]
  },
  {
   "cell_type": "code",
   "execution_count": 5,
   "id": "3414811c-7558-433f-a017-a060bdb59c26",
   "metadata": {
    "executionInfo": {
     "elapsed": 85363,
     "status": "ok",
     "timestamp": 1684660515084,
     "user": {
      "displayName": "Myeonghak Lee",
      "userId": "01376346143254624391"
     },
     "user_tz": -540
    },
    "id": "3414811c-7558-433f-a017-a060bdb59c26"
   },
   "outputs": [],
   "source": [
    "# 1. 데이터 로드\n",
    "url = 'https://archive.ics.uci.edu/ml/machine-learning-databases/00502/online_retail_II.xlsx'\n",
    "df = pd.read_excel(url)"
   ]
  },
  {
   "cell_type": "code",
   "execution_count": 6,
   "id": "7ahYxKF5mu5I",
   "metadata": {
    "id": "7ahYxKF5mu5I"
   },
   "outputs": [],
   "source": [
    "df['Customer ID'] = df['Customer ID'].astype('category')\n",
    "df['StockCode'] = df['StockCode'].astype('category')\n",
    "df = df.rename({\"Customer ID\":\"CustomerID\"}, axis=1)"
   ]
  },
  {
   "cell_type": "code",
   "execution_count": 7,
   "id": "cedaf0c0-4bc6-45fb-be6c-5f73cf96a0a2",
   "metadata": {
    "executionInfo": {
     "elapsed": 432,
     "status": "ok",
     "timestamp": 1684660515499,
     "user": {
      "displayName": "Myeonghak Lee",
      "userId": "01376346143254624391"
     },
     "user_tz": -540
    },
    "id": "cedaf0c0-4bc6-45fb-be6c-5f73cf96a0a2"
   },
   "outputs": [],
   "source": [
    "# 2. 피벗 테이블 만들기 -> 너무 적은 인터렉션을 갖는 유저/아이템은 배제\n",
    "interaction_counts = df.groupby('CustomerID').StockCode.count()\n",
    "df = df[df.CustomerID.isin(interaction_counts[interaction_counts > 10].index)]\n",
    "\n",
    "item_counts = df.StockCode.value_counts()\n",
    "df = df[df.StockCode.isin(item_counts[item_counts > 10].index)]"
   ]
  },
  {
   "cell_type": "code",
   "execution_count": 8,
   "id": "yXLTHHf9mDMX",
   "metadata": {
    "colab": {
     "base_uri": "https://localhost:8080/",
     "height": 206
    },
    "executionInfo": {
     "elapsed": 355,
     "status": "ok",
     "timestamp": 1684660835919,
     "user": {
      "displayName": "Myeonghak Lee",
      "userId": "01376346143254624391"
     },
     "user_tz": -540
    },
    "id": "yXLTHHf9mDMX",
    "outputId": "ca4d5b79-ddb6-475b-a6de-1b6cfec4203a"
   },
   "outputs": [
    {
     "data": {
      "text/html": [
       "<div>\n",
       "<style scoped>\n",
       "    .dataframe tbody tr th:only-of-type {\n",
       "        vertical-align: middle;\n",
       "    }\n",
       "\n",
       "    .dataframe tbody tr th {\n",
       "        vertical-align: top;\n",
       "    }\n",
       "\n",
       "    .dataframe thead th {\n",
       "        text-align: right;\n",
       "    }\n",
       "</style>\n",
       "<table border=\"1\" class=\"dataframe\">\n",
       "  <thead>\n",
       "    <tr style=\"text-align: right;\">\n",
       "      <th></th>\n",
       "      <th>Invoice</th>\n",
       "      <th>StockCode</th>\n",
       "      <th>Description</th>\n",
       "      <th>Quantity</th>\n",
       "      <th>InvoiceDate</th>\n",
       "      <th>Price</th>\n",
       "      <th>CustomerID</th>\n",
       "      <th>Country</th>\n",
       "    </tr>\n",
       "  </thead>\n",
       "  <tbody>\n",
       "    <tr>\n",
       "      <th>0</th>\n",
       "      <td>489434</td>\n",
       "      <td>85048</td>\n",
       "      <td>15CM CHRISTMAS GLASS BALL 20 LIGHTS</td>\n",
       "      <td>12</td>\n",
       "      <td>2009-12-01 07:45:00</td>\n",
       "      <td>6.95</td>\n",
       "      <td>13085.0</td>\n",
       "      <td>United Kingdom</td>\n",
       "    </tr>\n",
       "    <tr>\n",
       "      <th>1</th>\n",
       "      <td>489434</td>\n",
       "      <td>79323P</td>\n",
       "      <td>PINK CHERRY LIGHTS</td>\n",
       "      <td>12</td>\n",
       "      <td>2009-12-01 07:45:00</td>\n",
       "      <td>6.75</td>\n",
       "      <td>13085.0</td>\n",
       "      <td>United Kingdom</td>\n",
       "    </tr>\n",
       "    <tr>\n",
       "      <th>2</th>\n",
       "      <td>489434</td>\n",
       "      <td>79323W</td>\n",
       "      <td>WHITE CHERRY LIGHTS</td>\n",
       "      <td>12</td>\n",
       "      <td>2009-12-01 07:45:00</td>\n",
       "      <td>6.75</td>\n",
       "      <td>13085.0</td>\n",
       "      <td>United Kingdom</td>\n",
       "    </tr>\n",
       "    <tr>\n",
       "      <th>3</th>\n",
       "      <td>489434</td>\n",
       "      <td>22041</td>\n",
       "      <td>RECORD FRAME 7\" SINGLE SIZE</td>\n",
       "      <td>48</td>\n",
       "      <td>2009-12-01 07:45:00</td>\n",
       "      <td>2.10</td>\n",
       "      <td>13085.0</td>\n",
       "      <td>United Kingdom</td>\n",
       "    </tr>\n",
       "    <tr>\n",
       "      <th>4</th>\n",
       "      <td>489434</td>\n",
       "      <td>21232</td>\n",
       "      <td>STRAWBERRY CERAMIC TRINKET BOX</td>\n",
       "      <td>24</td>\n",
       "      <td>2009-12-01 07:45:00</td>\n",
       "      <td>1.25</td>\n",
       "      <td>13085.0</td>\n",
       "      <td>United Kingdom</td>\n",
       "    </tr>\n",
       "  </tbody>\n",
       "</table>\n",
       "</div>"
      ],
      "text/plain": [
       "  Invoice StockCode                          Description  Quantity   \n",
       "0  489434     85048  15CM CHRISTMAS GLASS BALL 20 LIGHTS        12  \\\n",
       "1  489434    79323P                   PINK CHERRY LIGHTS        12   \n",
       "2  489434    79323W                  WHITE CHERRY LIGHTS        12   \n",
       "3  489434     22041         RECORD FRAME 7\" SINGLE SIZE         48   \n",
       "4  489434     21232       STRAWBERRY CERAMIC TRINKET BOX        24   \n",
       "\n",
       "          InvoiceDate  Price CustomerID         Country  \n",
       "0 2009-12-01 07:45:00   6.95    13085.0  United Kingdom  \n",
       "1 2009-12-01 07:45:00   6.75    13085.0  United Kingdom  \n",
       "2 2009-12-01 07:45:00   6.75    13085.0  United Kingdom  \n",
       "3 2009-12-01 07:45:00   2.10    13085.0  United Kingdom  \n",
       "4 2009-12-01 07:45:00   1.25    13085.0  United Kingdom  "
      ]
     },
     "execution_count": 8,
     "metadata": {},
     "output_type": "execute_result"
    }
   ],
   "source": [
    "df.head()"
   ]
  },
  {
   "cell_type": "code",
   "execution_count": 9,
   "id": "149d10f8-9f81-47ea-80db-436f6cca4daf",
   "metadata": {
    "executionInfo": {
     "elapsed": 11266,
     "status": "ok",
     "timestamp": 1684660526761,
     "user": {
      "displayName": "Myeonghak Lee",
      "userId": "01376346143254624391"
     },
     "user_tz": -540
    },
    "id": "149d10f8-9f81-47ea-80db-436f6cca4daf"
   },
   "outputs": [],
   "source": [
    "pivot = df.pivot_table(index='CustomerID', columns='StockCode', fill_value=0, aggfunc='size')"
   ]
  },
  {
   "cell_type": "code",
   "execution_count": 10,
   "id": "09619e92-7bb6-4945-b793-aa0ddf16fdcc",
   "metadata": {
    "executionInfo": {
     "elapsed": 10,
     "status": "ok",
     "timestamp": 1684660526761,
     "user": {
      "displayName": "Myeonghak Lee",
      "userId": "01376346143254624391"
     },
     "user_tz": -540
    },
    "id": "09619e92-7bb6-4945-b793-aa0ddf16fdcc"
   },
   "outputs": [],
   "source": [
    "# 3. implicit data로 변경 (binary화)\n",
    "pivot = (pivot > 0).astype(int)"
   ]
  },
  {
   "cell_type": "code",
   "execution_count": 11,
   "id": "yEkFGTOGmA6o",
   "metadata": {
    "colab": {
     "base_uri": "https://localhost:8080/",
     "height": 267
    },
    "executionInfo": {
     "elapsed": 8,
     "status": "ok",
     "timestamp": 1684660558902,
     "user": {
      "displayName": "Myeonghak Lee",
      "userId": "01376346143254624391"
     },
     "user_tz": -540
    },
    "id": "yEkFGTOGmA6o",
    "outputId": "1d9e91c3-b54f-4a75-a6be-279582ca778e"
   },
   "outputs": [
    {
     "data": {
      "text/html": [
       "<div>\n",
       "<style scoped>\n",
       "    .dataframe tbody tr th:only-of-type {\n",
       "        vertical-align: middle;\n",
       "    }\n",
       "\n",
       "    .dataframe tbody tr th {\n",
       "        vertical-align: top;\n",
       "    }\n",
       "\n",
       "    .dataframe thead th {\n",
       "        text-align: right;\n",
       "    }\n",
       "</style>\n",
       "<table border=\"1\" class=\"dataframe\">\n",
       "  <thead>\n",
       "    <tr style=\"text-align: right;\">\n",
       "      <th>StockCode</th>\n",
       "      <th>10002</th>\n",
       "      <th>10080</th>\n",
       "      <th>10109</th>\n",
       "      <th>10120</th>\n",
       "      <th>10125</th>\n",
       "      <th>10133</th>\n",
       "      <th>10134</th>\n",
       "      <th>10135</th>\n",
       "      <th>10138</th>\n",
       "      <th>11001</th>\n",
       "      <th>...</th>\n",
       "      <th>gift_0001_10</th>\n",
       "      <th>gift_0001_20</th>\n",
       "      <th>gift_0001_30</th>\n",
       "      <th>gift_0001_40</th>\n",
       "      <th>gift_0001_50</th>\n",
       "      <th>gift_0001_60</th>\n",
       "      <th>gift_0001_70</th>\n",
       "      <th>gift_0001_80</th>\n",
       "      <th>gift_0001_90</th>\n",
       "      <th>m</th>\n",
       "    </tr>\n",
       "    <tr>\n",
       "      <th>CustomerID</th>\n",
       "      <th></th>\n",
       "      <th></th>\n",
       "      <th></th>\n",
       "      <th></th>\n",
       "      <th></th>\n",
       "      <th></th>\n",
       "      <th></th>\n",
       "      <th></th>\n",
       "      <th></th>\n",
       "      <th></th>\n",
       "      <th></th>\n",
       "      <th></th>\n",
       "      <th></th>\n",
       "      <th></th>\n",
       "      <th></th>\n",
       "      <th></th>\n",
       "      <th></th>\n",
       "      <th></th>\n",
       "      <th></th>\n",
       "      <th></th>\n",
       "      <th></th>\n",
       "    </tr>\n",
       "  </thead>\n",
       "  <tbody>\n",
       "    <tr>\n",
       "      <th>12346.0</th>\n",
       "      <td>0</td>\n",
       "      <td>0</td>\n",
       "      <td>0</td>\n",
       "      <td>0</td>\n",
       "      <td>0</td>\n",
       "      <td>0</td>\n",
       "      <td>0</td>\n",
       "      <td>0</td>\n",
       "      <td>0</td>\n",
       "      <td>0</td>\n",
       "      <td>...</td>\n",
       "      <td>0</td>\n",
       "      <td>0</td>\n",
       "      <td>0</td>\n",
       "      <td>0</td>\n",
       "      <td>0</td>\n",
       "      <td>0</td>\n",
       "      <td>0</td>\n",
       "      <td>0</td>\n",
       "      <td>0</td>\n",
       "      <td>0</td>\n",
       "    </tr>\n",
       "    <tr>\n",
       "      <th>12347.0</th>\n",
       "      <td>0</td>\n",
       "      <td>0</td>\n",
       "      <td>0</td>\n",
       "      <td>0</td>\n",
       "      <td>0</td>\n",
       "      <td>0</td>\n",
       "      <td>0</td>\n",
       "      <td>0</td>\n",
       "      <td>0</td>\n",
       "      <td>0</td>\n",
       "      <td>...</td>\n",
       "      <td>0</td>\n",
       "      <td>0</td>\n",
       "      <td>0</td>\n",
       "      <td>0</td>\n",
       "      <td>0</td>\n",
       "      <td>0</td>\n",
       "      <td>0</td>\n",
       "      <td>0</td>\n",
       "      <td>0</td>\n",
       "      <td>0</td>\n",
       "    </tr>\n",
       "    <tr>\n",
       "      <th>12348.0</th>\n",
       "      <td>0</td>\n",
       "      <td>0</td>\n",
       "      <td>0</td>\n",
       "      <td>0</td>\n",
       "      <td>0</td>\n",
       "      <td>0</td>\n",
       "      <td>0</td>\n",
       "      <td>0</td>\n",
       "      <td>0</td>\n",
       "      <td>0</td>\n",
       "      <td>...</td>\n",
       "      <td>0</td>\n",
       "      <td>0</td>\n",
       "      <td>0</td>\n",
       "      <td>0</td>\n",
       "      <td>0</td>\n",
       "      <td>0</td>\n",
       "      <td>0</td>\n",
       "      <td>0</td>\n",
       "      <td>0</td>\n",
       "      <td>0</td>\n",
       "    </tr>\n",
       "    <tr>\n",
       "      <th>12349.0</th>\n",
       "      <td>0</td>\n",
       "      <td>0</td>\n",
       "      <td>0</td>\n",
       "      <td>0</td>\n",
       "      <td>0</td>\n",
       "      <td>0</td>\n",
       "      <td>0</td>\n",
       "      <td>0</td>\n",
       "      <td>0</td>\n",
       "      <td>0</td>\n",
       "      <td>...</td>\n",
       "      <td>0</td>\n",
       "      <td>0</td>\n",
       "      <td>0</td>\n",
       "      <td>0</td>\n",
       "      <td>0</td>\n",
       "      <td>0</td>\n",
       "      <td>0</td>\n",
       "      <td>0</td>\n",
       "      <td>0</td>\n",
       "      <td>0</td>\n",
       "    </tr>\n",
       "    <tr>\n",
       "      <th>12351.0</th>\n",
       "      <td>0</td>\n",
       "      <td>0</td>\n",
       "      <td>0</td>\n",
       "      <td>0</td>\n",
       "      <td>0</td>\n",
       "      <td>0</td>\n",
       "      <td>0</td>\n",
       "      <td>0</td>\n",
       "      <td>0</td>\n",
       "      <td>0</td>\n",
       "      <td>...</td>\n",
       "      <td>0</td>\n",
       "      <td>0</td>\n",
       "      <td>0</td>\n",
       "      <td>0</td>\n",
       "      <td>0</td>\n",
       "      <td>0</td>\n",
       "      <td>0</td>\n",
       "      <td>0</td>\n",
       "      <td>0</td>\n",
       "      <td>0</td>\n",
       "    </tr>\n",
       "  </tbody>\n",
       "</table>\n",
       "<p>5 rows × 4632 columns</p>\n",
       "</div>"
      ],
      "text/plain": [
       "StockCode   10002  10080  10109  10120  10125  10133  10134  10135  10138   \n",
       "CustomerID                                                                  \n",
       "12346.0         0      0      0      0      0      0      0      0      0  \\\n",
       "12347.0         0      0      0      0      0      0      0      0      0   \n",
       "12348.0         0      0      0      0      0      0      0      0      0   \n",
       "12349.0         0      0      0      0      0      0      0      0      0   \n",
       "12351.0         0      0      0      0      0      0      0      0      0   \n",
       "\n",
       "StockCode   11001  ...  gift_0001_10  gift_0001_20  gift_0001_30   \n",
       "CustomerID         ...                                             \n",
       "12346.0         0  ...             0             0             0  \\\n",
       "12347.0         0  ...             0             0             0   \n",
       "12348.0         0  ...             0             0             0   \n",
       "12349.0         0  ...             0             0             0   \n",
       "12351.0         0  ...             0             0             0   \n",
       "\n",
       "StockCode   gift_0001_40  gift_0001_50  gift_0001_60  gift_0001_70   \n",
       "CustomerID                                                           \n",
       "12346.0                0             0             0             0  \\\n",
       "12347.0                0             0             0             0   \n",
       "12348.0                0             0             0             0   \n",
       "12349.0                0             0             0             0   \n",
       "12351.0                0             0             0             0   \n",
       "\n",
       "StockCode   gift_0001_80  gift_0001_90  m  \n",
       "CustomerID                                 \n",
       "12346.0                0             0  0  \n",
       "12347.0                0             0  0  \n",
       "12348.0                0             0  0  \n",
       "12349.0                0             0  0  \n",
       "12351.0                0             0  0  \n",
       "\n",
       "[5 rows x 4632 columns]"
      ]
     },
     "execution_count": 11,
     "metadata": {},
     "output_type": "execute_result"
    }
   ],
   "source": [
    "pivot.head()"
   ]
  },
  {
   "cell_type": "code",
   "execution_count": 12,
   "id": "286e3797-70c6-489b-8e86-5747ee31f426",
   "metadata": {
    "executionInfo": {
     "elapsed": 1363,
     "status": "ok",
     "timestamp": 1684660528115,
     "user": {
      "displayName": "Myeonghak Lee",
      "userId": "01376346143254624391"
     },
     "user_tz": -540
    },
    "id": "286e3797-70c6-489b-8e86-5747ee31f426"
   },
   "outputs": [],
   "source": [
    "# 4. train/test split -> MF에서는 다른 방식!\n",
    "# masking 을 해서 해당 값을 test set 의 역할을 하도록 정의함\n",
    "test_ratio = 0.2\n",
    "train = pivot.copy()\n",
    "test = np.zeros(pivot.shape)\n",
    "\n",
    "for user in range(pivot.shape[0]):\n",
    "    test_interactions = np.random.choice(pivot.values[user, :].nonzero()[0], \n",
    "                                         size=int(test_ratio*np.sum(pivot.values[user, :])),\n",
    "                                         replace=False)\n",
    "    train.values[user, test_interactions] = 0.\n",
    "    test[user, test_interactions] = pivot.values[user, test_interactions]"
   ]
  },
  {
   "cell_type": "code",
   "execution_count": 13,
   "id": "3153607d-913c-416d-b9bf-133011826abd",
   "metadata": {
    "executionInfo": {
     "elapsed": 863,
     "status": "ok",
     "timestamp": 1684660528976,
     "user": {
      "displayName": "Myeonghak Lee",
      "userId": "01376346143254624391"
     },
     "user_tz": -540
    },
    "id": "3153607d-913c-416d-b9bf-133011826abd"
   },
   "outputs": [],
   "source": [
    "# Convert train and test matrix into sparse matrix\n",
    "train_csr = coo_matrix(train.values)\n",
    "test_csr = coo_matrix(test)"
   ]
  },
  {
   "cell_type": "code",
   "execution_count": 14,
   "id": "bb66e68f-72df-429b-95a5-c7eebbb8d52a",
   "metadata": {
    "executionInfo": {
     "elapsed": 438,
     "status": "ok",
     "timestamp": 1684661578961,
     "user": {
      "displayName": "Myeonghak Lee",
      "userId": "01376346143254624391"
     },
     "user_tz": -540
    },
    "id": "bb66e68f-72df-429b-95a5-c7eebbb8d52a"
   },
   "outputs": [],
   "source": [
    "n_latent_factors = 20"
   ]
  },
  {
   "cell_type": "code",
   "execution_count": 15,
   "id": "f88247bf-1a97-4aa8-99a0-9f05d51b6e2d",
   "metadata": {
    "executionInfo": {
     "elapsed": 338,
     "status": "ok",
     "timestamp": 1684661579297,
     "user": {
      "displayName": "Myeonghak Lee",
      "userId": "01376346143254624391"
     },
     "user_tz": -540
    },
    "id": "f88247bf-1a97-4aa8-99a0-9f05d51b6e2d"
   },
   "outputs": [],
   "source": [
    "# SVD\n",
    "\n",
    "# using sklearn Truncated SVD\n",
    "svd = TruncatedSVD(n_components=n_latent_factors, random_state=42)\n",
    "train_svd = svd.fit_transform(train_csr)\n",
    "svd_pred = svd.inverse_transform(svd.transform(test_csr))"
   ]
  },
  {
   "cell_type": "code",
   "execution_count": 16,
   "id": "d1cabd1b-6c1f-4932-a302-1a3915ac4599",
   "metadata": {
    "executionInfo": {
     "elapsed": 546,
     "status": "ok",
     "timestamp": 1684661579842,
     "user": {
      "displayName": "Myeonghak Lee",
      "userId": "01376346143254624391"
     },
     "user_tz": -540
    },
    "id": "d1cabd1b-6c1f-4932-a302-1a3915ac4599"
   },
   "outputs": [],
   "source": [
    "# using svds from scipy\n",
    "u, sigma, vt = svds(train_csr.astype(float), n_latent_factors)\n",
    "svd_pred = np.dot(u, np.dot(np.diag(sigma), vt))"
   ]
  },
  {
   "cell_type": "code",
   "execution_count": 17,
   "id": "87671bc9-c48c-477c-ae93-e4ea06bd3f25",
   "metadata": {
    "colab": {
     "base_uri": "https://localhost:8080/"
    },
    "executionInfo": {
     "elapsed": 4,
     "status": "ok",
     "timestamp": 1684661579842,
     "user": {
      "displayName": "Myeonghak Lee",
      "userId": "01376346143254624391"
     },
     "user_tz": -540
    },
    "id": "87671bc9-c48c-477c-ae93-e4ea06bd3f25",
    "outputId": "73829a41-19a9-46e9-8c31-22d3ed2a03ab"
   },
   "outputs": [
    {
     "name": "stdout",
     "output_type": "stream",
     "text": [
      "shapes of the matrices: ((4383, 20), (20,), (20, 4632))\n"
     ]
    }
   ],
   "source": [
    "print(f'shapes of the matrices: {u.shape, sigma.shape, vt.shape}')"
   ]
  },
  {
   "cell_type": "code",
   "execution_count": 18,
   "id": "2f78af13-f0a9-4211-98f0-f152707113f5",
   "metadata": {
    "executionInfo": {
     "elapsed": 3141,
     "status": "ok",
     "timestamp": 1684661582980,
     "user": {
      "displayName": "Myeonghak Lee",
      "userId": "01376346143254624391"
     },
     "user_tz": -540
    },
    "id": "2f78af13-f0a9-4211-98f0-f152707113f5"
   },
   "outputs": [
    {
     "name": "stderr",
     "output_type": "stream",
     "text": [
      "/opt/homebrew/Caskroom/miniforge/base/envs/bq_python/lib/python3.9/site-packages/sklearn/decomposition/_nmf.py:1742: ConvergenceWarning: Maximum number of iterations 200 reached. Increase it to improve convergence.\n",
      "  warnings.warn(\n"
     ]
    }
   ],
   "source": [
    "# NMF\n",
    "model = NMF(n_components=n_latent_factors, init='random', random_state=0)\n",
    "\n",
    "W = model.fit_transform(train_csr)\n",
    "H = model.components_\n",
    "nmf_pred = np.dot(W, H)"
   ]
  },
  {
   "cell_type": "code",
   "execution_count": 19,
   "id": "1e63bac9-b439-4104-8861-9097a0000418",
   "metadata": {
    "executionInfo": {
     "elapsed": 5148,
     "status": "ok",
     "timestamp": 1684661595026,
     "user": {
      "displayName": "Myeonghak Lee",
      "userId": "01376346143254624391"
     },
     "user_tz": -540
    },
    "id": "1e63bac9-b439-4104-8861-9097a0000418",
    "tags": []
   },
   "outputs": [],
   "source": [
    "# train ALS model\n",
    "als = ALS(factors = n_latent_factors, iterations=100, reg=0.01)\n",
    "als.fit(train_csr)\n",
    "\n",
    "# predict\n",
    "als_pred = als.predict()"
   ]
  },
  {
   "cell_type": "code",
   "execution_count": 20,
   "id": "86f81653-cdab-4a22-b308-ea2526b78f56",
   "metadata": {
    "executionInfo": {
     "elapsed": 730,
     "status": "ok",
     "timestamp": 1684661596829,
     "user": {
      "displayName": "Myeonghak Lee",
      "userId": "01376346143254624391"
     },
     "user_tz": -540
    },
    "id": "86f81653-cdab-4a22-b308-ea2526b78f56",
    "tags": []
   },
   "outputs": [],
   "source": [
    "at_k = 10\n",
    "\n",
    "# Make sure the predicted scores are in the range [0, 1]\n",
    "predicted_svd = (svd_pred - svd_pred.min()) / (svd_pred.max() - svd_pred.min())\n",
    "predicted_nmf = (nmf_pred - nmf_pred.min()) / (nmf_pred.max() - nmf_pred.min())\n",
    "predicted_als = (als_pred - als_pred.min()) / (als_pred.max() - als_pred.min())"
   ]
  },
  {
   "cell_type": "code",
   "execution_count": 21,
   "id": "74cf2ca9-405a-4ead-b832-001a3fcf6ecb",
   "metadata": {
    "colab": {
     "base_uri": "https://localhost:8080/"
    },
    "executionInfo": {
     "elapsed": 1090,
     "status": "ok",
     "timestamp": 1684661597916,
     "user": {
      "displayName": "Myeonghak Lee",
      "userId": "01376346143254624391"
     },
     "user_tz": -540
    },
    "id": "74cf2ca9-405a-4ead-b832-001a3fcf6ecb",
    "outputId": "a1ffb4e5-b935-4bf4-a89c-c88a70958013",
    "tags": []
   },
   "outputs": [
    {
     "name": "stdout",
     "output_type": "stream",
     "text": [
      "SVD RMSE:  0.45326041191122307\n",
      "NMF RMSE:  0.050503834456889246\n",
      "ALS RMSE:  0.44147397078103323\n"
     ]
    }
   ],
   "source": [
    "from sklearn.metrics import mean_squared_error\n",
    "\n",
    "# Calculate RMSE for SVD\n",
    "svd_rmse = np.sqrt(mean_squared_error(test_csr.toarray(), predicted_svd))\n",
    "print('SVD RMSE: ', svd_rmse)\n",
    "\n",
    "# Calculate RMSE for NMF\n",
    "nmf_rmse = np.sqrt(mean_squared_error(test_csr.toarray(), predicted_nmf))\n",
    "print('NMF RMSE: ', nmf_rmse)\n",
    "\n",
    "# Calculate RMSE for ALS\n",
    "als_rmse = np.sqrt(mean_squared_error(test_csr.toarray(), predicted_als))\n",
    "print('ALS RMSE: ', als_rmse)\n"
   ]
  },
  {
   "cell_type": "code",
   "execution_count": null,
   "id": "v3-v0K4_p69v",
   "metadata": {
    "executionInfo": {
     "elapsed": 7,
     "status": "aborted",
     "timestamp": 1684661583271,
     "user": {
      "displayName": "Myeonghak Lee",
      "userId": "01376346143254624391"
     },
     "user_tz": -540
    },
    "id": "v3-v0K4_p69v"
   },
   "outputs": [],
   "source": []
  }
 ],
 "metadata": {
  "colab": {
   "provenance": []
  },
  "kernelspec": {
   "display_name": "bq_python",
   "language": "python",
   "name": "python3"
  },
  "language_info": {
   "codemirror_mode": {
    "name": "ipython",
    "version": 3
   },
   "file_extension": ".py",
   "mimetype": "text/x-python",
   "name": "python",
   "nbconvert_exporter": "python",
   "pygments_lexer": "ipython3",
   "version": "3.9.16"
  }
 },
 "nbformat": 4,
 "nbformat_minor": 5
}
