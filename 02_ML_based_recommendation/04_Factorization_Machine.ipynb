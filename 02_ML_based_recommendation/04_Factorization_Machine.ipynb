{
 "cells": [
  {
   "cell_type": "code",
   "execution_count": 2,
   "id": "4893b5ff-0f79-448b-a45b-67ff4b205259",
   "metadata": {
    "executionInfo": {
     "elapsed": 1964,
     "status": "ok",
     "timestamp": 1685256284649,
     "user": {
      "displayName": "Myeonghak Lee",
      "userId": "01376346143254624391"
     },
     "user_tz": -540
    },
    "id": "4893b5ff-0f79-448b-a45b-67ff4b205259"
   },
   "outputs": [],
   "source": [
    "from tqdm import tqdm\n",
    "import numpy as np\n",
    "import pandas as pd\n",
    "from sklearn.preprocessing import LabelEncoder\n",
    "from sklearn.model_selection import train_test_split\n",
    "from sklearn.metrics import roc_auc_score, mean_squared_error"
   ]
  },
  {
   "cell_type": "code",
   "execution_count": 13,
   "id": "XCn75Ugv-V2u",
   "metadata": {
    "executionInfo": {
     "elapsed": 1,
     "status": "ok",
     "timestamp": 1685256419733,
     "user": {
      "displayName": "Myeonghak Lee",
      "userId": "01376346143254624391"
     },
     "user_tz": -540
    },
    "id": "XCn75Ugv-V2u"
   },
   "outputs": [],
   "source": [
    "class FM:\n",
    "    def __init__(self, n_factors=10, learning_rate=0.01, n_epochs=10):\n",
    "        self.n_factors = n_factors\n",
    "        self.learning_rate = learning_rate\n",
    "        self.n_epochs = n_epochs\n",
    "\n",
    "    def fit(self, X, y, X_val, y_val):\n",
    "        # label encoder는 1부터 카운트하기 때문에, nunique를 지정해 주기 위해 1을 더해 줌\n",
    "        self.n_users = int(np.max(X[:, 0]) + 1)\n",
    "        self.n_items = int(np.max(X[:, 1]) + 1)\n",
    "        \n",
    "        # 실제 y label의 평균을 global bias로 설정\n",
    "        self.global_bias = np.mean(y)\n",
    "        \n",
    "        # 유저/아이템 피처별 bias를 0으로 셋팅\n",
    "        self.user_bias = np.zeros(self.n_users)\n",
    "        self.item_bias = np.zeros(self.n_items)\n",
    "        \n",
    "        # 평균 0, std 0.1인 정규분포에서 유저 및 아이템 팩터 초기화, 각 대상 별 n_factors개의 팩터를 할당\n",
    "        self.user_factors = np.random.normal(scale=0.1, size=(self.n_users, self.n_factors))\n",
    "        self.item_factors = np.random.normal(scale=0.1, size=(self.n_items, self.n_factors))\n",
    "\n",
    "        for epoch in tqdm(range(self.n_epochs), desc='Training epoch'):\n",
    "            \n",
    "            # 각 epoch에 따라 다음을 수행\n",
    "            for i in range(X.shape[0]):\n",
    "                \n",
    "                # 학습셋 내의 user-item pair를 대상으로 다음을 반복\n",
    "                user, item = int(X[i, 0]), int(X[i, 1])\n",
    "                \n",
    "                # 예측 값 생성\n",
    "                prediction = self.predict(user, item)\n",
    "                \n",
    "                # 실제 값과 예측 값을 대조함으로써 error 계산 -> loss function 계산에 사용 \n",
    "                e = (y[i] - prediction)  \n",
    "                \n",
    "                # Loss function을 bias term에 대해 미분 -> (e - bias)로 계산\n",
    "                self.user_bias[user] += self.learning_rate * (e - self.user_bias[user])\n",
    "                self.item_bias[item] += self.learning_rate * (e - self.item_bias[item])\n",
    "                \n",
    "                # pairwise term의 Loss function을 latent factor에 대해 미분 -> (e * 상대 factor - 타겟 factor)로 계산\n",
    "                self.user_factors[user] += self.learning_rate * (e * self.item_factors[item] - self.user_factors[user])\n",
    "                self.item_factors[item] += self.learning_rate * (e * self.user_factors[user] - self.item_factors[item])\n",
    "\n",
    "            # 전체 로스 계산\n",
    "            loss = 0\n",
    "            for i in range(X.shape[0]):\n",
    "                user, item = int(X[i, 0]), int(X[i, 1])\n",
    "                prediction = self.predict(user, item)\n",
    "                loss += (y[i] - prediction) ** 2\n",
    "\n",
    "            # validation pair에 대해 metrics 계산\n",
    "            y_pred = [self.predict(user, item) for user, item in X_val]\n",
    "            auc_score = roc_auc_score(y_val, y_pred)\n",
    "            rmse = np.sqrt(mean_squared_error(y_val, y_pred))\n",
    "\n",
    "            print(f'Epoch {epoch + 1}/{self.n_epochs} - loss: {loss / X.shape[0]} - val_auc: {auc_score} - val_rmse: {rmse}')\n",
    "\n",
    "        return self\n",
    "\n",
    "    def predict(self, user, item):\n",
    "        # global bias와 user/item bias를 각각 더해주고, item/user factor를 내적해 준 값을 더해 최종 예측을 생성\n",
    "        prediction = (self.global_bias +\n",
    "                      self.user_bias[user] +\n",
    "                      self.item_bias[item] +\n",
    "                      np.dot(self.item_factors[item], self.user_factors[user]))\n",
    "        return prediction"
   ]
  },
  {
   "cell_type": "code",
   "execution_count": 32,
   "id": "ajezmJR--P1O",
   "metadata": {
    "executionInfo": {
     "elapsed": 3449,
     "status": "ok",
     "timestamp": 1685257434166,
     "user": {
      "displayName": "Myeonghak Lee",
      "userId": "01376346143254624391"
     },
     "user_tz": -540
    },
    "id": "ajezmJR--P1O"
   },
   "outputs": [],
   "source": [
    "# 데이터셋 로드\n",
    "data_path = './anime/'\n",
    "\n",
    "anime = pd.read_csv(data_path+'anime.csv')\n",
    "rating = pd.read_csv(data_path+'rating.csv')"
   ]
  },
  {
   "cell_type": "code",
   "execution_count": 33,
   "id": "fb41ac16-ee7d-4f34-8dd3-5a5f08c1b9af",
   "metadata": {
    "executionInfo": {
     "elapsed": 428,
     "status": "ok",
     "timestamp": 1685257434592,
     "user": {
      "displayName": "Myeonghak Lee",
      "userId": "01376346143254624391"
     },
     "user_tz": -540
    },
    "id": "fb41ac16-ee7d-4f34-8dd3-5a5f08c1b9af"
   },
   "outputs": [],
   "source": [
    "rating_sampled = rating.sample(100_000, random_state=42)"
   ]
  },
  {
   "cell_type": "code",
   "execution_count": 34,
   "id": "-e2nhL6DK3nL",
   "metadata": {
    "colab": {
     "base_uri": "https://localhost:8080/"
    },
    "executionInfo": {
     "elapsed": 31340,
     "status": "ok",
     "timestamp": 1685257465930,
     "user": {
      "displayName": "Myeonghak Lee",
      "userId": "01376346143254624391"
     },
     "user_tz": -540
    },
    "id": "-e2nhL6DK3nL",
    "outputId": "a4138492-4976-43a3-e2da-73fb4dd36fb7"
   },
   "outputs": [
    {
     "name": "stderr",
     "output_type": "stream",
     "text": [
      "Training epoch:  10%|█         | 1/10 [00:02<00:26,  2.93s/it]"
     ]
    },
    {
     "name": "stdout",
     "output_type": "stream",
     "text": [
      "Epoch 1/10 - loss: 0.1723596429942134 - val_auc: 0.6728830165111832 - val_rmse: 0.4216138219265369\n"
     ]
    },
    {
     "name": "stderr",
     "output_type": "stream",
     "text": [
      "\rTraining epoch:  20%|██        | 2/10 [00:05<00:20,  2.60s/it]"
     ]
    },
    {
     "name": "stdout",
     "output_type": "stream",
     "text": [
      "Epoch 2/10 - loss: 0.16259868204420502 - val_auc: 0.7245439470436138 - val_rmse: 0.41529465900901613\n"
     ]
    },
    {
     "name": "stderr",
     "output_type": "stream",
     "text": [
      "\rTraining epoch:  30%|███       | 3/10 [00:07<00:17,  2.49s/it]"
     ]
    },
    {
     "name": "stdout",
     "output_type": "stream",
     "text": [
      "Epoch 3/10 - loss: 0.15494193405228746 - val_auc: 0.751495024570934 - val_rmse: 0.4102777248837351\n"
     ]
    },
    {
     "name": "stderr",
     "output_type": "stream",
     "text": [
      "\rTraining epoch:  40%|████      | 4/10 [00:12<00:19,  3.31s/it]"
     ]
    },
    {
     "name": "stdout",
     "output_type": "stream",
     "text": [
      "Epoch 4/10 - loss: 0.1485998957003307 - val_auc: 0.7683709423636284 - val_rmse: 0.40607929581211816\n"
     ]
    },
    {
     "name": "stderr",
     "output_type": "stream",
     "text": [
      "\rTraining epoch:  50%|█████     | 5/10 [00:16<00:17,  3.55s/it]"
     ]
    },
    {
     "name": "stdout",
     "output_type": "stream",
     "text": [
      "Epoch 5/10 - loss: 0.14319836315925663 - val_auc: 0.779919375571202 - val_rmse: 0.40247949688187323\n"
     ]
    },
    {
     "name": "stderr",
     "output_type": "stream",
     "text": [
      "\rTraining epoch:  60%|██████    | 6/10 [00:18<00:12,  3.25s/it]"
     ]
    },
    {
     "name": "stdout",
     "output_type": "stream",
     "text": [
      "Epoch 6/10 - loss: 0.13851338172464747 - val_auc: 0.7882268413394693 - val_rmse: 0.3993455864808105\n"
     ]
    },
    {
     "name": "stderr",
     "output_type": "stream",
     "text": [
      "\rTraining epoch:  70%|███████   | 7/10 [00:21<00:08,  2.98s/it]"
     ]
    },
    {
     "name": "stdout",
     "output_type": "stream",
     "text": [
      "Epoch 7/10 - loss: 0.13439567505607317 - val_auc: 0.7944511145418742 - val_rmse: 0.39658729994641573\n"
     ]
    },
    {
     "name": "stderr",
     "output_type": "stream",
     "text": [
      "\rTraining epoch:  80%|████████  | 8/10 [00:24<00:05,  2.90s/it]"
     ]
    },
    {
     "name": "stdout",
     "output_type": "stream",
     "text": [
      "Epoch 8/10 - loss: 0.13073918700787202 - val_auc: 0.7992363157193408 - val_rmse: 0.39413909338128655\n"
     ]
    },
    {
     "name": "stderr",
     "output_type": "stream",
     "text": [
      "\rTraining epoch:  90%|█████████ | 9/10 [00:27<00:03,  3.21s/it]"
     ]
    },
    {
     "name": "stdout",
     "output_type": "stream",
     "text": [
      "Epoch 9/10 - loss: 0.12746522711951758 - val_auc: 0.8030466208404055 - val_rmse: 0.39195130124153416\n"
     ]
    },
    {
     "name": "stderr",
     "output_type": "stream",
     "text": [
      "Training epoch: 100%|██████████| 10/10 [00:30<00:00,  3.10s/it]"
     ]
    },
    {
     "name": "stdout",
     "output_type": "stream",
     "text": [
      "Epoch 10/10 - loss: 0.12451351804923798 - val_auc: 0.8060900247795616 - val_rmse: 0.3899851320949919\n",
      "sparsity:  0.000459066495809462\n"
     ]
    },
    {
     "name": "stderr",
     "output_type": "stream",
     "text": [
      "\n"
     ]
    }
   ],
   "source": [
    "# 데이터 전처리 \n",
    "merged = pd.merge(anime, rating_sampled, on='anime_id', suffixes= ['_anime', '_user'])\n",
    "merged = merged.dropna()\n",
    "merged = merged[['anime_id', 'name', 'genre', 'type', 'episodes', 'rating_user', 'user_id']]\n",
    "\n",
    "# user/item id 인코딩 \n",
    "user_enc = LabelEncoder()\n",
    "anime_enc = LabelEncoder()\n",
    "merged['user'] = user_enc.fit_transform(merged['user_id'].values)\n",
    "merged['anime'] = anime_enc.fit_transform(merged['anime_id'].values)"
   ]
  },
  {
   "cell_type": "code",
   "execution_count": 35,
   "id": "6wxwbKrNLC8-",
   "metadata": {
    "executionInfo": {
     "elapsed": 269,
     "status": "ok",
     "timestamp": 1685257512342,
     "user": {
      "displayName": "Myeonghak Lee",
      "userId": "01376346143254624391"
     },
     "user_tz": -540
    },
    "id": "6wxwbKrNLC8-"
   },
   "outputs": [],
   "source": [
    "# 6 이상의 평점을 갖는 경우 1로, 그 외에는 0으로 인코딩\n",
    "merged['rating'] = [1 if x>=6 else 0 for x in merged['rating_user']]\n",
    "\n",
    "# id 정보만을 사용\n",
    "X = merged[['user', 'anime']].values\n",
    "y = merged['rating'].values\n"
   ]
  },
  {
   "cell_type": "code",
   "execution_count": 36,
   "id": "P991R8faLOr2",
   "metadata": {
    "colab": {
     "base_uri": "https://localhost:8080/"
    },
    "executionInfo": {
     "elapsed": 3,
     "status": "ok",
     "timestamp": 1685257518575,
     "user": {
      "displayName": "Myeonghak Lee",
      "userId": "01376346143254624391"
     },
     "user_tz": -540
    },
    "id": "P991R8faLOr2",
    "outputId": "0ac55945-75cf-4a06-f561-b0a4cefc45b8"
   },
   "outputs": [
    {
     "data": {
      "text/plain": [
       "array([[17428,  5652],\n",
       "       [ 9387,  5652],\n",
       "       [21969,  5652],\n",
       "       [  698,  5652],\n",
       "       [ 2286,  5652]])"
      ]
     },
     "execution_count": 36,
     "metadata": {},
     "output_type": "execute_result"
    }
   ],
   "source": [
    "X[:5]"
   ]
  },
  {
   "cell_type": "code",
   "execution_count": 37,
   "id": "bm7WXjrhLRTb",
   "metadata": {
    "colab": {
     "base_uri": "https://localhost:8080/"
    },
    "executionInfo": {
     "elapsed": 3,
     "status": "ok",
     "timestamp": 1685257527650,
     "user": {
      "displayName": "Myeonghak Lee",
      "userId": "01376346143254624391"
     },
     "user_tz": -540
    },
    "id": "bm7WXjrhLRTb",
    "outputId": "3e236f6e-6a72-48fb-8d52-10d2424eb76c"
   },
   "outputs": [
    {
     "data": {
      "text/plain": [
       "array([1, 1, 1, 1, 1])"
      ]
     },
     "execution_count": 37,
     "metadata": {},
     "output_type": "execute_result"
    }
   ],
   "source": [
    "y[:5]"
   ]
  },
  {
   "cell_type": "code",
   "execution_count": 39,
   "id": "USDYw7hzLNk5",
   "metadata": {
    "colab": {
     "base_uri": "https://localhost:8080/"
    },
    "executionInfo": {
     "elapsed": 28189,
     "status": "ok",
     "timestamp": 1685257596775,
     "user": {
      "displayName": "Myeonghak Lee",
      "userId": "01376346143254624391"
     },
     "user_tz": -540
    },
    "id": "USDYw7hzLNk5",
    "outputId": "ef9de03d-1229-4164-b483-300324f77881"
   },
   "outputs": [
    {
     "name": "stderr",
     "output_type": "stream",
     "text": [
      "Training epoch:  10%|█         | 1/10 [00:02<00:20,  2.26s/it]"
     ]
    },
    {
     "name": "stdout",
     "output_type": "stream",
     "text": [
      "Epoch 1/10 - loss: 0.17241553843581012 - val_auc: 0.6752849245777984 - val_rmse: 0.4214228474980061\n"
     ]
    },
    {
     "name": "stderr",
     "output_type": "stream",
     "text": [
      "\rTraining epoch:  20%|██        | 2/10 [00:04<00:18,  2.31s/it]"
     ]
    },
    {
     "name": "stdout",
     "output_type": "stream",
     "text": [
      "Epoch 2/10 - loss: 0.16263964857953409 - val_auc: 0.7263915520673637 - val_rmse: 0.41515499206313866\n"
     ]
    },
    {
     "name": "stderr",
     "output_type": "stream",
     "text": [
      "\rTraining epoch:  30%|███       | 3/10 [00:07<00:16,  2.39s/it]"
     ]
    },
    {
     "name": "stdout",
     "output_type": "stream",
     "text": [
      "Epoch 3/10 - loss: 0.15496898739447196 - val_auc: 0.7528136983461897 - val_rmse: 0.4101732707119646\n"
     ]
    },
    {
     "name": "stderr",
     "output_type": "stream",
     "text": [
      "\rTraining epoch:  40%|████      | 4/10 [00:10<00:17,  2.85s/it]"
     ]
    },
    {
     "name": "stdout",
     "output_type": "stream",
     "text": [
      "Epoch 4/10 - loss: 0.14861669975111508 - val_auc: 0.7692257901261322 - val_rmse: 0.4059986116922031\n"
     ]
    },
    {
     "name": "stderr",
     "output_type": "stream",
     "text": [
      "\rTraining epoch:  50%|█████     | 5/10 [00:13<00:14,  2.99s/it]"
     ]
    },
    {
     "name": "stdout",
     "output_type": "stream",
     "text": [
      "Epoch 5/10 - loss: 0.14320820775844265 - val_auc: 0.7804018972987451 - val_rmse: 0.4024156801141082\n"
     ]
    },
    {
     "name": "stderr",
     "output_type": "stream",
     "text": [
      "\rTraining epoch:  60%|██████    | 6/10 [00:16<00:11,  2.81s/it]"
     ]
    },
    {
     "name": "stdout",
     "output_type": "stream",
     "text": [
      "Epoch 6/10 - loss: 0.13851867986126562 - val_auc: 0.7884860643568687 - val_rmse: 0.3992944745691222\n"
     ]
    },
    {
     "name": "stderr",
     "output_type": "stream",
     "text": [
      "\rTraining epoch:  70%|███████   | 7/10 [00:18<00:08,  2.71s/it]"
     ]
    },
    {
     "name": "stdout",
     "output_type": "stream",
     "text": [
      "Epoch 7/10 - loss: 0.13439809761009003 - val_auc: 0.7945029618373216 - val_rmse: 0.3965462417890923\n"
     ]
    },
    {
     "name": "stderr",
     "output_type": "stream",
     "text": [
      "\rTraining epoch:  80%|████████  | 8/10 [00:21<00:05,  2.63s/it]"
     ]
    },
    {
     "name": "stdout",
     "output_type": "stream",
     "text": [
      "Epoch 8/10 - loss: 0.13073986809525412 - val_auc: 0.7991617482175808 - val_rmse: 0.3941062646657229\n"
     ]
    },
    {
     "name": "stderr",
     "output_type": "stream",
     "text": [
      "\rTraining epoch:  90%|█████████ | 9/10 [00:24<00:02,  2.83s/it]"
     ]
    },
    {
     "name": "stdout",
     "output_type": "stream",
     "text": [
      "Epoch 9/10 - loss: 0.12746492809657636 - val_auc: 0.8028540778597781 - val_rmse: 0.39192534703758874\n"
     ]
    },
    {
     "name": "stderr",
     "output_type": "stream",
     "text": [
      "Training epoch: 100%|██████████| 10/10 [00:27<00:00,  2.77s/it]"
     ]
    },
    {
     "name": "stdout",
     "output_type": "stream",
     "text": [
      "Epoch 10/10 - loss: 0.12451274389016548 - val_auc: 0.8058521086854988 - val_rmse: 0.3899649840270636\n",
      "sparsity:  0.000459066495809462\n"
     ]
    },
    {
     "name": "stderr",
     "output_type": "stream",
     "text": [
      "\n"
     ]
    }
   ],
   "source": [
    "# Train-test split\n",
    "X_train, X_val, y_train, y_val = train_test_split(X, y, test_size=0.2, random_state=42)\n",
    "\n",
    "# 모델 인스턴스 생성 및 학습 \n",
    "fm = FM(n_factors=10, learning_rate=0.01, n_epochs=10)\n",
    "fm.fit(X_train, y_train, X_val, y_val)\n",
    "\n",
    "n_users = int(np.max(X_train[:, 0]) + 1)\n",
    "n_items = int(np.max(X_train[:, 1]) + 1)\n",
    "\n",
    "print(\"sparsity: \", rating_sampled.shape[0]/(n_users * n_items))"
   ]
  },
  {
   "cell_type": "code",
   "execution_count": 29,
   "id": "mb1gZZyaH7Ax",
   "metadata": {
    "colab": {
     "base_uri": "https://localhost:8080/"
    },
    "executionInfo": {
     "elapsed": 1,
     "status": "ok",
     "timestamp": 1685256681304,
     "user": {
      "displayName": "Myeonghak Lee",
      "userId": "01376346143254624391"
     },
     "user_tz": -540
    },
    "id": "mb1gZZyaH7Ax",
    "outputId": "96f94270-851f-4dc4-9d7f-d9f36dde28ea"
   },
   "outputs": [
    {
     "data": {
      "text/plain": [
       "2.335503459550988"
      ]
     },
     "execution_count": 29,
     "metadata": {},
     "output_type": "execute_result"
    }
   ],
   "source": [
    "pd.DataFrame(X_train)[0].value_counts().mean()"
   ]
  },
  {
   "cell_type": "code",
   "execution_count": null,
   "id": "CRPPN8NQLyHy",
   "metadata": {
    "id": "CRPPN8NQLyHy"
   },
   "outputs": [],
   "source": [
    "# step by step"
   ]
  },
  {
   "cell_type": "code",
   "execution_count": 17,
   "id": "D6_PMU9aHTYE",
   "metadata": {
    "executionInfo": {
     "elapsed": 429,
     "status": "ok",
     "timestamp": 1685256490807,
     "user": {
      "displayName": "Myeonghak Lee",
      "userId": "01376346143254624391"
     },
     "user_tz": -540
    },
    "id": "D6_PMU9aHTYE"
   },
   "outputs": [],
   "source": [
    "def predict(user, item):\n",
    "    # global bias와 user/item bias를 각각 더해주고, item/user factor를 내적해 준 값을 더해 최종 예측을 생성\n",
    "    prediction = (global_bias +\n",
    "                    user_bias[user] +\n",
    "                    item_bias[item] +\n",
    "                    np.dot(item_factors[item], user_factors[user]))\n",
    "    return prediction"
   ]
  },
  {
   "cell_type": "code",
   "execution_count": 18,
   "id": "RW_bYv1_Fzr6",
   "metadata": {
    "colab": {
     "base_uri": "https://localhost:8080/"
    },
    "executionInfo": {
     "elapsed": 3269,
     "status": "ok",
     "timestamp": 1685256495064,
     "user": {
      "displayName": "Myeonghak Lee",
      "userId": "01376346143254624391"
     },
     "user_tz": -540
    },
    "id": "RW_bYv1_Fzr6",
    "outputId": "fabf9498-7be1-4e15-ad9d-e567c1eb8673"
   },
   "outputs": [
    {
     "name": "stderr",
     "output_type": "stream",
     "text": [
      "Training epoch: 100%|██████████| 1/1 [00:03<00:00,  3.31s/it]"
     ]
    },
    {
     "name": "stdout",
     "output_type": "stream",
     "text": [
      "Epoch 1/1 - loss: 0.17110637498655906 - val_auc: 0.8023054817881665 - val_rmse: 0.41271441474929693\n"
     ]
    },
    {
     "name": "stderr",
     "output_type": "stream",
     "text": [
      "\n"
     ]
    }
   ],
   "source": [
    "n_epochs = 1\n",
    "n_factors = 8\n",
    "learning_rate = 0.01\n",
    "\n",
    "# label encoder는 1부터 카운트하기 때문에, nunique를 지정해 주기 위해 1을 더해 줌\n",
    "n_users = int(np.max(X[:, 0]) + 1)\n",
    "n_items = int(np.max(X[:, 1]) + 1)"
   ]
  },
  {
   "cell_type": "code",
   "execution_count": 20,
   "id": "VjL-yvWnHZ4X",
   "metadata": {
    "colab": {
     "base_uri": "https://localhost:8080/"
    },
    "executionInfo": {
     "elapsed": 4,
     "status": "ok",
     "timestamp": 1685256523307,
     "user": {
      "displayName": "Myeonghak Lee",
      "userId": "01376346143254624391"
     },
     "user_tz": -540
    },
    "id": "VjL-yvWnHZ4X",
    "outputId": "92e7be2b-0313-46ac-e9f8-fb872771d75f"
   },
   "outputs": [
    {
     "name": "stdout",
     "output_type": "stream",
     "text": [
      "37838 5757\n"
     ]
    }
   ],
   "source": [
    "print(n_users, n_items)"
   ]
  },
  {
   "cell_type": "code",
   "execution_count": null,
   "id": "P85CRCvwHZYl",
   "metadata": {
    "id": "P85CRCvwHZYl"
   },
   "outputs": [],
   "source": [
    "# 실제 y label의 평균을 global bias로 설정\n",
    "global_bias = np.mean(y)"
   ]
  },
  {
   "cell_type": "code",
   "execution_count": 21,
   "id": "t9RdjszWHeCT",
   "metadata": {
    "colab": {
     "base_uri": "https://localhost:8080/"
    },
    "executionInfo": {
     "elapsed": 1,
     "status": "ok",
     "timestamp": 1685256531034,
     "user": {
      "displayName": "Myeonghak Lee",
      "userId": "01376346143254624391"
     },
     "user_tz": -540
    },
    "id": "t9RdjszWHeCT",
    "outputId": "78c29336-e440-4395-d1d1-a5336241e18f"
   },
   "outputs": [
    {
     "data": {
      "text/plain": [
       "0.751085021700434"
      ]
     },
     "execution_count": 21,
     "metadata": {},
     "output_type": "execute_result"
    }
   ],
   "source": [
    "global_bias"
   ]
  },
  {
   "cell_type": "code",
   "execution_count": 40,
   "id": "ZXwHUk0yHdXK",
   "metadata": {
    "executionInfo": {
     "elapsed": 265,
     "status": "ok",
     "timestamp": 1685257771695,
     "user": {
      "displayName": "Myeonghak Lee",
      "userId": "01376346143254624391"
     },
     "user_tz": -540
    },
    "id": "ZXwHUk0yHdXK"
   },
   "outputs": [],
   "source": [
    "# 유저/아이템 피처별 bias를 0으로 셋팅\n",
    "user_bias = np.zeros(n_users)\n",
    "item_bias = np.zeros(n_items)\n",
    "\n",
    "# 평균 0, std 0.1인 정규분포에서 유저 및 아이템 팩터 초기화, 각 대상 별 n_factors개의 팩터를 할당\n",
    "user_factors = np.random.normal(scale=0.1, size=(n_users, n_factors))\n",
    "item_factors = np.random.normal(scale=0.1, size=(n_items, n_factors))"
   ]
  },
  {
   "cell_type": "code",
   "execution_count": 43,
   "id": "y0jvQv6jHidQ",
   "metadata": {
    "colab": {
     "base_uri": "https://localhost:8080/"
    },
    "executionInfo": {
     "elapsed": 2,
     "status": "ok",
     "timestamp": 1685257814473,
     "user": {
      "displayName": "Myeonghak Lee",
      "userId": "01376346143254624391"
     },
     "user_tz": -540
    },
    "id": "y0jvQv6jHidQ",
    "outputId": "5fa14eef-f402-4c5d-ddc5-5beec6efddda"
   },
   "outputs": [
    {
     "data": {
      "text/plain": [
       "array([[ 0.1092795 , -0.12088772,  0.02212493,  0.09984646, -0.07448534,\n",
       "        -0.05117256, -0.0320646 ,  0.06428975],\n",
       "       [-0.2217324 , -0.17362378,  0.00908396,  0.11450284, -0.07122338,\n",
       "        -0.02931193, -0.11545684, -0.02594664],\n",
       "       [-0.03000867, -0.12746609,  0.05367946, -0.05765581, -0.17685408,\n",
       "         0.01809996, -0.23176421,  0.08548527],\n",
       "       [ 0.13715115,  0.18364744, -0.06137639, -0.09898509,  0.03221877,\n",
       "         0.01196739, -0.07924032,  0.0236374 ],\n",
       "       [ 0.19615906, -0.14759854,  0.09061463, -0.09427315, -0.00926252,\n",
       "        -0.11873279,  0.00775792,  0.13320269],\n",
       "       [ 0.02478118, -0.0143987 , -0.06846221, -0.13220904, -0.24415747,\n",
       "         0.04777324, -0.03819582,  0.1954017 ],\n",
       "       [ 0.080346  ,  0.00177874, -0.09574243, -0.0149212 ,  0.04971864,\n",
       "        -0.08363625, -0.01315097, -0.04980055],\n",
       "       [-0.14009802,  0.00475749,  0.17803071,  0.16373105, -0.04011767,\n",
       "         0.01336875,  0.19974464,  0.01170048],\n",
       "       [ 0.14619131,  0.05219394,  0.04910892,  0.15657363, -0.02743508,\n",
       "        -0.18674692, -0.14528307, -0.18125216],\n",
       "       [ 0.08838305,  0.146424  ,  0.15589155, -0.09341165, -0.19721495,\n",
       "         0.02375008,  0.04185933, -0.02189027]])"
      ]
     },
     "execution_count": 43,
     "metadata": {},
     "output_type": "execute_result"
    }
   ],
   "source": [
    "user_factors[:10]"
   ]
  },
  {
   "cell_type": "code",
   "execution_count": null,
   "id": "Vq7zA2Y9Hg00",
   "metadata": {
    "id": "Vq7zA2Y9Hg00"
   },
   "outputs": [],
   "source": [
    "for epoch in tqdm(range(n_epochs), desc='Training epoch'):\n",
    "    \n",
    "    # 각 epoch에 따라 다음을 수행\n",
    "    for i in range(X.shape[0]):\n",
    "        \n",
    "        # 학습셋 내의 user-item pair를 대상으로 다음을 반복\n",
    "        user, item = int(X[i, 0]), int(X[i, 1])\n",
    "        \n",
    "        # 예측 값 생성\n",
    "        prediction = predict(user, item)\n",
    "        \n",
    "        # 실제 값과 예측 값을 대조함으로써 error 계산 -> loss function 계산에 사용 \n",
    "        e = (y[i] - prediction)  \n",
    "        \n",
    "        # Loss function을 bias term에 대해 미분 -> (e - bias)로 계산\n",
    "        user_bias[user] += learning_rate * (e - user_bias[user])\n",
    "        item_bias[item] += learning_rate * (e - item_bias[item])\n",
    "        \n",
    "        # pairwise term의 Loss function을 latent factor에 대해 미분 -> (e * 상대 factor - 타겟 factor)로 계산\n",
    "        user_factors[user] += learning_rate * (e * item_factors[item] - user_factors[user])\n",
    "        item_factors[item] += learning_rate * (e * user_factors[user] - item_factors[item])\n",
    "        break\n",
    "\n",
    "    # 전체 로스 계산\n",
    "    loss = 0\n",
    "    for i in range(X.shape[0]):\n",
    "        user, item = int(X[i, 0]), int(X[i, 1])\n",
    "        prediction = predict(user, item)\n",
    "        loss += (y[i] - prediction) ** 2\n",
    "\n",
    "    # validation pair에 대해 metric 계산\n",
    "    y_pred = [predict(user, item) for user, item in X_val]\n",
    "    auc_score = roc_auc_score(y_val, y_pred)\n",
    "    rmse = np.sqrt(mean_squared_error(y_val, y_pred))\n",
    "\n",
    "    print(f'Epoch {epoch + 1}/{n_epochs} - loss: {loss / X.shape[0]} - val_auc: {auc_score} - val_rmse: {rmse}')"
   ]
  },
  {
   "cell_type": "code",
   "execution_count": null,
   "id": "6CB8zlBOFzpa",
   "metadata": {
    "id": "6CB8zlBOFzpa"
   },
   "outputs": [],
   "source": []
  },
  {
   "cell_type": "code",
   "execution_count": null,
   "id": "YFkmyZs9FznU",
   "metadata": {
    "id": "YFkmyZs9FznU"
   },
   "outputs": [],
   "source": []
  },
  {
   "cell_type": "code",
   "execution_count": null,
   "id": "f7e5b921-543c-4686-9869-8d439615e595",
   "metadata": {
    "id": "f7e5b921-543c-4686-9869-8d439615e595"
   },
   "outputs": [],
   "source": []
  },
  {
   "cell_type": "code",
   "execution_count": 44,
   "id": "0c7d9c2a-a6a6-40ce-baca-a10acf005f22",
   "metadata": {
    "executionInfo": {
     "elapsed": 3904,
     "status": "ok",
     "timestamp": 1685258093933,
     "user": {
      "displayName": "Myeonghak Lee",
      "userId": "01376346143254624391"
     },
     "user_tz": -540
    },
    "id": "0c7d9c2a-a6a6-40ce-baca-a10acf005f22"
   },
   "outputs": [],
   "source": [
    "rating_sampled = rating.sample(1_000_000, random_state=42)\n",
    "\n",
    "# Preprocess the data\n",
    "merged = pd.merge(anime, rating_sampled, on='anime_id', suffixes= ['_anime', '_user'])\n",
    "merged = merged.dropna()\n",
    "merged = merged[['anime_id', 'name', 'genre', 'type', 'episodes', 'rating_user', 'user_id']]\n",
    "\n",
    "# Create features from user and anime\n",
    "user_enc = LabelEncoder()\n",
    "anime_enc = LabelEncoder()\n",
    "merged['user'] = user_enc.fit_transform(merged['user_id'].values)\n",
    "merged['anime'] = anime_enc.fit_transform(merged['anime_id'].values)\n",
    "\n",
    "# Transform ratings to binary\n",
    "merged['rating'] = [1 if x>=6 else 0 for x in merged['rating_user']]\n",
    "\n",
    "# Prepare the data\n",
    "X = merged[['user', 'anime']].values\n",
    "y = merged['rating'].values\n",
    "\n",
    "\n",
    "# Train-test split\n",
    "X_train, X_val, y_train, y_val = train_test_split(X, y, test_size=0.2, random_state=42)\n"
   ]
  },
  {
   "cell_type": "code",
   "execution_count": null,
   "id": "144GhE6ANbEI",
   "metadata": {
    "id": "144GhE6ANbEI"
   },
   "outputs": [],
   "source": [
    "# Create and train the FM model\n",
    "fm = FM(n_factors=10, learning_rate=0.01, n_epochs=10)\n",
    "fm.fit(X_train, y_train, X_val, y_val)\n",
    "\n",
    "n_users = int(np.max(X_train[:, 0]) + 1)\n",
    "n_items = int(np.max(X_train[:, 1]) + 1)\n",
    "\n",
    "print(\"sparsity: \", rating_sampled.shape[0]/(n_users * n_items))"
   ]
  },
  {
   "cell_type": "code",
   "execution_count": 45,
   "id": "26d67089-4f70-4791-88a5-e7c61a815bf8",
   "metadata": {
    "colab": {
     "base_uri": "https://localhost:8080/"
    },
    "executionInfo": {
     "elapsed": 2,
     "status": "ok",
     "timestamp": 1685258094361,
     "user": {
      "displayName": "Myeonghak Lee",
      "userId": "01376346143254624391"
     },
     "user_tz": -540
    },
    "id": "26d67089-4f70-4791-88a5-e7c61a815bf8",
    "outputId": "c1d70a92-448f-4b12-a6f2-598ca9f34700"
   },
   "outputs": [
    {
     "data": {
      "text/plain": [
       "12.611678648001009"
      ]
     },
     "execution_count": 45,
     "metadata": {},
     "output_type": "execute_result"
    }
   ],
   "source": [
    "pd.DataFrame(X_train)[0].value_counts().mean()"
   ]
  },
  {
   "cell_type": "code",
   "execution_count": null,
   "id": "RRXFbbHpILg_",
   "metadata": {
    "id": "RRXFbbHpILg_"
   },
   "outputs": [],
   "source": []
  },
  {
   "cell_type": "code",
   "execution_count": 30,
   "id": "a817a869-c4bc-468e-9a38-2d16c996d8b7",
   "metadata": {
    "colab": {
     "base_uri": "https://localhost:8080/"
    },
    "executionInfo": {
     "elapsed": 10978,
     "status": "ok",
     "timestamp": 1685256702403,
     "user": {
      "displayName": "Myeonghak Lee",
      "userId": "01376346143254624391"
     },
     "user_tz": -540
    },
    "id": "a817a869-c4bc-468e-9a38-2d16c996d8b7",
    "outputId": "ed9c3347-1480-4b4b-fb05-8ba267cc3be0"
   },
   "outputs": [
    {
     "name": "stderr",
     "output_type": "stream",
     "text": [
      "Training epoch:   3%|▎         | 1/30 [00:00<00:06,  4.18it/s]"
     ]
    },
    {
     "name": "stdout",
     "output_type": "stream",
     "text": [
      "Epoch 1/30 - loss: 0.1788476139407178 - val_auc: 0.4729431278109152 - val_rmse: 0.44674377877067534\n"
     ]
    },
    {
     "name": "stderr",
     "output_type": "stream",
     "text": [
      "\rTraining epoch:   7%|▋         | 2/30 [00:00<00:07,  3.80it/s]"
     ]
    },
    {
     "name": "stdout",
     "output_type": "stream",
     "text": [
      "Epoch 2/30 - loss: 0.17035288089875697 - val_auc: 0.4985614493955536 - val_rmse: 0.44530924020434215\n"
     ]
    },
    {
     "name": "stderr",
     "output_type": "stream",
     "text": [
      "\rTraining epoch:  10%|█         | 3/30 [00:00<00:07,  3.83it/s]"
     ]
    },
    {
     "name": "stdout",
     "output_type": "stream",
     "text": [
      "Epoch 3/30 - loss: 0.16292421462450474 - val_auc: 0.5187840898216962 - val_rmse: 0.444145359375281\n"
     ]
    },
    {
     "name": "stderr",
     "output_type": "stream",
     "text": [
      "\rTraining epoch:  13%|█▎        | 4/30 [00:01<00:08,  3.23it/s]"
     ]
    },
    {
     "name": "stdout",
     "output_type": "stream",
     "text": [
      "Epoch 4/30 - loss: 0.1563220741601349 - val_auc: 0.5346266466779369 - val_rmse: 0.4431669135354193\n"
     ]
    },
    {
     "name": "stderr",
     "output_type": "stream",
     "text": [
      "\rTraining epoch:  17%|█▋        | 5/30 [00:01<00:07,  3.19it/s]"
     ]
    },
    {
     "name": "stdout",
     "output_type": "stream",
     "text": [
      "Epoch 5/30 - loss: 0.15038682769220857 - val_auc: 0.5468201971228989 - val_rmse: 0.4423256294593467\n"
     ]
    },
    {
     "name": "stderr",
     "output_type": "stream",
     "text": [
      "\rTraining epoch:  20%|██        | 6/30 [00:01<00:07,  3.39it/s]"
     ]
    },
    {
     "name": "stdout",
     "output_type": "stream",
     "text": [
      "Epoch 6/30 - loss: 0.14500458072274608 - val_auc: 0.5562629581193583 - val_rmse: 0.44159095210157345\n"
     ]
    },
    {
     "name": "stderr",
     "output_type": "stream",
     "text": [
      "\rTraining epoch:  23%|██▎       | 7/30 [00:02<00:07,  3.02it/s]"
     ]
    },
    {
     "name": "stdout",
     "output_type": "stream",
     "text": [
      "Epoch 7/30 - loss: 0.14009007869660894 - val_auc: 0.56442856687187 - val_rmse: 0.44094190809333167\n"
     ]
    },
    {
     "name": "stderr",
     "output_type": "stream",
     "text": [
      "\rTraining epoch:  27%|██▋       | 8/30 [00:02<00:07,  2.80it/s]"
     ]
    },
    {
     "name": "stdout",
     "output_type": "stream",
     "text": [
      "Epoch 8/30 - loss: 0.13557723449610887 - val_auc: 0.5707518101495964 - val_rmse: 0.4403632527236294\n"
     ]
    },
    {
     "name": "stderr",
     "output_type": "stream",
     "text": [
      "\rTraining epoch:  30%|███       | 9/30 [00:02<00:07,  2.63it/s]"
     ]
    },
    {
     "name": "stdout",
     "output_type": "stream",
     "text": [
      "Epoch 9/30 - loss: 0.13141344701540164 - val_auc: 0.5761832158463845 - val_rmse: 0.439843448752318\n"
     ]
    },
    {
     "name": "stderr",
     "output_type": "stream",
     "text": [
      "\rTraining epoch:  33%|███▎      | 10/30 [00:03<00:08,  2.49it/s]"
     ]
    },
    {
     "name": "stdout",
     "output_type": "stream",
     "text": [
      "Epoch 10/30 - loss: 0.1275559764396566 - val_auc: 0.5806755765366336 - val_rmse: 0.4393735074921745\n"
     ]
    },
    {
     "name": "stderr",
     "output_type": "stream",
     "text": [
      "\rTraining epoch:  37%|███▋      | 11/30 [00:03<00:07,  2.43it/s]"
     ]
    },
    {
     "name": "stdout",
     "output_type": "stream",
     "text": [
      "Epoch 11/30 - loss: 0.1239695160176367 - val_auc: 0.5847047941054512 - val_rmse: 0.43894627300769107\n"
     ]
    },
    {
     "name": "stderr",
     "output_type": "stream",
     "text": [
      "\rTraining epoch:  40%|████      | 12/30 [00:04<00:07,  2.40it/s]"
     ]
    },
    {
     "name": "stdout",
     "output_type": "stream",
     "text": [
      "Epoch 12/30 - loss: 0.12062450024145577 - val_auc: 0.588101176995949 - val_rmse: 0.43855595259286667\n"
     ]
    },
    {
     "name": "stderr",
     "output_type": "stream",
     "text": [
      "\rTraining epoch:  43%|████▎     | 13/30 [00:04<00:07,  2.38it/s]"
     ]
    },
    {
     "name": "stdout",
     "output_type": "stream",
     "text": [
      "Epoch 13/30 - loss: 0.11749588768965598 - val_auc: 0.5911875219291252 - val_rmse: 0.438197793798279\n"
     ]
    },
    {
     "name": "stderr",
     "output_type": "stream",
     "text": [
      "\rTraining epoch:  47%|████▋     | 14/30 [00:05<00:06,  2.36it/s]"
     ]
    },
    {
     "name": "stdout",
     "output_type": "stream",
     "text": [
      "Epoch 14/30 - loss: 0.11456226181212939 - val_auc: 0.5938171031227074 - val_rmse: 0.43786785386914406\n"
     ]
    },
    {
     "name": "stderr",
     "output_type": "stream",
     "text": [
      "\rTraining epoch:  50%|█████     | 15/30 [00:05<00:06,  2.33it/s]"
     ]
    },
    {
     "name": "stdout",
     "output_type": "stream",
     "text": [
      "Epoch 15/30 - loss: 0.11180515168167472 - val_auc: 0.5960715766642213 - val_rmse: 0.43756283032748905\n"
     ]
    },
    {
     "name": "stderr",
     "output_type": "stream",
     "text": [
      "\rTraining epoch:  53%|█████▎    | 16/30 [00:06<00:05,  2.36it/s]"
     ]
    },
    {
     "name": "stdout",
     "output_type": "stream",
     "text": [
      "Epoch 16/30 - loss: 0.10920850916079558 - val_auc: 0.5980874613249976 - val_rmse: 0.4372799336257254\n"
     ]
    },
    {
     "name": "stderr",
     "output_type": "stream",
     "text": [
      "\rTraining epoch:  57%|█████▋    | 17/30 [00:06<00:05,  2.54it/s]"
     ]
    },
    {
     "name": "stdout",
     "output_type": "stream",
     "text": [
      "Epoch 17/30 - loss: 0.10675829992888194 - val_auc: 0.5999527925743996 - val_rmse: 0.4370167896739707\n"
     ]
    },
    {
     "name": "stderr",
     "output_type": "stream",
     "text": [
      "\rTraining epoch:  60%|██████    | 18/30 [00:06<00:04,  2.77it/s]"
     ]
    },
    {
     "name": "stdout",
     "output_type": "stream",
     "text": [
      "Epoch 18/30 - loss: 0.1044421790785634 - val_auc: 0.6016114318522535 - val_rmse: 0.4367713641217347\n"
     ]
    },
    {
     "name": "stderr",
     "output_type": "stream",
     "text": [
      "\rTraining epoch:  63%|██████▎   | 19/30 [00:06<00:03,  2.92it/s]"
     ]
    },
    {
     "name": "stdout",
     "output_type": "stream",
     "text": [
      "Epoch 19/30 - loss: 0.10224923063118428 - val_auc: 0.6032356224681827 - val_rmse: 0.4365419028064151\n"
     ]
    },
    {
     "name": "stderr",
     "output_type": "stream",
     "text": [
      "\rTraining epoch:  67%|██████▋   | 20/30 [00:07<00:03,  3.20it/s]"
     ]
    },
    {
     "name": "stdout",
     "output_type": "stream",
     "text": [
      "Epoch 20/30 - loss: 0.10016975610645285 - val_auc: 0.6046033619342286 - val_rmse: 0.4363268844168259\n"
     ]
    },
    {
     "name": "stderr",
     "output_type": "stream",
     "text": [
      "\rTraining epoch:  70%|███████   | 21/30 [00:07<00:02,  3.37it/s]"
     ]
    },
    {
     "name": "stdout",
     "output_type": "stream",
     "text": [
      "Epoch 21/30 - loss: 0.09819510124832548 - val_auc: 0.6057963063379159 - val_rmse: 0.43612498251369947\n"
     ]
    },
    {
     "name": "stderr",
     "output_type": "stream",
     "text": [
      "\rTraining epoch:  73%|███████▎  | 22/30 [00:07<00:02,  3.45it/s]"
     ]
    },
    {
     "name": "stdout",
     "output_type": "stream",
     "text": [
      "Epoch 22/30 - loss: 0.09631751278783247 - val_auc: 0.6069152499122835 - val_rmse: 0.4359350348018651\n"
     ]
    },
    {
     "name": "stderr",
     "output_type": "stream",
     "text": [
      "\rTraining epoch:  77%|███████▋  | 23/30 [00:08<00:02,  3.28it/s]"
     ]
    },
    {
     "name": "stdout",
     "output_type": "stream",
     "text": [
      "Epoch 23/30 - loss: 0.09453001910659395 - val_auc: 0.6080367452393862 - val_rmse: 0.4357560180795686\n"
     ]
    },
    {
     "name": "stderr",
     "output_type": "stream",
     "text": [
      "\rTraining epoch:  80%|████████  | 24/30 [00:08<00:01,  3.39it/s]"
     ]
    },
    {
     "name": "stdout",
     "output_type": "stream",
     "text": [
      "Epoch 24/30 - loss: 0.09282633010374318 - val_auc: 0.608997480144174 - val_rmse: 0.43558702767222224\n"
     ]
    },
    {
     "name": "stderr",
     "output_type": "stream",
     "text": [
      "\rTraining epoch:  83%|████████▎ | 25/30 [00:08<00:01,  3.35it/s]"
     ]
    },
    {
     "name": "stdout",
     "output_type": "stream",
     "text": [
      "Epoch 25/30 - loss: 0.09120075262881853 - val_auc: 0.6099326975216102 - val_rmse: 0.43542726043717184\n"
     ]
    },
    {
     "name": "stderr",
     "output_type": "stream",
     "text": [
      "\rTraining epoch:  87%|████████▋ | 26/30 [00:09<00:01,  2.47it/s]"
     ]
    },
    {
     "name": "stdout",
     "output_type": "stream",
     "text": [
      "Epoch 26/30 - loss: 0.089648118634207 - val_auc: 0.6108270868552838 - val_rmse: 0.435276000633257\n"
     ]
    },
    {
     "name": "stderr",
     "output_type": "stream",
     "text": [
      "\rTraining epoch:  90%|█████████ | 27/30 [00:09<00:01,  2.65it/s]"
     ]
    },
    {
     "name": "stdout",
     "output_type": "stream",
     "text": [
      "Epoch 27/30 - loss: 0.08816372379833642 - val_auc: 0.6116704411342541 - val_rmse: 0.4351326081044696\n"
     ]
    },
    {
     "name": "stderr",
     "output_type": "stream",
     "text": [
      "\rTraining epoch:  93%|█████████▎| 28/30 [00:09<00:00,  2.96it/s]"
     ]
    },
    {
     "name": "stdout",
     "output_type": "stream",
     "text": [
      "Epoch 28/30 - loss: 0.08674327482726338 - val_auc: 0.6123045516889414 - val_rmse: 0.4349965083449746\n"
     ]
    },
    {
     "name": "stderr",
     "output_type": "stream",
     "text": [
      "\rTraining epoch:  97%|█████████▋| 29/30 [00:10<00:00,  3.22it/s]"
     ]
    },
    {
     "name": "stdout",
     "output_type": "stream",
     "text": [
      "Epoch 29/30 - loss: 0.08538284399448744 - val_auc: 0.6128544544033684 - val_rmse: 0.4348671841030241\n"
     ]
    },
    {
     "name": "stderr",
     "output_type": "stream",
     "text": [
      "Training epoch: 100%|██████████| 30/30 [00:10<00:00,  2.91it/s]"
     ]
    },
    {
     "name": "stdout",
     "output_type": "stream",
     "text": [
      "Epoch 30/30 - loss: 0.08407882975310256 - val_auc: 0.6134120123760007 - val_rmse: 0.4347441682509361\n",
      "sparsity:  0.00042599559750589803\n"
     ]
    },
    {
     "name": "stderr",
     "output_type": "stream",
     "text": [
      "\n"
     ]
    }
   ],
   "source": [
    "rating_sampled = rating.sample(10_000, random_state=42)\n",
    "\n",
    "# Preprocess the data\n",
    "merged = pd.merge(anime, rating_sampled, on='anime_id', suffixes= ['_anime', '_user'])\n",
    "merged = merged.dropna()\n",
    "merged = merged[['anime_id', 'name', 'genre', 'type', 'episodes', 'rating_user', 'user_id']]\n",
    "\n",
    "# Create features from user and anime\n",
    "user_enc = LabelEncoder()\n",
    "anime_enc = LabelEncoder()\n",
    "merged['user'] = user_enc.fit_transform(merged['user_id'].values)\n",
    "merged['anime'] = anime_enc.fit_transform(merged['anime_id'].values)\n",
    "\n",
    "# Transform ratings to binary\n",
    "merged['rating'] = [1 if x>=6 else 0 for x in merged['rating_user']]\n",
    "\n",
    "# Prepare the data\n",
    "X = merged[['user', 'anime']].values\n",
    "y = merged['rating'].values\n",
    "\n",
    "\n",
    "# Train-test split\n",
    "X_train, X_val, y_train, y_val = train_test_split(X, y, test_size=0.2, random_state=42)\n",
    "\n",
    "# Create and train the FM model\n",
    "fm = FM(n_factors=20, learning_rate=0.01, n_epochs=30)\n",
    "fm.fit(X_train, y_train, X_val, y_val)\n",
    "\n",
    "\n",
    "n_users = int(np.max(X_train[:, 0]) + 1)\n",
    "n_items = int(np.max(X_train[:, 1]) + 1)\n",
    "\n",
    "print(\"sparsity: \", rating_sampled.shape[0]/(n_users * n_items))"
   ]
  },
  {
   "cell_type": "code",
   "execution_count": 31,
   "id": "9d9fb3dd-4745-41e5-8f44-0523405e10ec",
   "metadata": {
    "colab": {
     "base_uri": "https://localhost:8080/"
    },
    "executionInfo": {
     "elapsed": 7,
     "status": "ok",
     "timestamp": 1685256702403,
     "user": {
      "displayName": "Myeonghak Lee",
      "userId": "01376346143254624391"
     },
     "user_tz": -540
    },
    "id": "9d9fb3dd-4745-41e5-8f44-0523405e10ec",
    "outputId": "bf08adca-7d16-44ed-a56b-9745058d39af"
   },
   "outputs": [
    {
     "data": {
      "text/plain": [
       "1.1484352569623888"
      ]
     },
     "execution_count": 31,
     "metadata": {},
     "output_type": "execute_result"
    }
   ],
   "source": [
    "pd.DataFrame(X_train)[0].value_counts().mean()"
   ]
  },
  {
   "cell_type": "code",
   "execution_count": null,
   "id": "AdDjQJVSIGFa",
   "metadata": {
    "id": "AdDjQJVSIGFa"
   },
   "outputs": [],
   "source": []
  }
 ],
 "metadata": {
  "colab": {
   "provenance": []
  },
  "kernelspec": {
   "display_name": "Python 3",
   "language": "python",
   "name": "python3"
  },
  "language_info": {
   "codemirror_mode": {
    "name": "ipython",
    "version": 3
   },
   "file_extension": ".py",
   "mimetype": "text/x-python",
   "name": "python",
   "nbconvert_exporter": "python",
   "pygments_lexer": "ipython3",
   "version": "3.8.10"
  }
 },
 "nbformat": 4,
 "nbformat_minor": 5
}
