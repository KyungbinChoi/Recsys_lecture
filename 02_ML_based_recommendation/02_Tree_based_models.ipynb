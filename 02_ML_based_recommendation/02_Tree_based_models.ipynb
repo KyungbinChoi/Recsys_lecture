{
 "cells": [
  {
   "cell_type": "markdown",
   "id": "0671d72f",
   "metadata": {
    "id": "0671d72f"
   },
   "source": [
    "# Load Dataset"
   ]
  },
  {
   "cell_type": "code",
   "execution_count": 3,
   "id": "2d052e0e",
   "metadata": {
    "ExecuteTime": {
     "end_time": "2023-05-14T09:21:36.821195Z",
     "start_time": "2023-05-14T09:21:35.794965Z"
    },
    "executionInfo": {
     "elapsed": 4072,
     "status": "ok",
     "timestamp": 1684658843178,
     "user": {
      "displayName": "Myeonghak Lee",
      "userId": "01376346143254624391"
     },
     "user_tz": -540
    },
    "id": "2d052e0e"
   },
   "outputs": [],
   "source": [
    "import numpy as np\n",
    "import pandas as pd\n",
    "from sklearn.tree import DecisionTreeClassifier\n",
    "from sklearn.ensemble import RandomForestClassifier\n",
    "from sklearn.model_selection import train_test_split\n",
    "from sklearn.feature_extraction.text import TfidfVectorizer\n",
    "from sklearn.preprocessing import OneHotEncoder\n",
    "from lightgbm import LGBMClassifier\n",
    "from sklearn.metrics.pairwise import cosine_similarity\n",
    "from typing import List"
   ]
  },
  {
   "cell_type": "code",
   "execution_count": 4,
   "id": "STCPXjii-DLl",
   "metadata": {
    "executionInfo": {
     "elapsed": 2661,
     "status": "ok",
     "timestamp": 1684658848453,
     "user": {
      "displayName": "Myeonghak Lee",
      "userId": "01376346143254624391"
     },
     "user_tz": -540
    },
    "id": "STCPXjii-DLl"
   },
   "outputs": [],
   "source": [
    "data_path = './anime/'\n",
    "\n",
    "# Read the dataset\n",
    "animes = pd.read_csv(data_path+'anime.csv')\n",
    "ratings = pd.read_csv(data_path+'rating.csv')"
   ]
  },
  {
   "cell_type": "code",
   "execution_count": 5,
   "id": "e9b1aef4-dd6a-45f0-bc2f-0c7bd81e0851",
   "metadata": {
    "colab": {
     "base_uri": "https://localhost:8080/",
     "height": 363
    },
    "executionInfo": {
     "elapsed": 42,
     "status": "ok",
     "timestamp": 1684658848474,
     "user": {
      "displayName": "Myeonghak Lee",
      "userId": "01376346143254624391"
     },
     "user_tz": -540
    },
    "id": "e9b1aef4-dd6a-45f0-bc2f-0c7bd81e0851",
    "outputId": "c669d8ec-5c21-44f7-f64d-23fb245d001f"
   },
   "outputs": [
    {
     "data": {
      "text/html": [
       "<div>\n",
       "<style scoped>\n",
       "    .dataframe tbody tr th:only-of-type {\n",
       "        vertical-align: middle;\n",
       "    }\n",
       "\n",
       "    .dataframe tbody tr th {\n",
       "        vertical-align: top;\n",
       "    }\n",
       "\n",
       "    .dataframe thead th {\n",
       "        text-align: right;\n",
       "    }\n",
       "</style>\n",
       "<table border=\"1\" class=\"dataframe\">\n",
       "  <thead>\n",
       "    <tr style=\"text-align: right;\">\n",
       "      <th></th>\n",
       "      <th>anime_id</th>\n",
       "      <th>name</th>\n",
       "      <th>genre</th>\n",
       "      <th>type</th>\n",
       "      <th>episodes</th>\n",
       "      <th>rating</th>\n",
       "      <th>members</th>\n",
       "    </tr>\n",
       "  </thead>\n",
       "  <tbody>\n",
       "    <tr>\n",
       "      <th>11912</th>\n",
       "      <td>10325</td>\n",
       "      <td>Kyuuketsuki</td>\n",
       "      <td>Hentai, Vampire</td>\n",
       "      <td>OVA</td>\n",
       "      <td>2</td>\n",
       "      <td>5.91</td>\n",
       "      <td>3281</td>\n",
       "    </tr>\n",
       "    <tr>\n",
       "      <th>11509</th>\n",
       "      <td>4714</td>\n",
       "      <td>The Rapeman</td>\n",
       "      <td>Hentai</td>\n",
       "      <td>OVA</td>\n",
       "      <td>2</td>\n",
       "      <td>6.50</td>\n",
       "      <td>2722</td>\n",
       "    </tr>\n",
       "    <tr>\n",
       "      <th>8766</th>\n",
       "      <td>30861</td>\n",
       "      <td>Happy Bogeys</td>\n",
       "      <td>NaN</td>\n",
       "      <td>Movie</td>\n",
       "      <td>12</td>\n",
       "      <td>8.17</td>\n",
       "      <td>38</td>\n",
       "    </tr>\n",
       "    <tr>\n",
       "      <th>9752</th>\n",
       "      <td>31034</td>\n",
       "      <td>Nintama Rantarou: Ninjutsu Gakuen to Nazo no O...</td>\n",
       "      <td>Comedy</td>\n",
       "      <td>Special</td>\n",
       "      <td>1</td>\n",
       "      <td>6.67</td>\n",
       "      <td>104</td>\n",
       "    </tr>\n",
       "    <tr>\n",
       "      <th>9548</th>\n",
       "      <td>16954</td>\n",
       "      <td>Milky Passion: Dougenzaka - Ai no Shiro</td>\n",
       "      <td>Josei, Romance</td>\n",
       "      <td>OVA</td>\n",
       "      <td>1</td>\n",
       "      <td>5.47</td>\n",
       "      <td>196</td>\n",
       "    </tr>\n",
       "    <tr>\n",
       "      <th>7372</th>\n",
       "      <td>30428</td>\n",
       "      <td>Hikenai Guitar wo Hikundaze</td>\n",
       "      <td>Music</td>\n",
       "      <td>Music</td>\n",
       "      <td>1</td>\n",
       "      <td>5.49</td>\n",
       "      <td>217</td>\n",
       "    </tr>\n",
       "    <tr>\n",
       "      <th>11085</th>\n",
       "      <td>34086</td>\n",
       "      <td>Tales of Zestiria the X (2017)</td>\n",
       "      <td>Action, Adventure, Fantasy</td>\n",
       "      <td>TV</td>\n",
       "      <td>12</td>\n",
       "      <td>NaN</td>\n",
       "      <td>10848</td>\n",
       "    </tr>\n",
       "    <tr>\n",
       "      <th>8584</th>\n",
       "      <td>29653</td>\n",
       "      <td>Futari Zamurai Homare no Kawakiri</td>\n",
       "      <td>Drama, Historical, Samurai</td>\n",
       "      <td>Movie</td>\n",
       "      <td>1</td>\n",
       "      <td>4.82</td>\n",
       "      <td>97</td>\n",
       "    </tr>\n",
       "    <tr>\n",
       "      <th>2223</th>\n",
       "      <td>11783</td>\n",
       "      <td>Dog Days&amp;#039;</td>\n",
       "      <td>Action, Adventure, Fantasy, Magic</td>\n",
       "      <td>TV</td>\n",
       "      <td>13</td>\n",
       "      <td>7.32</td>\n",
       "      <td>55277</td>\n",
       "    </tr>\n",
       "    <tr>\n",
       "      <th>8280</th>\n",
       "      <td>32760</td>\n",
       "      <td>Bungaku Shounen no Yuuutsu</td>\n",
       "      <td>Drama, Music</td>\n",
       "      <td>Music</td>\n",
       "      <td>1</td>\n",
       "      <td>6.30</td>\n",
       "      <td>37</td>\n",
       "    </tr>\n",
       "  </tbody>\n",
       "</table>\n",
       "</div>"
      ],
      "text/plain": [
       "       anime_id                                               name   \n",
       "11912     10325                                        Kyuuketsuki  \\\n",
       "11509      4714                                        The Rapeman   \n",
       "8766      30861                                       Happy Bogeys   \n",
       "9752      31034  Nintama Rantarou: Ninjutsu Gakuen to Nazo no O...   \n",
       "9548      16954            Milky Passion: Dougenzaka - Ai no Shiro   \n",
       "7372      30428                        Hikenai Guitar wo Hikundaze   \n",
       "11085     34086                     Tales of Zestiria the X (2017)   \n",
       "8584      29653                  Futari Zamurai Homare no Kawakiri   \n",
       "2223      11783                                     Dog Days&#039;   \n",
       "8280      32760                         Bungaku Shounen no Yuuutsu   \n",
       "\n",
       "                                   genre     type episodes  rating  members  \n",
       "11912                    Hentai, Vampire      OVA        2    5.91     3281  \n",
       "11509                             Hentai      OVA        2    6.50     2722  \n",
       "8766                                 NaN    Movie       12    8.17       38  \n",
       "9752                              Comedy  Special        1    6.67      104  \n",
       "9548                      Josei, Romance      OVA        1    5.47      196  \n",
       "7372                               Music    Music        1    5.49      217  \n",
       "11085         Action, Adventure, Fantasy       TV       12     NaN    10848  \n",
       "8584          Drama, Historical, Samurai    Movie        1    4.82       97  \n",
       "2223   Action, Adventure, Fantasy, Magic       TV       13    7.32    55277  \n",
       "8280                        Drama, Music    Music        1    6.30       37  "
      ]
     },
     "metadata": {},
     "output_type": "display_data"
    }
   ],
   "source": [
    "display(animes.sample(10))"
   ]
  },
  {
   "cell_type": "code",
   "execution_count": 6,
   "id": "99fb97cc-8504-4f31-a249-35b199ead060",
   "metadata": {
    "colab": {
     "base_uri": "https://localhost:8080/",
     "height": 363
    },
    "executionInfo": {
     "elapsed": 435,
     "status": "ok",
     "timestamp": 1684658848874,
     "user": {
      "displayName": "Myeonghak Lee",
      "userId": "01376346143254624391"
     },
     "user_tz": -540
    },
    "id": "99fb97cc-8504-4f31-a249-35b199ead060",
    "outputId": "a4aae4a3-6b9e-4c7d-e2d2-09f0d690f84a"
   },
   "outputs": [
    {
     "data": {
      "text/html": [
       "<div>\n",
       "<style scoped>\n",
       "    .dataframe tbody tr th:only-of-type {\n",
       "        vertical-align: middle;\n",
       "    }\n",
       "\n",
       "    .dataframe tbody tr th {\n",
       "        vertical-align: top;\n",
       "    }\n",
       "\n",
       "    .dataframe thead th {\n",
       "        text-align: right;\n",
       "    }\n",
       "</style>\n",
       "<table border=\"1\" class=\"dataframe\">\n",
       "  <thead>\n",
       "    <tr style=\"text-align: right;\">\n",
       "      <th></th>\n",
       "      <th>user_id</th>\n",
       "      <th>anime_id</th>\n",
       "      <th>rating</th>\n",
       "    </tr>\n",
       "  </thead>\n",
       "  <tbody>\n",
       "    <tr>\n",
       "      <th>1943855</th>\n",
       "      <td>18869</td>\n",
       "      <td>18153</td>\n",
       "      <td>8</td>\n",
       "    </tr>\n",
       "    <tr>\n",
       "      <th>2372031</th>\n",
       "      <td>22723</td>\n",
       "      <td>18897</td>\n",
       "      <td>-1</td>\n",
       "    </tr>\n",
       "    <tr>\n",
       "      <th>1748026</th>\n",
       "      <td>16957</td>\n",
       "      <td>1691</td>\n",
       "      <td>9</td>\n",
       "    </tr>\n",
       "    <tr>\n",
       "      <th>5042787</th>\n",
       "      <td>48252</td>\n",
       "      <td>10030</td>\n",
       "      <td>10</td>\n",
       "    </tr>\n",
       "    <tr>\n",
       "      <th>395220</th>\n",
       "      <td>4078</td>\n",
       "      <td>288</td>\n",
       "      <td>-1</td>\n",
       "    </tr>\n",
       "    <tr>\n",
       "      <th>6108530</th>\n",
       "      <td>57342</td>\n",
       "      <td>15225</td>\n",
       "      <td>-1</td>\n",
       "    </tr>\n",
       "    <tr>\n",
       "      <th>7233931</th>\n",
       "      <td>67443</td>\n",
       "      <td>21327</td>\n",
       "      <td>8</td>\n",
       "    </tr>\n",
       "    <tr>\n",
       "      <th>3023115</th>\n",
       "      <td>28051</td>\n",
       "      <td>371</td>\n",
       "      <td>-1</td>\n",
       "    </tr>\n",
       "    <tr>\n",
       "      <th>926020</th>\n",
       "      <td>8352</td>\n",
       "      <td>177</td>\n",
       "      <td>8</td>\n",
       "    </tr>\n",
       "    <tr>\n",
       "      <th>442341</th>\n",
       "      <td>4537</td>\n",
       "      <td>2001</td>\n",
       "      <td>8</td>\n",
       "    </tr>\n",
       "  </tbody>\n",
       "</table>\n",
       "</div>"
      ],
      "text/plain": [
       "         user_id  anime_id  rating\n",
       "1943855    18869     18153       8\n",
       "2372031    22723     18897      -1\n",
       "1748026    16957      1691       9\n",
       "5042787    48252     10030      10\n",
       "395220      4078       288      -1\n",
       "6108530    57342     15225      -1\n",
       "7233931    67443     21327       8\n",
       "3023115    28051       371      -1\n",
       "926020      8352       177       8\n",
       "442341      4537      2001       8"
      ]
     },
     "metadata": {},
     "output_type": "display_data"
    }
   ],
   "source": [
    "display(ratings.sample(10))"
   ]
  },
  {
   "cell_type": "markdown",
   "id": "04e20890",
   "metadata": {
    "id": "04e20890"
   },
   "source": [
    "# Preprocessing & Feature Engineering"
   ]
  },
  {
   "cell_type": "code",
   "execution_count": 7,
   "id": "6077d09f-a1b0-4a94-824b-b9abc77b2808",
   "metadata": {
    "ExecuteTime": {
     "end_time": "2023-05-14T09:21:43.889307Z",
     "start_time": "2023-05-14T09:21:36.823195Z"
    },
    "executionInfo": {
     "elapsed": 7,
     "status": "ok",
     "timestamp": 1684658848874,
     "user": {
      "displayName": "Myeonghak Lee",
      "userId": "01376346143254624391"
     },
     "user_tz": -540
    },
    "id": "6077d09f-a1b0-4a94-824b-b9abc77b2808"
   },
   "outputs": [],
   "source": [
    "# 사용하는 피처만 남김\n",
    "animes = animes[['anime_id', 'type', 'rating', 'members', 'name', 'genre']]\n",
    "# 칼럼명 변경\n",
    "animes.columns = ['anime_id', 'type', 'anime_total_rating', 'members', 'name', 'genre']\n",
    "# 결측값이 포함된 애니는 drop\n",
    "animes = animes.dropna()"
   ]
  },
  {
   "cell_type": "code",
   "execution_count": 8,
   "id": "b702d0f3-340e-4dc4-804e-5ec757ff4d34",
   "metadata": {
    "ExecuteTime": {
     "end_time": "2023-05-14T09:21:43.889307Z",
     "start_time": "2023-05-14T09:21:36.823195Z"
    },
    "executionInfo": {
     "elapsed": 367,
     "status": "ok",
     "timestamp": 1684658849235,
     "user": {
      "displayName": "Myeonghak Lee",
      "userId": "01376346143254624391"
     },
     "user_tz": -540
    },
    "id": "b702d0f3-340e-4dc4-804e-5ec757ff4d34"
   },
   "outputs": [],
   "source": [
    "# 평점 테이블도 동일하게 처리, 무효한 값은 제거 (rating이 -1인 값)\n",
    "ratings = ratings[['user_id', 'anime_id', 'rating']]\n",
    "ratings = ratings[ratings['rating'] != -1]"
   ]
  },
  {
   "cell_type": "code",
   "execution_count": 10,
   "id": "842639df-0c93-4c53-aaa7-c89113f275e8",
   "metadata": {
    "ExecuteTime": {
     "end_time": "2023-05-14T09:21:43.889307Z",
     "start_time": "2023-05-14T09:21:36.823195Z"
    },
    "colab": {
     "base_uri": "https://localhost:8080/"
    },
    "executionInfo": {
     "elapsed": 2406,
     "status": "ok",
     "timestamp": 1684658853574,
     "user": {
      "displayName": "Myeonghak Lee",
      "userId": "01376346143254624391"
     },
     "user_tz": -540
    },
    "id": "842639df-0c93-4c53-aaa7-c89113f275e8",
    "outputId": "1b4beaae-ccda-4113-8d0b-a1d70d89a701"
   },
   "outputs": [],
   "source": [
    "# 데이터 프레임 join\n",
    "data = ratings.merge(animes, on='anime_id', how='inner')\n",
    "\n",
    "# 유저 정보가 없으므로, 유저의 평점 패턴에서 유저 피처 추출 (평균 평점 및 평점을 내린 수)\n",
    "user_avg_rating = data.groupby('user_id')['rating'].mean().rename('User-AvgRating')\n",
    "user_num_ratings = data.groupby('user_id')['rating'].count().rename('User-NumRatings')\n",
    "\n",
    "# 추출한 유저 피처 결합\n",
    "user_features = pd.concat([user_avg_rating, user_num_ratings], axis=1)\n",
    "\n",
    "# 애니 메타 데이터에서 아이템 관련 피처 수가 생성\n",
    "item_num_ratings = data.groupby('anime_id')['rating'].count().rename('Item-NumRatings')\n",
    "\n",
    "# 애니 이름 피처에서 TF-IDF 피처 생성, 총 10개의 이름 생성 (most frequent N words)\n",
    "tfidf_vectorizer = TfidfVectorizer(max_features=20)\n",
    "item_name_tfidf = tfidf_vectorizer.fit_transform(animes['name']).toarray()\n",
    "\n",
    "tfidf_feature_names = tfidf_vectorizer.get_feature_names_out()\n",
    "\n",
    "# 'type' 칼럼을 원핫 인코딩\n",
    "onehot_encoder = OneHotEncoder(sparse_output=False)\n",
    "item_type_onehot = onehot_encoder.fit_transform(animes[['type']])\n",
    "\n",
    "# TF-IDF 피처와 type 원핫 피처를 결합\n",
    "tf_idf_df = pd.DataFrame(item_name_tfidf, columns=tfidf_feature_names, index=animes.anime_id)\n",
    "type_df = pd.DataFrame(item_type_onehot, columns=[f'Type-{cat}' for cat in onehot_encoder.categories_[0]], index=animes.anime_id)\n",
    "\n",
    "animes_features = animes[['anime_id', 'members', 'anime_total_rating']]"
   ]
  },
  {
   "cell_type": "code",
   "execution_count": 11,
   "id": "KLb_utW8drbO",
   "metadata": {
    "executionInfo": {
     "elapsed": 3,
     "status": "ok",
     "timestamp": 1684658853574,
     "user": {
      "displayName": "Myeonghak Lee",
      "userId": "01376346143254624391"
     },
     "user_tz": -540
    },
    "id": "KLb_utW8drbO"
   },
   "outputs": [],
   "source": [
    "item_features = pd.DataFrame(item_num_ratings)\\\n",
    "            .merge(tf_idf_df, on=\"anime_id\")\\\n",
    "            .merge(type_df, on=\"anime_id\")\\\n",
    "            .merge(animes_features.set_index('anime_id'), on=\"anime_id\")"
   ]
  },
  {
   "cell_type": "code",
   "execution_count": 12,
   "id": "bb52ab62",
   "metadata": {},
   "outputs": [
    {
     "data": {
      "text/html": [
       "<div>\n",
       "<style scoped>\n",
       "    .dataframe tbody tr th:only-of-type {\n",
       "        vertical-align: middle;\n",
       "    }\n",
       "\n",
       "    .dataframe tbody tr th {\n",
       "        vertical-align: top;\n",
       "    }\n",
       "\n",
       "    .dataframe thead th {\n",
       "        text-align: right;\n",
       "    }\n",
       "</style>\n",
       "<table border=\"1\" class=\"dataframe\">\n",
       "  <thead>\n",
       "    <tr style=\"text-align: right;\">\n",
       "      <th></th>\n",
       "      <th>Item-NumRatings</th>\n",
       "      <th>039</th>\n",
       "      <th>animation</th>\n",
       "      <th>chan</th>\n",
       "      <th>ga</th>\n",
       "      <th>hen</th>\n",
       "      <th>kun</th>\n",
       "      <th>monogatari</th>\n",
       "      <th>movie</th>\n",
       "      <th>ni</th>\n",
       "      <th>...</th>\n",
       "      <th>wa</th>\n",
       "      <th>wo</th>\n",
       "      <th>Type-Movie</th>\n",
       "      <th>Type-Music</th>\n",
       "      <th>Type-ONA</th>\n",
       "      <th>Type-OVA</th>\n",
       "      <th>Type-Special</th>\n",
       "      <th>Type-TV</th>\n",
       "      <th>members</th>\n",
       "      <th>anime_total_rating</th>\n",
       "    </tr>\n",
       "    <tr>\n",
       "      <th>anime_id</th>\n",
       "      <th></th>\n",
       "      <th></th>\n",
       "      <th></th>\n",
       "      <th></th>\n",
       "      <th></th>\n",
       "      <th></th>\n",
       "      <th></th>\n",
       "      <th></th>\n",
       "      <th></th>\n",
       "      <th></th>\n",
       "      <th></th>\n",
       "      <th></th>\n",
       "      <th></th>\n",
       "      <th></th>\n",
       "      <th></th>\n",
       "      <th></th>\n",
       "      <th></th>\n",
       "      <th></th>\n",
       "      <th></th>\n",
       "      <th></th>\n",
       "      <th></th>\n",
       "    </tr>\n",
       "  </thead>\n",
       "  <tbody>\n",
       "    <tr>\n",
       "      <th>1</th>\n",
       "      <td>13449</td>\n",
       "      <td>0.0</td>\n",
       "      <td>0.0</td>\n",
       "      <td>0.0</td>\n",
       "      <td>0.0</td>\n",
       "      <td>0.0</td>\n",
       "      <td>0.0</td>\n",
       "      <td>0.0</td>\n",
       "      <td>0.0</td>\n",
       "      <td>0.0</td>\n",
       "      <td>...</td>\n",
       "      <td>0.0</td>\n",
       "      <td>0.0</td>\n",
       "      <td>0.0</td>\n",
       "      <td>0.0</td>\n",
       "      <td>0.0</td>\n",
       "      <td>0.0</td>\n",
       "      <td>0.0</td>\n",
       "      <td>1.0</td>\n",
       "      <td>486824</td>\n",
       "      <td>8.82</td>\n",
       "    </tr>\n",
       "    <tr>\n",
       "      <th>5</th>\n",
       "      <td>5790</td>\n",
       "      <td>0.0</td>\n",
       "      <td>0.0</td>\n",
       "      <td>0.0</td>\n",
       "      <td>0.0</td>\n",
       "      <td>0.0</td>\n",
       "      <td>0.0</td>\n",
       "      <td>0.0</td>\n",
       "      <td>0.0</td>\n",
       "      <td>0.0</td>\n",
       "      <td>...</td>\n",
       "      <td>0.0</td>\n",
       "      <td>0.0</td>\n",
       "      <td>1.0</td>\n",
       "      <td>0.0</td>\n",
       "      <td>0.0</td>\n",
       "      <td>0.0</td>\n",
       "      <td>0.0</td>\n",
       "      <td>0.0</td>\n",
       "      <td>137636</td>\n",
       "      <td>8.40</td>\n",
       "    </tr>\n",
       "    <tr>\n",
       "      <th>6</th>\n",
       "      <td>9385</td>\n",
       "      <td>0.0</td>\n",
       "      <td>0.0</td>\n",
       "      <td>0.0</td>\n",
       "      <td>0.0</td>\n",
       "      <td>0.0</td>\n",
       "      <td>0.0</td>\n",
       "      <td>0.0</td>\n",
       "      <td>0.0</td>\n",
       "      <td>0.0</td>\n",
       "      <td>...</td>\n",
       "      <td>0.0</td>\n",
       "      <td>0.0</td>\n",
       "      <td>0.0</td>\n",
       "      <td>0.0</td>\n",
       "      <td>0.0</td>\n",
       "      <td>0.0</td>\n",
       "      <td>0.0</td>\n",
       "      <td>1.0</td>\n",
       "      <td>283069</td>\n",
       "      <td>8.32</td>\n",
       "    </tr>\n",
       "    <tr>\n",
       "      <th>7</th>\n",
       "      <td>2169</td>\n",
       "      <td>0.0</td>\n",
       "      <td>0.0</td>\n",
       "      <td>0.0</td>\n",
       "      <td>0.0</td>\n",
       "      <td>0.0</td>\n",
       "      <td>0.0</td>\n",
       "      <td>0.0</td>\n",
       "      <td>0.0</td>\n",
       "      <td>0.0</td>\n",
       "      <td>...</td>\n",
       "      <td>0.0</td>\n",
       "      <td>0.0</td>\n",
       "      <td>0.0</td>\n",
       "      <td>0.0</td>\n",
       "      <td>0.0</td>\n",
       "      <td>0.0</td>\n",
       "      <td>0.0</td>\n",
       "      <td>1.0</td>\n",
       "      <td>64905</td>\n",
       "      <td>7.36</td>\n",
       "    </tr>\n",
       "    <tr>\n",
       "      <th>8</th>\n",
       "      <td>308</td>\n",
       "      <td>0.0</td>\n",
       "      <td>0.0</td>\n",
       "      <td>0.0</td>\n",
       "      <td>0.0</td>\n",
       "      <td>0.0</td>\n",
       "      <td>0.0</td>\n",
       "      <td>0.0</td>\n",
       "      <td>0.0</td>\n",
       "      <td>0.0</td>\n",
       "      <td>...</td>\n",
       "      <td>0.0</td>\n",
       "      <td>0.0</td>\n",
       "      <td>0.0</td>\n",
       "      <td>0.0</td>\n",
       "      <td>0.0</td>\n",
       "      <td>0.0</td>\n",
       "      <td>0.0</td>\n",
       "      <td>1.0</td>\n",
       "      <td>9848</td>\n",
       "      <td>7.06</td>\n",
       "    </tr>\n",
       "  </tbody>\n",
       "</table>\n",
       "<p>5 rows × 29 columns</p>\n",
       "</div>"
      ],
      "text/plain": [
       "          Item-NumRatings  039  animation  chan   ga  hen  kun  monogatari   \n",
       "anime_id                                                                     \n",
       "1                   13449  0.0        0.0   0.0  0.0  0.0  0.0         0.0  \\\n",
       "5                    5790  0.0        0.0   0.0  0.0  0.0  0.0         0.0   \n",
       "6                    9385  0.0        0.0   0.0  0.0  0.0  0.0         0.0   \n",
       "7                    2169  0.0        0.0   0.0  0.0  0.0  0.0         0.0   \n",
       "8                     308  0.0        0.0   0.0  0.0  0.0  0.0         0.0   \n",
       "\n",
       "          movie   ni  ...   wa   wo  Type-Movie  Type-Music  Type-ONA   \n",
       "anime_id              ...                                               \n",
       "1           0.0  0.0  ...  0.0  0.0         0.0         0.0       0.0  \\\n",
       "5           0.0  0.0  ...  0.0  0.0         1.0         0.0       0.0   \n",
       "6           0.0  0.0  ...  0.0  0.0         0.0         0.0       0.0   \n",
       "7           0.0  0.0  ...  0.0  0.0         0.0         0.0       0.0   \n",
       "8           0.0  0.0  ...  0.0  0.0         0.0         0.0       0.0   \n",
       "\n",
       "          Type-OVA  Type-Special  Type-TV  members  anime_total_rating  \n",
       "anime_id                                                                \n",
       "1              0.0           0.0      1.0   486824                8.82  \n",
       "5              0.0           0.0      0.0   137636                8.40  \n",
       "6              0.0           0.0      1.0   283069                8.32  \n",
       "7              0.0           0.0      1.0    64905                7.36  \n",
       "8              0.0           0.0      1.0     9848                7.06  \n",
       "\n",
       "[5 rows x 29 columns]"
      ]
     },
     "execution_count": 12,
     "metadata": {},
     "output_type": "execute_result"
    }
   ],
   "source": [
    "item_features.head()"
   ]
  },
  {
   "cell_type": "code",
   "execution_count": 32,
   "id": "875e1892",
   "metadata": {},
   "outputs": [
    {
     "name": "stdout",
     "output_type": "stream",
     "text": [
      "<class 'pandas.core.frame.DataFrame'>\n",
      "Index: 9892 entries, 1 to 34475\n",
      "Data columns (total 29 columns):\n",
      " #   Column              Non-Null Count  Dtype  \n",
      "---  ------              --------------  -----  \n",
      " 0   Item-NumRatings     9892 non-null   int64  \n",
      " 1   039                 9892 non-null   float64\n",
      " 2   animation           9892 non-null   float64\n",
      " 3   chan                9892 non-null   float64\n",
      " 4   ga                  9892 non-null   float64\n",
      " 5   hen                 9892 non-null   float64\n",
      " 6   kun                 9892 non-null   float64\n",
      " 7   monogatari          9892 non-null   float64\n",
      " 8   movie               9892 non-null   float64\n",
      " 9   ni                  9892 non-null   float64\n",
      " 10  no                  9892 non-null   float64\n",
      " 11  of                  9892 non-null   float64\n",
      " 12  ova                 9892 non-null   float64\n",
      " 13  san                 9892 non-null   float64\n",
      " 14  shoujo              9892 non-null   float64\n",
      " 15  special             9892 non-null   float64\n",
      " 16  specials            9892 non-null   float64\n",
      " 17  the                 9892 non-null   float64\n",
      " 18  to                  9892 non-null   float64\n",
      " 19  wa                  9892 non-null   float64\n",
      " 20  wo                  9892 non-null   float64\n",
      " 21  Type-Movie          9892 non-null   float64\n",
      " 22  Type-Music          9892 non-null   float64\n",
      " 23  Type-ONA            9892 non-null   float64\n",
      " 24  Type-OVA            9892 non-null   float64\n",
      " 25  Type-Special        9892 non-null   float64\n",
      " 26  Type-TV             9892 non-null   float64\n",
      " 27  members             9892 non-null   int64  \n",
      " 28  anime_total_rating  9892 non-null   float64\n",
      "dtypes: float64(27), int64(2)\n",
      "memory usage: 2.3 MB\n"
     ]
    }
   ],
   "source": [
    "item_features.info()"
   ]
  },
  {
   "cell_type": "code",
   "execution_count": 13,
   "id": "eba1670c-c2ea-4cb4-92e7-4a706b9df2c9",
   "metadata": {
    "ExecuteTime": {
     "end_time": "2023-05-14T09:21:43.889307Z",
     "start_time": "2023-05-14T09:21:36.823195Z"
    },
    "executionInfo": {
     "elapsed": 8638,
     "status": "ok",
     "timestamp": 1684658862210,
     "user": {
      "displayName": "Myeonghak Lee",
      "userId": "01376346143254624391"
     },
     "user_tz": -540
    },
    "id": "eba1670c-c2ea-4cb4-92e7-4a706b9df2c9"
   },
   "outputs": [],
   "source": [
    "# 인터렉션 데이터와 함께, user 및 item 피처 결합\n",
    "data = data.drop(['anime_total_rating', 'members'], axis=1)\n",
    "\n",
    "data = data.join(user_features, on='user_id')\n",
    "data = data.merge(item_features, on='anime_id')\n",
    "\n",
    "# implicit feedback 표현을 위해 이진화 (유저의 평균 평점보다 높은 경우 1)\n",
    "# 절대값으로 지정하는 방법도 있음\n",
    "data['rating'] = (data['rating'] > data['User-AvgRating']).astype(int)\n",
    "\n",
    "# Train-test split\n",
    "X = data.drop(columns=['user_id','anime_id', 'rating', 'type', 'name', 'genre'])\n",
    "y = data['rating']\n",
    "\n",
    "X_train, X_test, y_train, y_test = train_test_split(X, y, test_size=0.2, random_state=42)"
   ]
  },
  {
   "cell_type": "code",
   "execution_count": 14,
   "id": "b6ba6149",
   "metadata": {
    "ExecuteTime": {
     "end_time": "2023-05-14T09:21:43.904310Z",
     "start_time": "2023-05-14T09:21:43.890307Z"
    },
    "executionInfo": {
     "elapsed": 432,
     "status": "ok",
     "timestamp": 1684658876761,
     "user": {
      "displayName": "Myeonghak Lee",
      "userId": "01376346143254624391"
     },
     "user_tz": -540
    },
    "id": "b6ba6149"
   },
   "outputs": [],
   "source": [
    "# 모델 정의\n",
    "models = {\n",
    "    'Decision Tree': DecisionTreeClassifier(random_state=42),\n",
    "    'Random Forest': RandomForestClassifier(random_state=42),\n",
    "    'LGBM': LGBMClassifier(random_state=42)\n",
    "}"
   ]
  },
  {
   "cell_type": "code",
   "execution_count": 15,
   "id": "9864b9b3-850a-4f78-b1f1-77182a95674b",
   "metadata": {
    "colab": {
     "base_uri": "https://localhost:8080/",
     "height": 236
    },
    "executionInfo": {
     "elapsed": 289,
     "status": "ok",
     "timestamp": 1684659826835,
     "user": {
      "displayName": "Myeonghak Lee",
      "userId": "01376346143254624391"
     },
     "user_tz": -540
    },
    "id": "9864b9b3-850a-4f78-b1f1-77182a95674b",
    "outputId": "b167302b-1931-4b3e-e767-39b5ddb4e3ef"
   },
   "outputs": [
    {
     "data": {
      "text/html": [
       "<div>\n",
       "<style scoped>\n",
       "    .dataframe tbody tr th:only-of-type {\n",
       "        vertical-align: middle;\n",
       "    }\n",
       "\n",
       "    .dataframe tbody tr th {\n",
       "        vertical-align: top;\n",
       "    }\n",
       "\n",
       "    .dataframe thead th {\n",
       "        text-align: right;\n",
       "    }\n",
       "</style>\n",
       "<table border=\"1\" class=\"dataframe\">\n",
       "  <thead>\n",
       "    <tr style=\"text-align: right;\">\n",
       "      <th></th>\n",
       "      <th>User-AvgRating</th>\n",
       "      <th>User-NumRatings</th>\n",
       "      <th>Item-NumRatings</th>\n",
       "      <th>039</th>\n",
       "      <th>animation</th>\n",
       "      <th>chan</th>\n",
       "      <th>ga</th>\n",
       "      <th>hen</th>\n",
       "      <th>kun</th>\n",
       "      <th>monogatari</th>\n",
       "      <th>...</th>\n",
       "      <th>wa</th>\n",
       "      <th>wo</th>\n",
       "      <th>Type-Movie</th>\n",
       "      <th>Type-Music</th>\n",
       "      <th>Type-ONA</th>\n",
       "      <th>Type-OVA</th>\n",
       "      <th>Type-Special</th>\n",
       "      <th>Type-TV</th>\n",
       "      <th>members</th>\n",
       "      <th>anime_total_rating</th>\n",
       "    </tr>\n",
       "  </thead>\n",
       "  <tbody>\n",
       "    <tr>\n",
       "      <th>1509263</th>\n",
       "      <td>8.080645</td>\n",
       "      <td>62</td>\n",
       "      <td>5259</td>\n",
       "      <td>0.0</td>\n",
       "      <td>0.0</td>\n",
       "      <td>0.0</td>\n",
       "      <td>0.0</td>\n",
       "      <td>0.0</td>\n",
       "      <td>0.0</td>\n",
       "      <td>0.0</td>\n",
       "      <td>...</td>\n",
       "      <td>0.0</td>\n",
       "      <td>0.0</td>\n",
       "      <td>0.0</td>\n",
       "      <td>0.0</td>\n",
       "      <td>0.0</td>\n",
       "      <td>0.0</td>\n",
       "      <td>0.0</td>\n",
       "      <td>1.0</td>\n",
       "      <td>151561</td>\n",
       "      <td>8.53</td>\n",
       "    </tr>\n",
       "    <tr>\n",
       "      <th>6271372</th>\n",
       "      <td>8.814085</td>\n",
       "      <td>355</td>\n",
       "      <td>36</td>\n",
       "      <td>0.0</td>\n",
       "      <td>0.0</td>\n",
       "      <td>0.0</td>\n",
       "      <td>0.0</td>\n",
       "      <td>0.0</td>\n",
       "      <td>0.0</td>\n",
       "      <td>0.0</td>\n",
       "      <td>...</td>\n",
       "      <td>0.0</td>\n",
       "      <td>0.0</td>\n",
       "      <td>0.0</td>\n",
       "      <td>0.0</td>\n",
       "      <td>0.0</td>\n",
       "      <td>0.0</td>\n",
       "      <td>1.0</td>\n",
       "      <td>0.0</td>\n",
       "      <td>2718</td>\n",
       "      <td>7.65</td>\n",
       "    </tr>\n",
       "    <tr>\n",
       "      <th>1083815</th>\n",
       "      <td>8.647059</td>\n",
       "      <td>51</td>\n",
       "      <td>11399</td>\n",
       "      <td>0.0</td>\n",
       "      <td>0.0</td>\n",
       "      <td>0.0</td>\n",
       "      <td>0.0</td>\n",
       "      <td>0.0</td>\n",
       "      <td>0.0</td>\n",
       "      <td>0.0</td>\n",
       "      <td>...</td>\n",
       "      <td>0.0</td>\n",
       "      <td>0.0</td>\n",
       "      <td>0.0</td>\n",
       "      <td>0.0</td>\n",
       "      <td>0.0</td>\n",
       "      <td>0.0</td>\n",
       "      <td>0.0</td>\n",
       "      <td>1.0</td>\n",
       "      <td>299278</td>\n",
       "      <td>7.14</td>\n",
       "    </tr>\n",
       "    <tr>\n",
       "      <th>2087798</th>\n",
       "      <td>7.522523</td>\n",
       "      <td>333</td>\n",
       "      <td>5697</td>\n",
       "      <td>0.0</td>\n",
       "      <td>0.0</td>\n",
       "      <td>0.0</td>\n",
       "      <td>0.0</td>\n",
       "      <td>0.0</td>\n",
       "      <td>0.0</td>\n",
       "      <td>0.0</td>\n",
       "      <td>...</td>\n",
       "      <td>0.0</td>\n",
       "      <td>0.0</td>\n",
       "      <td>0.0</td>\n",
       "      <td>0.0</td>\n",
       "      <td>0.0</td>\n",
       "      <td>0.0</td>\n",
       "      <td>0.0</td>\n",
       "      <td>1.0</td>\n",
       "      <td>225927</td>\n",
       "      <td>8.50</td>\n",
       "    </tr>\n",
       "    <tr>\n",
       "      <th>2273893</th>\n",
       "      <td>8.625000</td>\n",
       "      <td>16</td>\n",
       "      <td>5318</td>\n",
       "      <td>0.0</td>\n",
       "      <td>0.0</td>\n",
       "      <td>1.0</td>\n",
       "      <td>0.0</td>\n",
       "      <td>0.0</td>\n",
       "      <td>0.0</td>\n",
       "      <td>0.0</td>\n",
       "      <td>...</td>\n",
       "      <td>0.0</td>\n",
       "      <td>0.0</td>\n",
       "      <td>0.0</td>\n",
       "      <td>0.0</td>\n",
       "      <td>0.0</td>\n",
       "      <td>1.0</td>\n",
       "      <td>0.0</td>\n",
       "      <td>0.0</td>\n",
       "      <td>117080</td>\n",
       "      <td>6.85</td>\n",
       "    </tr>\n",
       "  </tbody>\n",
       "</table>\n",
       "<p>5 rows × 31 columns</p>\n",
       "</div>"
      ],
      "text/plain": [
       "         User-AvgRating  User-NumRatings  Item-NumRatings  039  animation   \n",
       "1509263        8.080645               62             5259  0.0        0.0  \\\n",
       "6271372        8.814085              355               36  0.0        0.0   \n",
       "1083815        8.647059               51            11399  0.0        0.0   \n",
       "2087798        7.522523              333             5697  0.0        0.0   \n",
       "2273893        8.625000               16             5318  0.0        0.0   \n",
       "\n",
       "         chan   ga  hen  kun  monogatari  ...   wa   wo  Type-Movie   \n",
       "1509263   0.0  0.0  0.0  0.0         0.0  ...  0.0  0.0         0.0  \\\n",
       "6271372   0.0  0.0  0.0  0.0         0.0  ...  0.0  0.0         0.0   \n",
       "1083815   0.0  0.0  0.0  0.0         0.0  ...  0.0  0.0         0.0   \n",
       "2087798   0.0  0.0  0.0  0.0         0.0  ...  0.0  0.0         0.0   \n",
       "2273893   1.0  0.0  0.0  0.0         0.0  ...  0.0  0.0         0.0   \n",
       "\n",
       "         Type-Music  Type-ONA  Type-OVA  Type-Special  Type-TV  members   \n",
       "1509263         0.0       0.0       0.0           0.0      1.0   151561  \\\n",
       "6271372         0.0       0.0       0.0           1.0      0.0     2718   \n",
       "1083815         0.0       0.0       0.0           0.0      1.0   299278   \n",
       "2087798         0.0       0.0       0.0           0.0      1.0   225927   \n",
       "2273893         0.0       0.0       1.0           0.0      0.0   117080   \n",
       "\n",
       "         anime_total_rating  \n",
       "1509263                8.53  \n",
       "6271372                7.65  \n",
       "1083815                7.14  \n",
       "2087798                8.50  \n",
       "2273893                6.85  \n",
       "\n",
       "[5 rows x 31 columns]"
      ]
     },
     "execution_count": 15,
     "metadata": {},
     "output_type": "execute_result"
    }
   ],
   "source": [
    "X_train.head()"
   ]
  },
  {
   "cell_type": "code",
   "execution_count": 16,
   "id": "3ov_pMwDjR7V",
   "metadata": {
    "colab": {
     "base_uri": "https://localhost:8080/"
    },
    "executionInfo": {
     "elapsed": 260,
     "status": "ok",
     "timestamp": 1684659844204,
     "user": {
      "displayName": "Myeonghak Lee",
      "userId": "01376346143254624391"
     },
     "user_tz": -540
    },
    "id": "3ov_pMwDjR7V",
    "outputId": "8b67ac43-fb90-4c4b-9b5d-22405deead9d"
   },
   "outputs": [
    {
     "data": {
      "text/plain": [
       "1509263    1\n",
       "6271372    1\n",
       "1083815    0\n",
       "2087798    1\n",
       "2273893    1\n",
       "Name: rating, dtype: int64"
      ]
     },
     "execution_count": 16,
     "metadata": {},
     "output_type": "execute_result"
    }
   ],
   "source": [
    "y_train.head()"
   ]
  },
  {
   "cell_type": "markdown",
   "id": "37a9ae5e-9b93-4f9a-8d20-2d7784554234",
   "metadata": {
    "id": "37a9ae5e-9b93-4f9a-8d20-2d7784554234"
   },
   "source": [
    "# 모델 학습"
   ]
  },
  {
   "cell_type": "code",
   "execution_count": 17,
   "id": "ae1a7950-5190-4eb3-a29d-16fbfc15dfed",
   "metadata": {
    "ExecuteTime": {
     "end_time": "2023-05-14T09:47:06.655843Z",
     "start_time": "2023-05-14T09:39:33.719378Z"
    },
    "executionInfo": {
     "elapsed": 350,
     "status": "ok",
     "timestamp": 1684658954079,
     "user": {
      "displayName": "Myeonghak Lee",
      "userId": "01376346143254624391"
     },
     "user_tz": -540
    },
    "id": "ae1a7950-5190-4eb3-a29d-16fbfc15dfed"
   },
   "outputs": [],
   "source": [
    "import matplotlib.pyplot as plt\n",
    "from sklearn.metrics import roc_curve, auc\n",
    "from sklearn.metrics import roc_auc_score\n",
    "from tqdm import tqdm\n",
    "\n",
    "# 데이터셋 사이즈 지정\n",
    "dataset_sizes = [1_000, 10_000, 100_000]\n",
    "\n",
    "# 각 모델 별 auc score를 저장하기 위해 딕셔너리 정의\n",
    "auc_scores = {model_name: [] for model_name in models.keys()}\n",
    "\n",
    "# 각 모델 별 roc curve 정보 저장을 위해 딕셔너리 정의\n",
    "roc_curves = {model_name: [] for model_name in models.keys()}"
   ]
  },
  {
   "cell_type": "code",
   "execution_count": 18,
   "id": "86be3dee-6c3f-454e-b7f1-12cb38a984dc",
   "metadata": {
    "ExecuteTime": {
     "end_time": "2023-05-14T09:47:06.655843Z",
     "start_time": "2023-05-14T09:39:33.719378Z"
    },
    "executionInfo": {
     "elapsed": 2,
     "status": "ok",
     "timestamp": 1684658954489,
     "user": {
      "displayName": "Myeonghak Lee",
      "userId": "01376346143254624391"
     },
     "user_tz": -540
    },
    "id": "86be3dee-6c3f-454e-b7f1-12cb38a984dc"
   },
   "outputs": [],
   "source": [
    "# ROC curve 그리기\n",
    "def plot_roc_curve(fpr, tpr, label=None):\n",
    "    plt.plot(fpr, tpr, linewidth=2, label=label)\n",
    "    # 대각선 추가\n",
    "    plt.plot([0, 1], [0, 1], 'k--') \n",
    "    plt.axis([0, 1, 0, 1])\n",
    "    plt.xlabel('False Positive Rate (Fall-Out)', fontsize=16)\n",
    "    plt.ylabel('True Positive Rate (Recall)', fontsize=16)"
   ]
  },
  {
   "cell_type": "code",
   "execution_count": 19,
   "id": "e1f3bc35-9e70-498f-ab9e-9b54647c07d5",
   "metadata": {
    "ExecuteTime": {
     "end_time": "2023-05-14T09:47:06.655843Z",
     "start_time": "2023-05-14T09:39:33.719378Z"
    },
    "colab": {
     "base_uri": "https://localhost:8080/"
    },
    "executionInfo": {
     "elapsed": 150675,
     "status": "ok",
     "timestamp": 1684659105162,
     "user": {
      "displayName": "Myeonghak Lee",
      "userId": "01376346143254624391"
     },
     "user_tz": -540
    },
    "id": "e1f3bc35-9e70-498f-ab9e-9b54647c07d5",
    "outputId": "b22d84c1-86c1-410e-e513-668e67ab15ba"
   },
   "outputs": [
    {
     "name": "stderr",
     "output_type": "stream",
     "text": [
      "  0%|          | 0/3 [00:00<?, ?it/s]"
     ]
    },
    {
     "name": "stdout",
     "output_type": "stream",
     "text": [
      "Training Decision Tree with 1000 samples...\n"
     ]
    },
    {
     "name": "stderr",
     "output_type": "stream",
     "text": [
      " 33%|███▎      | 1/3 [00:00<00:01,  1.52it/s]"
     ]
    },
    {
     "name": "stdout",
     "output_type": "stream",
     "text": [
      "Decision Tree AUC: 0.5805321574667675\n",
      "Training Random Forest with 1000 samples...\n"
     ]
    },
    {
     "name": "stderr",
     "output_type": "stream",
     "text": [
      " 67%|██████▋   | 2/3 [00:10<00:05,  5.89s/it]"
     ]
    },
    {
     "name": "stdout",
     "output_type": "stream",
     "text": [
      "Random Forest AUC: 0.6704315091734973\n",
      "Training LGBM with 1000 samples...\n",
      "[LightGBM] [Info] Number of positive: 511, number of negative: 489\n",
      "[LightGBM] [Info] Auto-choosing row-wise multi-threading, the overhead of testing was 0.000755 seconds.\n",
      "You can set `force_row_wise=true` to remove the overhead.\n",
      "And if memory is not enough, you can set `force_col_wise=true`.\n",
      "[LightGBM] [Info] Total Bins 1256\n",
      "[LightGBM] [Info] Number of data points in the train set: 1000, number of used features: 16\n",
      "[LightGBM] [Info] [binary:BoostFromScore]: pavg=0.511000 -> initscore=0.044007\n",
      "[LightGBM] [Info] Start training from score 0.044007\n"
     ]
    },
    {
     "name": "stderr",
     "output_type": "stream",
     "text": [
      "100%|██████████| 3/3 [00:14<00:00,  4.73s/it]"
     ]
    },
    {
     "name": "stdout",
     "output_type": "stream",
     "text": [
      "LGBM AUC: 0.6610821588851576\n"
     ]
    },
    {
     "name": "stderr",
     "output_type": "stream",
     "text": [
      "\n",
      "  0%|          | 0/3 [00:00<?, ?it/s]"
     ]
    },
    {
     "name": "stdout",
     "output_type": "stream",
     "text": [
      "Training Decision Tree with 10000 samples...\n"
     ]
    },
    {
     "name": "stderr",
     "output_type": "stream",
     "text": [
      " 33%|███▎      | 1/3 [00:00<00:01,  1.54it/s]"
     ]
    },
    {
     "name": "stdout",
     "output_type": "stream",
     "text": [
      "Decision Tree AUC: 0.5901807706542092\n",
      "Training Random Forest with 10000 samples...\n"
     ]
    },
    {
     "name": "stderr",
     "output_type": "stream",
     "text": [
      " 67%|██████▋   | 2/3 [00:17<00:10, 10.27s/it]"
     ]
    },
    {
     "name": "stdout",
     "output_type": "stream",
     "text": [
      "Random Forest AUC: 0.6900794819569178\n",
      "Training LGBM with 10000 samples...\n",
      "[LightGBM] [Info] Number of positive: 5238, number of negative: 4762\n",
      "[LightGBM] [Info] Auto-choosing row-wise multi-threading, the overhead of testing was 0.001385 seconds.\n",
      "You can set `force_row_wise=true` to remove the overhead.\n",
      "And if memory is not enough, you can set `force_col_wise=true`.\n",
      "[LightGBM] [Info] Total Bins 1560\n",
      "[LightGBM] [Info] Number of data points in the train set: 10000, number of used features: 31\n",
      "[LightGBM] [Info] [binary:BoostFromScore]: pavg=0.523800 -> initscore=0.095272\n",
      "[LightGBM] [Info] Start training from score 0.095272\n"
     ]
    },
    {
     "name": "stderr",
     "output_type": "stream",
     "text": [
      "100%|██████████| 3/3 [00:20<00:00,  6.76s/it]\n"
     ]
    },
    {
     "name": "stdout",
     "output_type": "stream",
     "text": [
      "LGBM AUC: 0.7335090849008683\n"
     ]
    },
    {
     "name": "stderr",
     "output_type": "stream",
     "text": [
      "  0%|          | 0/3 [00:00<?, ?it/s]"
     ]
    },
    {
     "name": "stdout",
     "output_type": "stream",
     "text": [
      "Training Decision Tree with 100000 samples...\n"
     ]
    },
    {
     "name": "stderr",
     "output_type": "stream",
     "text": [
      " 33%|███▎      | 1/3 [00:01<00:02,  1.46s/it]"
     ]
    },
    {
     "name": "stdout",
     "output_type": "stream",
     "text": [
      "Decision Tree AUC: 0.5926025274877159\n",
      "Training Random Forest with 100000 samples...\n"
     ]
    },
    {
     "name": "stderr",
     "output_type": "stream",
     "text": [
      " 67%|██████▋   | 2/3 [00:36<00:21, 21.38s/it]"
     ]
    },
    {
     "name": "stdout",
     "output_type": "stream",
     "text": [
      "Random Forest AUC: 0.6943538713907167\n",
      "Training LGBM with 100000 samples...\n",
      "[LightGBM] [Info] Number of positive: 52619, number of negative: 47381\n",
      "[LightGBM] [Info] Auto-choosing row-wise multi-threading, the overhead of testing was 0.004560 seconds.\n",
      "You can set `force_row_wise=true` to remove the overhead.\n",
      "And if memory is not enough, you can set `force_col_wise=true`.\n",
      "[LightGBM] [Info] Total Bins 1888\n",
      "[LightGBM] [Info] Number of data points in the train set: 100000, number of used features: 31\n",
      "[LightGBM] [Info] [binary:BoostFromScore]: pavg=0.526190 -> initscore=0.104856\n",
      "[LightGBM] [Info] Start training from score 0.104856\n"
     ]
    },
    {
     "name": "stderr",
     "output_type": "stream",
     "text": [
      "100%|██████████| 3/3 [00:39<00:00, 13.12s/it]"
     ]
    },
    {
     "name": "stdout",
     "output_type": "stream",
     "text": [
      "LGBM AUC: 0.7494487537251445\n"
     ]
    },
    {
     "name": "stderr",
     "output_type": "stream",
     "text": [
      "\n"
     ]
    }
   ],
   "source": [
    "# 데이터 사이즈별로 iteration\n",
    "for size in dataset_sizes:\n",
    "    # 각 사이즈별로 데이터를 샘플링함\n",
    "    X_train_sample = X_train.sample(n=size, random_state=42)\n",
    "    y_train_sample = y_train.loc[X_train_sample.index]\n",
    "\n",
    "    # 모델 별로 반복\n",
    "    for model_name, model in tqdm(models.items()):\n",
    "        print(f\"Training {model_name} with {size} samples...\")\n",
    "        \n",
    "        # 모델 적합\n",
    "        model.fit(X_train_sample, y_train_sample)\n",
    "\n",
    "        # 예측 결과 생성\n",
    "        y_pred = model.predict_proba(X_test)[:, 1]\n",
    "\n",
    "        # AUC 점수 계산 \n",
    "        auc_score = roc_auc_score(y_test, y_pred)\n",
    "        auc_scores[model_name].append(auc_score)\n",
    "        \n",
    "        # ROC 곡선\n",
    "        fpr, tpr, thresholds = roc_curve(y_test, y_pred)\n",
    "        roc_curves[model_name].append((fpr, tpr))\n",
    "\n",
    "        print(f\"{model_name} AUC: {auc_score}\")"
   ]
  },
  {
   "cell_type": "code",
   "execution_count": 20,
   "id": "34ad9052-716e-41a4-b3c9-026b5e1533c8",
   "metadata": {
    "ExecuteTime": {
     "end_time": "2023-05-14T09:47:06.655843Z",
     "start_time": "2023-05-14T09:39:33.719378Z"
    },
    "colab": {
     "base_uri": "https://localhost:8080/",
     "height": 449
    },
    "executionInfo": {
     "elapsed": 552,
     "status": "ok",
     "timestamp": 1684659105695,
     "user": {
      "displayName": "Myeonghak Lee",
      "userId": "01376346143254624391"
     },
     "user_tz": -540
    },
    "id": "34ad9052-716e-41a4-b3c9-026b5e1533c8",
    "outputId": "930c2cd0-3a60-4f6a-d39c-e4b5c6c25231"
   },
   "outputs": [
    {
     "data": {
      "image/png": "[encoded data removed]",
      "text/plain": [
       "<Figure size 640x480 with 1 Axes>"
      ]
     },
     "metadata": {},
     "output_type": "display_data"
    }
   ],
   "source": [
    "# AUC 스코어 시각화\n",
    "for model_name, model_auc_scores in auc_scores.items():\n",
    "    plt.plot(dataset_sizes, model_auc_scores, label=model_name)\n",
    "plt.xlabel('Training dataset size')\n",
    "plt.ylabel('AUC score')\n",
    "plt.legend()\n",
    "plt.show()"
   ]
  },
  {
   "cell_type": "code",
   "execution_count": 21,
   "id": "398002d2-85ce-4784-8f11-ae744c691890",
   "metadata": {
    "ExecuteTime": {
     "end_time": "2023-05-14T09:47:06.655843Z",
     "start_time": "2023-05-14T09:39:33.719378Z"
    },
    "colab": {
     "base_uri": "https://localhost:8080/",
     "height": 461
    },
    "executionInfo": {
     "elapsed": 1038,
     "status": "ok",
     "timestamp": 1684659106724,
     "user": {
      "displayName": "Myeonghak Lee",
      "userId": "01376346143254624391"
     },
     "user_tz": -540
    },
    "id": "398002d2-85ce-4784-8f11-ae744c691890",
    "outputId": "fea5c147-4f57-484e-e87c-f724683429af"
   },
   "outputs": [
    {
     "data": {
      "image/png": "[encoded data removed]",
      "text/plain": [
       "<Figure size 640x480 with 1 Axes>"
      ]
     },
     "metadata": {},
     "output_type": "display_data"
    }
   ],
   "source": [
    "# 가장 큰 데이터셋에 대해서, ROC 커브 그리기\n",
    "for model_name, model_roc_curves in roc_curves.items():\n",
    "    fpr, tpr = model_roc_curves[-1]  # Select the ROC curve for the largest dataset size\n",
    "    plot_roc_curve(fpr, tpr, label=f\"{model_name} (AUC = {auc_scores[model_name][-1]:.2f})\")\n",
    "plt.legend()\n",
    "plt.show()"
   ]
  },
  {
   "cell_type": "markdown",
   "id": "77cdbbf7-d661-4c35-a5b6-8f55b92e4b50",
   "metadata": {
    "id": "77cdbbf7-d661-4c35-a5b6-8f55b92e4b50"
   },
   "source": [
    "# 실제 예측 값 확인"
   ]
  },
  {
   "cell_type": "code",
   "execution_count": 22,
   "id": "c3431559-1c03-405a-b7a3-ab8b99dfaea2",
   "metadata": {
    "executionInfo": {
     "elapsed": 33,
     "status": "ok",
     "timestamp": 1684659106725,
     "user": {
      "displayName": "Myeonghak Lee",
      "userId": "01376346143254624391"
     },
     "user_tz": -540
    },
    "id": "c3431559-1c03-405a-b7a3-ab8b99dfaea2"
   },
   "outputs": [],
   "source": [
    "user_id = 20"
   ]
  },
  {
   "cell_type": "code",
   "execution_count": 23,
   "id": "4d277ce6-9358-4090-90eb-72ab227f9953",
   "metadata": {
    "executionInfo": {
     "elapsed": 33,
     "status": "ok",
     "timestamp": 1684659106725,
     "user": {
      "displayName": "Myeonghak Lee",
      "userId": "01376346143254624391"
     },
     "user_tz": -540
    },
    "id": "4d277ce6-9358-4090-90eb-72ab227f9953"
   },
   "outputs": [],
   "source": [
    "user_data = data[data['user_id'] == user_id]\n",
    "rated_animes = user_data['anime_id'].unique()\n",
    "unrated_animes = item_features[~item_features.index.isin(rated_animes)]"
   ]
  },
  {
   "cell_type": "code",
   "execution_count": 24,
   "id": "f12e579f-9b1a-4a6c-b322-da98876f27a5",
   "metadata": {
    "executionInfo": {
     "elapsed": 34,
     "status": "ok",
     "timestamp": 1684659106726,
     "user": {
      "displayName": "Myeonghak Lee",
      "userId": "01376346143254624391"
     },
     "user_tz": -540
    },
    "id": "f12e579f-9b1a-4a6c-b322-da98876f27a5"
   },
   "outputs": [],
   "source": [
    "# 유저 정보 붙여주기\n",
    "user_features_df = user_features.loc[user_id]\n",
    "unrated_animes = unrated_animes.assign(**user_features_df)"
   ]
  },
  {
   "cell_type": "code",
   "execution_count": 25,
   "id": "4Td8s40ijrS-",
   "metadata": {
    "colab": {
     "base_uri": "https://localhost:8080/"
    },
    "executionInfo": {
     "elapsed": 428,
     "status": "ok",
     "timestamp": 1684659946181,
     "user": {
      "displayName": "Myeonghak Lee",
      "userId": "01376346143254624391"
     },
     "user_tz": -540
    },
    "id": "4Td8s40ijrS-",
    "outputId": "f6d3953e-0116-4e3f-c678-13054cfd8aee"
   },
   "outputs": [
    {
     "data": {
      "text/plain": [
       "User-AvgRating      9.578947\n",
       "User-NumRatings    19.000000\n",
       "Name: 20, dtype: float64"
      ]
     },
     "execution_count": 25,
     "metadata": {},
     "output_type": "execute_result"
    }
   ],
   "source": [
    "user_features_df.head()"
   ]
  },
  {
   "cell_type": "code",
   "execution_count": 26,
   "id": "c350c38b-fd82-4f70-95e1-61c458fe210f",
   "metadata": {
    "colab": {
     "base_uri": "https://localhost:8080/",
     "height": 455
    },
    "executionInfo": {
     "elapsed": 34,
     "status": "ok",
     "timestamp": 1684659106726,
     "user": {
      "displayName": "Myeonghak Lee",
      "userId": "01376346143254624391"
     },
     "user_tz": -540
    },
    "id": "c350c38b-fd82-4f70-95e1-61c458fe210f",
    "outputId": "0326e056-9180-46ed-c31a-ce7a3128424d"
   },
   "outputs": [
    {
     "data": {
      "text/html": [
       "<div>\n",
       "<style scoped>\n",
       "    .dataframe tbody tr th:only-of-type {\n",
       "        vertical-align: middle;\n",
       "    }\n",
       "\n",
       "    .dataframe tbody tr th {\n",
       "        vertical-align: top;\n",
       "    }\n",
       "\n",
       "    .dataframe thead th {\n",
       "        text-align: right;\n",
       "    }\n",
       "</style>\n",
       "<table border=\"1\" class=\"dataframe\">\n",
       "  <thead>\n",
       "    <tr style=\"text-align: right;\">\n",
       "      <th></th>\n",
       "      <th>Item-NumRatings</th>\n",
       "      <th>039</th>\n",
       "      <th>animation</th>\n",
       "      <th>chan</th>\n",
       "      <th>ga</th>\n",
       "      <th>hen</th>\n",
       "      <th>kun</th>\n",
       "      <th>monogatari</th>\n",
       "      <th>movie</th>\n",
       "      <th>ni</th>\n",
       "      <th>...</th>\n",
       "      <th>Type-Movie</th>\n",
       "      <th>Type-Music</th>\n",
       "      <th>Type-ONA</th>\n",
       "      <th>Type-OVA</th>\n",
       "      <th>Type-Special</th>\n",
       "      <th>Type-TV</th>\n",
       "      <th>members</th>\n",
       "      <th>anime_total_rating</th>\n",
       "      <th>User-AvgRating</th>\n",
       "      <th>User-NumRatings</th>\n",
       "    </tr>\n",
       "    <tr>\n",
       "      <th>anime_id</th>\n",
       "      <th></th>\n",
       "      <th></th>\n",
       "      <th></th>\n",
       "      <th></th>\n",
       "      <th></th>\n",
       "      <th></th>\n",
       "      <th></th>\n",
       "      <th></th>\n",
       "      <th></th>\n",
       "      <th></th>\n",
       "      <th></th>\n",
       "      <th></th>\n",
       "      <th></th>\n",
       "      <th></th>\n",
       "      <th></th>\n",
       "      <th></th>\n",
       "      <th></th>\n",
       "      <th></th>\n",
       "      <th></th>\n",
       "      <th></th>\n",
       "      <th></th>\n",
       "    </tr>\n",
       "  </thead>\n",
       "  <tbody>\n",
       "    <tr>\n",
       "      <th>1</th>\n",
       "      <td>13449</td>\n",
       "      <td>0.0</td>\n",
       "      <td>0.0</td>\n",
       "      <td>0.0</td>\n",
       "      <td>0.0</td>\n",
       "      <td>0.0</td>\n",
       "      <td>0.0</td>\n",
       "      <td>0.0</td>\n",
       "      <td>0.0</td>\n",
       "      <td>0.0</td>\n",
       "      <td>...</td>\n",
       "      <td>0.0</td>\n",
       "      <td>0.0</td>\n",
       "      <td>0.0</td>\n",
       "      <td>0.0</td>\n",
       "      <td>0.0</td>\n",
       "      <td>1.0</td>\n",
       "      <td>486824</td>\n",
       "      <td>8.82</td>\n",
       "      <td>9.578947</td>\n",
       "      <td>19.0</td>\n",
       "    </tr>\n",
       "    <tr>\n",
       "      <th>5</th>\n",
       "      <td>5790</td>\n",
       "      <td>0.0</td>\n",
       "      <td>0.0</td>\n",
       "      <td>0.0</td>\n",
       "      <td>0.0</td>\n",
       "      <td>0.0</td>\n",
       "      <td>0.0</td>\n",
       "      <td>0.0</td>\n",
       "      <td>0.0</td>\n",
       "      <td>0.0</td>\n",
       "      <td>...</td>\n",
       "      <td>1.0</td>\n",
       "      <td>0.0</td>\n",
       "      <td>0.0</td>\n",
       "      <td>0.0</td>\n",
       "      <td>0.0</td>\n",
       "      <td>0.0</td>\n",
       "      <td>137636</td>\n",
       "      <td>8.40</td>\n",
       "      <td>9.578947</td>\n",
       "      <td>19.0</td>\n",
       "    </tr>\n",
       "    <tr>\n",
       "      <th>6</th>\n",
       "      <td>9385</td>\n",
       "      <td>0.0</td>\n",
       "      <td>0.0</td>\n",
       "      <td>0.0</td>\n",
       "      <td>0.0</td>\n",
       "      <td>0.0</td>\n",
       "      <td>0.0</td>\n",
       "      <td>0.0</td>\n",
       "      <td>0.0</td>\n",
       "      <td>0.0</td>\n",
       "      <td>...</td>\n",
       "      <td>0.0</td>\n",
       "      <td>0.0</td>\n",
       "      <td>0.0</td>\n",
       "      <td>0.0</td>\n",
       "      <td>0.0</td>\n",
       "      <td>1.0</td>\n",
       "      <td>283069</td>\n",
       "      <td>8.32</td>\n",
       "      <td>9.578947</td>\n",
       "      <td>19.0</td>\n",
       "    </tr>\n",
       "    <tr>\n",
       "      <th>7</th>\n",
       "      <td>2169</td>\n",
       "      <td>0.0</td>\n",
       "      <td>0.0</td>\n",
       "      <td>0.0</td>\n",
       "      <td>0.0</td>\n",
       "      <td>0.0</td>\n",
       "      <td>0.0</td>\n",
       "      <td>0.0</td>\n",
       "      <td>0.0</td>\n",
       "      <td>0.0</td>\n",
       "      <td>...</td>\n",
       "      <td>0.0</td>\n",
       "      <td>0.0</td>\n",
       "      <td>0.0</td>\n",
       "      <td>0.0</td>\n",
       "      <td>0.0</td>\n",
       "      <td>1.0</td>\n",
       "      <td>64905</td>\n",
       "      <td>7.36</td>\n",
       "      <td>9.578947</td>\n",
       "      <td>19.0</td>\n",
       "    </tr>\n",
       "    <tr>\n",
       "      <th>8</th>\n",
       "      <td>308</td>\n",
       "      <td>0.0</td>\n",
       "      <td>0.0</td>\n",
       "      <td>0.0</td>\n",
       "      <td>0.0</td>\n",
       "      <td>0.0</td>\n",
       "      <td>0.0</td>\n",
       "      <td>0.0</td>\n",
       "      <td>0.0</td>\n",
       "      <td>0.0</td>\n",
       "      <td>...</td>\n",
       "      <td>0.0</td>\n",
       "      <td>0.0</td>\n",
       "      <td>0.0</td>\n",
       "      <td>0.0</td>\n",
       "      <td>0.0</td>\n",
       "      <td>1.0</td>\n",
       "      <td>9848</td>\n",
       "      <td>7.06</td>\n",
       "      <td>9.578947</td>\n",
       "      <td>19.0</td>\n",
       "    </tr>\n",
       "    <tr>\n",
       "      <th>...</th>\n",
       "      <td>...</td>\n",
       "      <td>...</td>\n",
       "      <td>...</td>\n",
       "      <td>...</td>\n",
       "      <td>...</td>\n",
       "      <td>...</td>\n",
       "      <td>...</td>\n",
       "      <td>...</td>\n",
       "      <td>...</td>\n",
       "      <td>...</td>\n",
       "      <td>...</td>\n",
       "      <td>...</td>\n",
       "      <td>...</td>\n",
       "      <td>...</td>\n",
       "      <td>...</td>\n",
       "      <td>...</td>\n",
       "      <td>...</td>\n",
       "      <td>...</td>\n",
       "      <td>...</td>\n",
       "      <td>...</td>\n",
       "      <td>...</td>\n",
       "    </tr>\n",
       "    <tr>\n",
       "      <th>34324</th>\n",
       "      <td>11</td>\n",
       "      <td>0.0</td>\n",
       "      <td>0.0</td>\n",
       "      <td>0.0</td>\n",
       "      <td>0.0</td>\n",
       "      <td>0.0</td>\n",
       "      <td>0.0</td>\n",
       "      <td>0.0</td>\n",
       "      <td>0.0</td>\n",
       "      <td>0.0</td>\n",
       "      <td>...</td>\n",
       "      <td>0.0</td>\n",
       "      <td>0.0</td>\n",
       "      <td>1.0</td>\n",
       "      <td>0.0</td>\n",
       "      <td>0.0</td>\n",
       "      <td>0.0</td>\n",
       "      <td>817</td>\n",
       "      <td>5.40</td>\n",
       "      <td>9.578947</td>\n",
       "      <td>19.0</td>\n",
       "    </tr>\n",
       "    <tr>\n",
       "      <th>34325</th>\n",
       "      <td>15</td>\n",
       "      <td>0.0</td>\n",
       "      <td>0.0</td>\n",
       "      <td>0.0</td>\n",
       "      <td>0.0</td>\n",
       "      <td>0.0</td>\n",
       "      <td>0.0</td>\n",
       "      <td>0.0</td>\n",
       "      <td>0.0</td>\n",
       "      <td>0.0</td>\n",
       "      <td>...</td>\n",
       "      <td>0.0</td>\n",
       "      <td>0.0</td>\n",
       "      <td>0.0</td>\n",
       "      <td>0.0</td>\n",
       "      <td>1.0</td>\n",
       "      <td>0.0</td>\n",
       "      <td>1454</td>\n",
       "      <td>7.05</td>\n",
       "      <td>9.578947</td>\n",
       "      <td>19.0</td>\n",
       "    </tr>\n",
       "    <tr>\n",
       "      <th>34349</th>\n",
       "      <td>3</td>\n",
       "      <td>0.0</td>\n",
       "      <td>0.0</td>\n",
       "      <td>0.0</td>\n",
       "      <td>0.0</td>\n",
       "      <td>0.0</td>\n",
       "      <td>0.0</td>\n",
       "      <td>0.0</td>\n",
       "      <td>0.0</td>\n",
       "      <td>0.0</td>\n",
       "      <td>...</td>\n",
       "      <td>0.0</td>\n",
       "      <td>0.0</td>\n",
       "      <td>0.0</td>\n",
       "      <td>1.0</td>\n",
       "      <td>0.0</td>\n",
       "      <td>0.0</td>\n",
       "      <td>1885</td>\n",
       "      <td>7.25</td>\n",
       "      <td>9.578947</td>\n",
       "      <td>19.0</td>\n",
       "    </tr>\n",
       "    <tr>\n",
       "      <th>34367</th>\n",
       "      <td>4</td>\n",
       "      <td>0.0</td>\n",
       "      <td>0.0</td>\n",
       "      <td>0.0</td>\n",
       "      <td>0.0</td>\n",
       "      <td>0.0</td>\n",
       "      <td>0.0</td>\n",
       "      <td>0.0</td>\n",
       "      <td>0.0</td>\n",
       "      <td>0.0</td>\n",
       "      <td>...</td>\n",
       "      <td>0.0</td>\n",
       "      <td>0.0</td>\n",
       "      <td>0.0</td>\n",
       "      <td>0.0</td>\n",
       "      <td>1.0</td>\n",
       "      <td>0.0</td>\n",
       "      <td>582</td>\n",
       "      <td>5.97</td>\n",
       "      <td>9.578947</td>\n",
       "      <td>19.0</td>\n",
       "    </tr>\n",
       "    <tr>\n",
       "      <th>34475</th>\n",
       "      <td>3</td>\n",
       "      <td>0.0</td>\n",
       "      <td>0.0</td>\n",
       "      <td>0.0</td>\n",
       "      <td>0.0</td>\n",
       "      <td>0.0</td>\n",
       "      <td>0.0</td>\n",
       "      <td>0.0</td>\n",
       "      <td>0.0</td>\n",
       "      <td>0.0</td>\n",
       "      <td>...</td>\n",
       "      <td>0.0</td>\n",
       "      <td>0.0</td>\n",
       "      <td>1.0</td>\n",
       "      <td>0.0</td>\n",
       "      <td>0.0</td>\n",
       "      <td>0.0</td>\n",
       "      <td>313</td>\n",
       "      <td>6.58</td>\n",
       "      <td>9.578947</td>\n",
       "      <td>19.0</td>\n",
       "    </tr>\n",
       "  </tbody>\n",
       "</table>\n",
       "<p>9873 rows × 31 columns</p>\n",
       "</div>"
      ],
      "text/plain": [
       "          Item-NumRatings  039  animation  chan   ga  hen  kun  monogatari   \n",
       "anime_id                                                                     \n",
       "1                   13449  0.0        0.0   0.0  0.0  0.0  0.0         0.0  \\\n",
       "5                    5790  0.0        0.0   0.0  0.0  0.0  0.0         0.0   \n",
       "6                    9385  0.0        0.0   0.0  0.0  0.0  0.0         0.0   \n",
       "7                    2169  0.0        0.0   0.0  0.0  0.0  0.0         0.0   \n",
       "8                     308  0.0        0.0   0.0  0.0  0.0  0.0         0.0   \n",
       "...                   ...  ...        ...   ...  ...  ...  ...         ...   \n",
       "34324                  11  0.0        0.0   0.0  0.0  0.0  0.0         0.0   \n",
       "34325                  15  0.0        0.0   0.0  0.0  0.0  0.0         0.0   \n",
       "34349                   3  0.0        0.0   0.0  0.0  0.0  0.0         0.0   \n",
       "34367                   4  0.0        0.0   0.0  0.0  0.0  0.0         0.0   \n",
       "34475                   3  0.0        0.0   0.0  0.0  0.0  0.0         0.0   \n",
       "\n",
       "          movie   ni  ...  Type-Movie  Type-Music  Type-ONA  Type-OVA   \n",
       "anime_id              ...                                               \n",
       "1           0.0  0.0  ...         0.0         0.0       0.0       0.0  \\\n",
       "5           0.0  0.0  ...         1.0         0.0       0.0       0.0   \n",
       "6           0.0  0.0  ...         0.0         0.0       0.0       0.0   \n",
       "7           0.0  0.0  ...         0.0         0.0       0.0       0.0   \n",
       "8           0.0  0.0  ...         0.0         0.0       0.0       0.0   \n",
       "...         ...  ...  ...         ...         ...       ...       ...   \n",
       "34324       0.0  0.0  ...         0.0         0.0       1.0       0.0   \n",
       "34325       0.0  0.0  ...         0.0         0.0       0.0       0.0   \n",
       "34349       0.0  0.0  ...         0.0         0.0       0.0       1.0   \n",
       "34367       0.0  0.0  ...         0.0         0.0       0.0       0.0   \n",
       "34475       0.0  0.0  ...         0.0         0.0       1.0       0.0   \n",
       "\n",
       "          Type-Special  Type-TV  members  anime_total_rating  User-AvgRating   \n",
       "anime_id                                                                       \n",
       "1                  0.0      1.0   486824                8.82        9.578947  \\\n",
       "5                  0.0      0.0   137636                8.40        9.578947   \n",
       "6                  0.0      1.0   283069                8.32        9.578947   \n",
       "7                  0.0      1.0    64905                7.36        9.578947   \n",
       "8                  0.0      1.0     9848                7.06        9.578947   \n",
       "...                ...      ...      ...                 ...             ...   \n",
       "34324              0.0      0.0      817                5.40        9.578947   \n",
       "34325              1.0      0.0     1454                7.05        9.578947   \n",
       "34349              0.0      0.0     1885                7.25        9.578947   \n",
       "34367              1.0      0.0      582                5.97        9.578947   \n",
       "34475              0.0      0.0      313                6.58        9.578947   \n",
       "\n",
       "          User-NumRatings  \n",
       "anime_id                   \n",
       "1                    19.0  \n",
       "5                    19.0  \n",
       "6                    19.0  \n",
       "7                    19.0  \n",
       "8                    19.0  \n",
       "...                   ...  \n",
       "34324                19.0  \n",
       "34325                19.0  \n",
       "34349                19.0  \n",
       "34367                19.0  \n",
       "34475                19.0  \n",
       "\n",
       "[9873 rows x 31 columns]"
      ]
     },
     "execution_count": 26,
     "metadata": {},
     "output_type": "execute_result"
    }
   ],
   "source": [
    "unrated_animes.assign(**user_features_df)"
   ]
  },
  {
   "cell_type": "code",
   "execution_count": 27,
   "id": "ad4f3452-a28c-45d5-a26b-cd3cd8c1645a",
   "metadata": {
    "executionInfo": {
     "elapsed": 32,
     "status": "ok",
     "timestamp": 1684659106726,
     "user": {
      "displayName": "Myeonghak Lee",
      "userId": "01376346143254624391"
     },
     "user_tz": -540
    },
    "id": "ad4f3452-a28c-45d5-a26b-cd3cd8c1645a"
   },
   "outputs": [],
   "source": [
    "def recommend_top_n(user_id, model, n=5):\n",
    "    # 아직 유저가 평가하지 않은 애니 가져오기\n",
    "    user_data = data[data['user_id'] == user_id]\n",
    "    rated_animes = user_data['anime_id'].unique()\n",
    "    unrated_animes = item_features[~item_features.index.isin(rated_animes)]\n",
    "    \n",
    "    # 유저 정보 붙여주기\n",
    "    user_features_df = user_features.loc[user_id]\n",
    "    unrated_animes = unrated_animes.assign(**user_features_df)\n",
    "\n",
    "    # 해당 유저 대상으로 모델 예측\n",
    "    unrated_animes['predicted_rating'] = model.predict_proba(unrated_animes)[:, 1]\n",
    "\n",
    "    # 상위 N개의 평점 예측\n",
    "    top_n_animes = unrated_animes.sort_values('predicted_rating', ascending=False).head(n)\n",
    "\n",
    "    return top_n_animes"
   ]
  },
  {
   "cell_type": "code",
   "execution_count": 28,
   "id": "56997ced-49f9-445d-bfc0-1bdd7407e7e9",
   "metadata": {
    "colab": {
     "base_uri": "https://localhost:8080/",
     "height": 224
    },
    "executionInfo": {
     "elapsed": 32,
     "status": "ok",
     "timestamp": 1684659106726,
     "user": {
      "displayName": "Myeonghak Lee",
      "userId": "01376346143254624391"
     },
     "user_tz": -540
    },
    "id": "56997ced-49f9-445d-bfc0-1bdd7407e7e9",
    "outputId": "fb9c7183-44a1-4463-ce7a-5370f1e2d638"
   },
   "outputs": [
    {
     "name": "stdout",
     "output_type": "stream",
     "text": [
      "Top 5 anime recommendations for user 26:\n"
     ]
    },
    {
     "data": {
      "text/html": [
       "<div>\n",
       "<style scoped>\n",
       "    .dataframe tbody tr th:only-of-type {\n",
       "        vertical-align: middle;\n",
       "    }\n",
       "\n",
       "    .dataframe tbody tr th {\n",
       "        vertical-align: top;\n",
       "    }\n",
       "\n",
       "    .dataframe thead th {\n",
       "        text-align: right;\n",
       "    }\n",
       "</style>\n",
       "<table border=\"1\" class=\"dataframe\">\n",
       "  <thead>\n",
       "    <tr style=\"text-align: right;\">\n",
       "      <th></th>\n",
       "      <th>predicted_rating</th>\n",
       "      <th>anime_id</th>\n",
       "      <th>type</th>\n",
       "      <th>anime_total_rating</th>\n",
       "      <th>members</th>\n",
       "      <th>name</th>\n",
       "      <th>genre</th>\n",
       "    </tr>\n",
       "  </thead>\n",
       "  <tbody>\n",
       "    <tr>\n",
       "      <th>7904</th>\n",
       "      <td>0.306004</td>\n",
       "      <td>2778</td>\n",
       "      <td>OVA</td>\n",
       "      <td>4.70</td>\n",
       "      <td>573</td>\n",
       "      <td>Generation of Chaos III: Toki no Fuuin</td>\n",
       "      <td>Action, Adventure, Fantasy, Magic</td>\n",
       "    </tr>\n",
       "    <tr>\n",
       "      <th>3206</th>\n",
       "      <td>0.268808</td>\n",
       "      <td>2749</td>\n",
       "      <td>TV</td>\n",
       "      <td>7.05</td>\n",
       "      <td>428</td>\n",
       "      <td>Heisei Inu Monogatari Bow</td>\n",
       "      <td>Adventure, Comedy</td>\n",
       "    </tr>\n",
       "    <tr>\n",
       "      <th>5041</th>\n",
       "      <td>0.268808</td>\n",
       "      <td>7496</td>\n",
       "      <td>Movie</td>\n",
       "      <td>6.57</td>\n",
       "      <td>574</td>\n",
       "      <td>Saiyuuki: Son Gokuu Monogatari</td>\n",
       "      <td>Adventure</td>\n",
       "    </tr>\n",
       "    <tr>\n",
       "      <th>9041</th>\n",
       "      <td>0.259080</td>\n",
       "      <td>19627</td>\n",
       "      <td>OVA</td>\n",
       "      <td>5.73</td>\n",
       "      <td>162</td>\n",
       "      <td>Junkers Come Here: Memories of You</td>\n",
       "      <td>Drama, Slice of Life</td>\n",
       "    </tr>\n",
       "    <tr>\n",
       "      <th>4133</th>\n",
       "      <td>0.255129</td>\n",
       "      <td>29697</td>\n",
       "      <td>Special</td>\n",
       "      <td>6.80</td>\n",
       "      <td>813</td>\n",
       "      <td>Prince of Tennis: Message in a Bottle</td>\n",
       "      <td>Comedy, School, Shounen, Sports</td>\n",
       "    </tr>\n",
       "  </tbody>\n",
       "</table>\n",
       "</div>"
      ],
      "text/plain": [
       "      predicted_rating  anime_id     type  anime_total_rating  members   \n",
       "7904          0.306004      2778      OVA                4.70      573  \\\n",
       "3206          0.268808      2749       TV                7.05      428   \n",
       "5041          0.268808      7496    Movie                6.57      574   \n",
       "9041          0.259080     19627      OVA                5.73      162   \n",
       "4133          0.255129     29697  Special                6.80      813   \n",
       "\n",
       "                                        name   \n",
       "7904  Generation of Chaos III: Toki no Fuuin  \\\n",
       "3206               Heisei Inu Monogatari Bow   \n",
       "5041          Saiyuuki: Son Gokuu Monogatari   \n",
       "9041      Junkers Come Here: Memories of You   \n",
       "4133   Prince of Tennis: Message in a Bottle   \n",
       "\n",
       "                                  genre  \n",
       "7904  Action, Adventure, Fantasy, Magic  \n",
       "3206                  Adventure, Comedy  \n",
       "5041                          Adventure  \n",
       "9041               Drama, Slice of Life  \n",
       "4133    Comedy, School, Shounen, Sports  "
      ]
     },
     "metadata": {},
     "output_type": "display_data"
    }
   ],
   "source": [
    "# 특정 유저에 대한 상위 n개 예측 생성\n",
    "user_id = 26\n",
    "top_n = recommend_top_n(user_id, models['LGBM'], n=5)[['predicted_rating']]\n",
    "\n",
    "# top n개 예측의 상세 정보\n",
    "top_n_details = top_n.merge(animes, how='left', left_index=True, right_on='anime_id')\n",
    "\n",
    "print(f'Top 5 anime recommendations for user {user_id}:')\n",
    "display(top_n_details)"
   ]
  },
  {
   "cell_type": "code",
   "execution_count": 40,
   "id": "c8c3e363-5c81-45c2-ad5b-6b82a5591a25",
   "metadata": {
    "executionInfo": {
     "elapsed": 29,
     "status": "ok",
     "timestamp": 1684659106726,
     "user": {
      "displayName": "Myeonghak Lee",
      "userId": "01376346143254624391"
     },
     "user_tz": -540
    },
    "id": "c8c3e363-5c81-45c2-ad5b-6b82a5591a25"
   },
   "outputs": [],
   "source": []
  },
  {
   "cell_type": "code",
   "execution_count": 29,
   "id": "301225f0-1125-4662-a3dd-f30bb27807a1",
   "metadata": {
    "executionInfo": {
     "elapsed": 29,
     "status": "ok",
     "timestamp": 1684659106726,
     "user": {
      "displayName": "Myeonghak Lee",
      "userId": "01376346143254624391"
     },
     "user_tz": -540
    },
    "id": "301225f0-1125-4662-a3dd-f30bb27807a1"
   },
   "outputs": [],
   "source": [
    "# 좋은 평점을 준 애니 검색\n",
    "user_ratings = ratings[ratings['user_id'] == user_id]\n",
    "well_rated_animes = user_ratings[user_ratings['rating'] >= user_ratings['rating'].mean()]\n",
    "\n",
    "# 상세 정보 조회\n",
    "well_rated_details = animes[animes['anime_id'].isin(well_rated_animes['anime_id'])]\n",
    "\n",
    "# 평점 정보를 포함한 좋은 평점 정보 출력\n",
    "well_rated_details = well_rated_details.merge(well_rated_animes[['anime_id', 'rating']], on='anime_id', how='inner')\n"
   ]
  },
  {
   "cell_type": "code",
   "execution_count": 30,
   "id": "5c00992d-27b5-4ed8-b1b4-14f1d90b735a",
   "metadata": {
    "ExecuteTime": {
     "end_time": "2023-05-14T09:47:06.745863Z",
     "start_time": "2023-05-14T09:47:06.689851Z"
    },
    "colab": {
     "base_uri": "https://localhost:8080/",
     "height": 147
    },
    "executionInfo": {
     "elapsed": 29,
     "status": "ok",
     "timestamp": 1684659106727,
     "user": {
      "displayName": "Myeonghak Lee",
      "userId": "01376346143254624391"
     },
     "user_tz": -540
    },
    "id": "5c00992d-27b5-4ed8-b1b4-14f1d90b735a",
    "outputId": "6dba5f5d-02bf-4a31-fb1d-54461e92c40e"
   },
   "outputs": [
    {
     "name": "stdout",
     "output_type": "stream",
     "text": [
      "\n",
      "Well-rated animes by user 26:\n"
     ]
    },
    {
     "data": {
      "text/html": [
       "<div>\n",
       "<style scoped>\n",
       "    .dataframe tbody tr th:only-of-type {\n",
       "        vertical-align: middle;\n",
       "    }\n",
       "\n",
       "    .dataframe tbody tr th {\n",
       "        vertical-align: top;\n",
       "    }\n",
       "\n",
       "    .dataframe thead th {\n",
       "        text-align: right;\n",
       "    }\n",
       "</style>\n",
       "<table border=\"1\" class=\"dataframe\">\n",
       "  <thead>\n",
       "    <tr style=\"text-align: right;\">\n",
       "      <th></th>\n",
       "      <th>anime_id</th>\n",
       "      <th>type</th>\n",
       "      <th>anime_total_rating</th>\n",
       "      <th>members</th>\n",
       "      <th>name</th>\n",
       "      <th>genre</th>\n",
       "      <th>rating</th>\n",
       "    </tr>\n",
       "  </thead>\n",
       "  <tbody>\n",
       "    <tr>\n",
       "      <th>0</th>\n",
       "      <td>8525</td>\n",
       "      <td>TV</td>\n",
       "      <td>7.95</td>\n",
       "      <td>284846</td>\n",
       "      <td>Kami nomi zo Shiru Sekai</td>\n",
       "      <td>Comedy, Harem, Romance, Shounen, Supernatural</td>\n",
       "      <td>10</td>\n",
       "    </tr>\n",
       "    <tr>\n",
       "      <th>1</th>\n",
       "      <td>10793</td>\n",
       "      <td>TV</td>\n",
       "      <td>7.81</td>\n",
       "      <td>460959</td>\n",
       "      <td>Guilty Crown</td>\n",
       "      <td>Action, Drama, Sci-Fi, Super Power</td>\n",
       "      <td>10</td>\n",
       "    </tr>\n",
       "  </tbody>\n",
       "</table>\n",
       "</div>"
      ],
      "text/plain": [
       "   anime_id type  anime_total_rating  members                      name   \n",
       "0      8525   TV                7.95   284846  Kami nomi zo Shiru Sekai  \\\n",
       "1     10793   TV                7.81   460959              Guilty Crown   \n",
       "\n",
       "                                           genre  rating  \n",
       "0  Comedy, Harem, Romance, Shounen, Supernatural      10  \n",
       "1             Action, Drama, Sci-Fi, Super Power      10  "
      ]
     },
     "metadata": {},
     "output_type": "display_data"
    }
   ],
   "source": [
    "print(f'\\nWell-rated animes by user {user_id}:')\n",
    "display(well_rated_details)"
   ]
  },
  {
   "cell_type": "markdown",
   "id": "b0b7f035",
   "metadata": {
    "id": "b0b7f035"
   },
   "source": [
    "# Feature Importance 플롯"
   ]
  },
  {
   "cell_type": "code",
   "execution_count": 31,
   "id": "QUjjI3zsY9qW",
   "metadata": {
    "colab": {
     "base_uri": "https://localhost:8080/",
     "height": 911
    },
    "executionInfo": {
     "elapsed": 1393,
     "status": "ok",
     "timestamp": 1684658937281,
     "user": {
      "displayName": "Myeonghak Lee",
      "userId": "01376346143254624391"
     },
     "user_tz": -540
    },
    "id": "QUjjI3zsY9qW",
    "outputId": "e029f823-ad70-4599-a3c3-2e7b6bfdad3e"
   },
   "outputs": [
    {
     "data": {
      "image/png": "[encoded data removed]",
      "text/plain": [
       "<Figure size 2000x1000 with 1 Axes>"
      ]
     },
     "metadata": {},
     "output_type": "display_data"
    }
   ],
   "source": [
    "import matplotlib.pyplot as plt\n",
    "import seaborn as sns\n",
    "\n",
    "# model = models['lgbm']\n",
    "\n",
    "feature_imp = pd.DataFrame(sorted(zip(model.feature_importances_,X_train.columns)), columns=['Value','Feature'])\n",
    "\n",
    "plt.figure(figsize=(20, 10))\n",
    "sns.barplot(x=\"Value\", y=\"Feature\", data=feature_imp.sort_values(by=\"Value\", ascending=False))\n",
    "plt.title('LightGBM Features (avg over folds)')\n",
    "plt.tight_layout()\n",
    "plt.show()"
   ]
  },
  {
   "cell_type": "markdown",
   "id": "c50539ac",
   "metadata": {},
   "source": [
    "* Try things\n",
    "    * hyper-params tuning\n",
    "    * Feature engineering\n",
    "        * genres / rating stats ...."
   ]
  },
  {
   "cell_type": "code",
   "execution_count": null,
   "id": "khkpvhcKZZxJ",
   "metadata": {
    "id": "khkpvhcKZZxJ"
   },
   "outputs": [],
   "source": []
  }
 ],
 "metadata": {
  "colab": {
   "provenance": []
  },
  "kernelspec": {
   "display_name": "bq_python",
   "language": "python",
   "name": "python3"
  },
  "language_info": {
   "codemirror_mode": {
    "name": "ipython",
    "version": 3
   },
   "file_extension": ".py",
   "mimetype": "text/x-python",
   "name": "python",
   "nbconvert_exporter": "python",
   "pygments_lexer": "ipython3",
   "version": "3.9.16"
  },
  "toc": {
   "base_numbering": 1,
   "nav_menu": {},
   "number_sections": true,
   "sideBar": true,
   "skip_h1_title": false,
   "title_cell": "Table of Contents",
   "title_sidebar": "Contents",
   "toc_cell": false,
   "toc_position": {},
   "toc_section_display": true,
   "toc_window_display": false
  }
 },
 "nbformat": 4,
 "nbformat_minor": 5
}
